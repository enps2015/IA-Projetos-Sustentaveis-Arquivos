{
  "nbformat": 4,
  "nbformat_minor": 0,
  "metadata": {
    "colab": {
      "provenance": []
    },
    "kernelspec": {
      "name": "python3",
      "display_name": "Python 3"
    },
    "language_info": {
      "name": "python"
    }
  },
  "cells": [
    {
      "cell_type": "code",
      "execution_count": 2,
      "metadata": {
        "colab": {
          "base_uri": "https://localhost:8080/",
          "height": 1000
        },
        "id": "rg3inWb1jSuX",
        "outputId": "642fdee4-2c36-473d-d181-2794614a5ffa",
        "cellView": "form"
      },
      "outputs": [
        {
          "output_type": "display_data",
          "data": {
            "text/plain": [
              "<IPython.core.display.HTML object>"
            ],
            "text/html": [
              "<img src=\"https://i.postimg.cc/pd876Kfr/header-bloco3-encontro10.jpg\" style=\"display: block; margin: 0 auto; width: 100%; height: 100%; object-fit: contain\">"
            ]
          },
          "metadata": {}
        },
        {
          "output_type": "display_data",
          "data": {
            "text/plain": [
              "<IPython.core.display.HTML object>"
            ],
            "text/html": [
              "\n",
              "  <div style=\"width:100%; color: black; background-color:none; margin-top:20px\">\n",
              "    <div style=\"float: left; width: 45%; margin-top:10px\">\n",
              "      <h1 style=\"color:#000; margin-bottom:10px\">Sobre o curso</h1>\n",
              "      <p style=\"font-size:16px; line-height: 23px; text-align:justify\">\n",
              "        O curso Inteligência Artificial Aplicada aos Desafios Socioambientais da Amazônia, promovido pelo Instituto de Inteligência Artificial Aplicada (I2A2), é uma iniciativa pioneira voltada para capacitar moradores do Pará e da região Norte. Com duração de seis meses, combina aulas online, atividades assíncronas, workshops práticos, encontros com especialistas e mentoria contínua. O objetivo é aplicar a IA de forma prática em problemas ambientais reais, em alinhamento com as diretrizes e temas da COP30.\n",
              "      </p3>\n",
              "      <p style=\"font-size:16px; line-height: 23px; text-align:justify\">\n",
              "        Ao longo do curso, os participantes exploram desde fundamentos de Machine Learning até IA Generativa, trabalhando com dados ambientais da Amazônia para enfrentar questões como desmatamento, queimadas, qualidade da água e riscos climáticos. Cada grupo finaliza sua jornada com um projeto integrador, apresentando soluções sustentáveis e socialmente viáveis. A formação busca fortalecer competências técnicas e o protagonismo de lideranças locais, articulando ciência, tecnologia e justiça ambiental, consolidando a Amazônia como polo de inovação para o desenvolvimento sustentável.\n",
              "      </p>\n",
              "    </div>\n",
              "    <div style=\"float: left; width: 55%; display: flex; justify-content: center; align-items: center;\">\n",
              "      <center>\n",
              "        <img style=\"margin-top:80px;width:420px\" src=\"https://i.postimg.cc/0jLdTyMD/logo-i2a2.png\" />\n",
              "      </center>\n",
              "    </div>\n",
              "  </div>\n",
              "  <div style=”clear: both”></div>\n",
              "  <div style=\"width:100%; color: black; background-color:none; margin-top:20px\">\n",
              "  <div style=\"float: left; width: 100%;\">\n",
              "    <center>\n",
              "        <img style=\"margin-top:80px;width:200px\" src=\"https://i.postimg.cc/qqXsDh6F/separator-python.png\" />\n",
              "      </center>\n",
              "  </div>\n",
              "  </div>\n",
              "\n"
            ]
          },
          "metadata": {}
        }
      ],
      "source": [
        "# @title\n",
        "# Curso IA Aplicada aos Desafios Socioambientais da Amazônia\n",
        "# Notebook desenvolvido por: Onédio S Seabra junior\n",
        "# Atualização : 1o de julho de 2025\n",
        "\n",
        "from IPython.display import display, HTML\n",
        "\n",
        "# O caminho para a imagem\n",
        "header_img = 'https://i.postimg.cc/pd876Kfr/header-bloco3-encontro10.jpg'\n",
        "# O código HTML para exibir a imagem em tamanho original e centralizada\n",
        "html = f'<img src=\"{header_img}\" style=\"display: block; margin: 0 auto; width: 100%; height: 100%; object-fit: contain\">'\n",
        "# Exibe a imagem usando o display do IPython e o HTML\n",
        "display(HTML(html))\n",
        "\n",
        "# apresenta Sobre o Curso\n",
        "html_sobre = '''\n",
        "  <div style=\"width:100%; color: black; background-color:none; margin-top:20px\">\n",
        "    <div style=\"float: left; width: 45%; margin-top:10px\">\n",
        "      <h1 style=\"color:#000; margin-bottom:10px\">Sobre o curso</h1>\n",
        "      <p style=\"font-size:16px; line-height: 23px; text-align:justify\">\n",
        "        O curso Inteligência Artificial Aplicada aos Desafios Socioambientais da Amazônia, promovido pelo Instituto de Inteligência Artificial Aplicada (I2A2), é uma iniciativa pioneira voltada para capacitar moradores do Pará e da região Norte. Com duração de seis meses, combina aulas online, atividades assíncronas, workshops práticos, encontros com especialistas e mentoria contínua. O objetivo é aplicar a IA de forma prática em problemas ambientais reais, em alinhamento com as diretrizes e temas da COP30.\n",
        "      </p3>\n",
        "      <p style=\"font-size:16px; line-height: 23px; text-align:justify\">\n",
        "        Ao longo do curso, os participantes exploram desde fundamentos de Machine Learning até IA Generativa, trabalhando com dados ambientais da Amazônia para enfrentar questões como desmatamento, queimadas, qualidade da água e riscos climáticos. Cada grupo finaliza sua jornada com um projeto integrador, apresentando soluções sustentáveis e socialmente viáveis. A formação busca fortalecer competências técnicas e o protagonismo de lideranças locais, articulando ciência, tecnologia e justiça ambiental, consolidando a Amazônia como polo de inovação para o desenvolvimento sustentável.\n",
        "      </p>\n",
        "    </div>\n",
        "    <div style=\"float: left; width: 55%; display: flex; justify-content: center; align-items: center;\">\n",
        "      <center>\n",
        "        <img style=\"margin-top:80px;width:420px\" src=\"https://i.postimg.cc/0jLdTyMD/logo-i2a2.png\" />\n",
        "      </center>\n",
        "    </div>\n",
        "  </div>\n",
        "  <div style=”clear: both”></div>\n",
        "  <div style=\"width:100%; color: black; background-color:none; margin-top:20px\">\n",
        "  <div style=\"float: left; width: 100%;\">\n",
        "    <center>\n",
        "        <img style=\"margin-top:80px;width:200px\" src=\"https://i.postimg.cc/qqXsDh6F/separator-python.png\" />\n",
        "      </center>\n",
        "  </div>\n",
        "  </div>\n",
        "\n",
        "'''\n",
        "display(HTML(html_sobre))\n"
      ]
    },
    {
      "cell_type": "markdown",
      "source": [
        "# **&#9776; Trilha do Conhecimento**"
      ],
      "metadata": {
        "id": "zNUlCyVQTwga"
      }
    },
    {
      "cell_type": "markdown",
      "source": [
        "<h4 align=\"justify\">&bullet; Criação e chamada de funções simples.</h4>\n",
        "<h4 align=\"justify\">&bullet; Organização de dados em listas.</h4>\n",
        "<h4 align=\"justify\">&bullet; Atividade: calcular média móvel de área desmatada.</h4>\n",
        "<h4 align=\"justify\">&bullet; Desafio 5</h4>"
      ],
      "metadata": {
        "id": "bL_52DBLUhYk"
      }
    },
    {
      "cell_type": "markdown",
      "source": [
        "# **&#9776; FUNÇÕES**"
      ],
      "metadata": {
        "id": "YbGvwa81P6qv"
      }
    },
    {
      "cell_type": "markdown",
      "source": [
        "<h4 align=\"justify\">Funções são blocos de código reutilizáveis que só são executados quando chamados. Elas permitem que o programador organize melhor seu código, evitando repetições e facilitando a manutenção. Uma função pode receber dados de entrada, <b>chamados de parâmetros</b>, que são utilizados para realizar alguma operação interna. <b>Ao final da execução, ela pode retornar um resultado</b, como um número, uma mensagem ou até uma estrutura mais complexa. Essa lógica torna o código mais modular e eficiente, já que podemos escrever uma função uma única vez e utilizá-la sempre que necessário.</h4>\n",
        "<h4 align=\"justify\">Para exemplificar e refletir, podemos comparar uma função a um pequeno agente que recebe dados do ambiente – como temperatura, umidade ou imagens de satélite – e entrega respostas importantes para ações ambientais. Por exemplo, uma função pode ser responsável por analisar dados de monitoramento florestal e retornar alertas de risco de desmatamento. Dessa forma, as funções são fundamentais para transformar dados em decisões, contribuindo com soluções tecnológicas para a preservação da Amazônia.</h4>"
      ],
      "metadata": {
        "id": "LgcdcjKNP_t2"
      }
    },
    {
      "cell_type": "markdown",
      "source": [
        "<pre><code>\n",
        "def nome_da_funcao(param1, param2):\n",
        "    # bloco de código\n",
        "    resultado = param1 + param2\n",
        "    return resultado\n",
        "</pre></code>\n"
      ],
      "metadata": {
        "id": "rSkukKCzZPRk"
      }
    },
    {
      "cell_type": "markdown",
      "source": [
        "<b>Componentes da estrutura:</b>\n",
        "\n",
        "def: palavra-chave que define uma função.\n",
        "\n",
        "nome_da_funcao: nome que você escolhe para identificar a função.\n",
        "\n",
        "(param1, param2): os parâmetros que a função recebe (podem ser zero ou mais).\n",
        "\n",
        ":: indica o início do corpo da função.\n",
        "\n",
        "return: (opcional) indica o valor que será retornado pela função."
      ],
      "metadata": {
        "id": "zB0W0XOGZrQr"
      }
    },
    {
      "cell_type": "markdown",
      "source": [
        "# **:: Criando uma Função**"
      ],
      "metadata": {
        "id": "BPby5kg6XQBr"
      }
    },
    {
      "cell_type": "markdown",
      "source": [
        "<h4 align=\"justify\">Em Python, uma função é definida usando a <b>palavra-chave def:</b></h4>"
      ],
      "metadata": {
        "id": "t-KVCz9oYcax"
      }
    },
    {
      "cell_type": "code",
      "source": [
        "def alerta_calor(temperatura):\n",
        "    if temperatura > 35:\n",
        "        print(\"⚠️ Alerta: temperatura elevada! Risco de estresse térmico na fauna e flora.\")\n",
        "    else:\n",
        "        print(\"✅ Temperatura dentro do normal para a região.\")"
      ],
      "metadata": {
        "id": "knO1knsJZoCV"
      },
      "execution_count": 3,
      "outputs": []
    },
    {
      "cell_type": "markdown",
      "source": [
        "# **:: Chamando uma Função**"
      ],
      "metadata": {
        "id": "H22xENM9ad6c"
      }
    },
    {
      "cell_type": "markdown",
      "source": [
        "<h4>Para chamar uma função, use o nome da função seguido por parênteses:</h4>"
      ],
      "metadata": {
        "id": "c8e3AUqlau6e"
      }
    },
    {
      "cell_type": "code",
      "source": [
        "alerta_calor(38)"
      ],
      "metadata": {
        "colab": {
          "base_uri": "https://localhost:8080/"
        },
        "id": "uwWQmRUuamBE",
        "outputId": "1e777f2c-c13b-429b-8b84-532bef3cac78"
      },
      "execution_count": 4,
      "outputs": [
        {
          "output_type": "stream",
          "name": "stdout",
          "text": [
            "⚠️ Alerta: temperatura elevada! Risco de estresse térmico na fauna e flora.\n"
          ]
        }
      ]
    },
    {
      "cell_type": "markdown",
      "source": [
        "# **:: Argumentos**"
      ],
      "metadata": {
        "id": "VsElgga9bC_t"
      }
    },
    {
      "cell_type": "markdown",
      "source": [
        "<h4 aling=\"justify\">Argumentos são informações que enviamos para dentro de uma função quando ela é chamada. Eles são colocados entre parênteses logo após o nome da função. Se uma função precisa usar algum dado para realizar uma tarefa — como um número, um nome ou uma medida ambiental — esse dado é passado como argumento. Podemos usar um ou vários argumentos, separados por vírgulas, dependendo do que a função precisa para funcionar corretamente.</h4>\n",
        "<h4 aling=\"justify\">Por exemplo, se quisermos criar uma função que receba o nome de uma pessoa envolvida em um projeto socioambiental, podemos passar esse nome como argumento e usá-lo dentro da função para personalizar uma mensagem. Isso ajuda a tornar os sistemas mais dinâmicos e úteis. No contexto do nosso curso, os argumentos são como os dados coletados do meio ambiente (como temperatura, umidade ou localização) que são enviados para as funções, permitindo que a IA analise, interprete e ofereça soluções para os desafios da Amazônia.</h4>"
      ],
      "metadata": {
        "id": "1ctmXBFGbFas"
      }
    },
    {
      "cell_type": "markdown",
      "source": [
        "<pre><code>\n",
        "def nome_da_funcao(argumento1, argumento2, ...):\n",
        "    # bloco de código que usa os argumentos\n",
        "    return resultado  # (opcional)\n",
        "</code></pre>"
      ],
      "metadata": {
        "id": "yuNfBNwybyUG"
      }
    },
    {
      "cell_type": "code",
      "source": [
        "def mostrar_alerta(nome_projeto):\n",
        "    print(\"Monitoramento iniciado para o projeto:\", nome_projeto)"
      ],
      "metadata": {
        "id": "bOCqYvZ-bCiw"
      },
      "execution_count": 5,
      "outputs": []
    },
    {
      "cell_type": "code",
      "source": [
        "mostrar_alerta(\"Pé-de-Pincha\")"
      ],
      "metadata": {
        "colab": {
          "base_uri": "https://localhost:8080/"
        },
        "id": "jNHV_3FccE9S",
        "outputId": "3cb61e47-c2d5-4e27-a781-7a93d35dae3a"
      },
      "execution_count": 6,
      "outputs": [
        {
          "output_type": "stream",
          "name": "stdout",
          "text": [
            "Monitoramento iniciado para o projeto: Pé-de-Pincha\n"
          ]
        }
      ]
    },
    {
      "cell_type": "markdown",
      "source": [
        "# **:: Parâmetros ou Argumentos?**"
      ],
      "metadata": {
        "id": "bA6te3JGcAzS"
      }
    },
    {
      "cell_type": "markdown",
      "source": [
        "<h4 align=\"justify\">Parâmetros e argumentos são palavras que muitas vezes significam a mesma coisa: <b>informações passadas para uma função</b>. Mas há uma pequena diferença. Quando estamos <b>definindo a função</b>, os nomes que colocamos entre parênteses são chamados de <b>parâmetros</b> — eles funcionam como “caixinhas” prontas para receber os dados. Já quando <b>chamamos a função</b>, os valores reais que enviamos para essas caixinhas são chamados de <b>argumentos</b>. Por exemplo, se criamos uma função que espera um nome (nome é o parâmetro), e depois chamamos essa função com \"Projeto Amazônia\" (esse é o argumento), estamos fazendo a mágica acontecer com dados reais do nosso contexto ambiental.</h4>"
      ],
      "metadata": {
        "id": "IaCSQUMYcRvi"
      }
    },
    {
      "cell_type": "markdown",
      "source": [
        "# **:: Número de Argumentos?**"
      ],
      "metadata": {
        "id": "0go97aS0dVxJ"
      }
    },
    {
      "cell_type": "markdown",
      "source": [
        "<h4 align=\"justify\">Por padrão, uma função precisa ser chamada com a <b>quantidade exata de argumentos que ela espera</b>. Isso significa que, se a função foi definida para receber dois argumentos, você deve chamá-la com exatamente dois valores — <b>nem mais, nem menos</b> — caso contrário, o Python exibirá um erro.</h4>"
      ],
      "metadata": {
        "id": "Jcv01a-fdlFP"
      }
    },
    {
      "cell_type": "code",
      "source": [
        "def alerta_queimada(regiao, nivel_alerta):\n",
        "    print(\"=\"*80)\n",
        "    print(\"🚨 ALERTA DE QUEIMADA!\".center(80))\n",
        "    print(\"=\"*80)\n",
        "    print(\"Região monitorada:\", regiao.upper())\n",
        "    print(\"Nível do alerta:\", nivel_alerta.upper())"
      ],
      "metadata": {
        "id": "Nplo1WcVdVYZ"
      },
      "execution_count": 7,
      "outputs": []
    },
    {
      "cell_type": "code",
      "source": [
        "alerta_queimada(\"Alto Xingu\", \"Crítico\")"
      ],
      "metadata": {
        "colab": {
          "base_uri": "https://localhost:8080/"
        },
        "id": "Nr1kopcvd7X6",
        "outputId": "4f4118cb-fb1b-41f4-b03e-555ad0aab3b1"
      },
      "execution_count": 8,
      "outputs": [
        {
          "output_type": "stream",
          "name": "stdout",
          "text": [
            "================================================================================\n",
            "                             🚨 ALERTA DE QUEIMADA!                              \n",
            "================================================================================\n",
            "Região monitorada: ALTO XINGU\n",
            "Nível do alerta: CRÍTICO\n"
          ]
        }
      ]
    },
    {
      "cell_type": "markdown",
      "source": [
        "# **:: Argumentos Arbitrários, *args**"
      ],
      "metadata": {
        "id": "okquHVkFzYbZ"
      }
    },
    {
      "cell_type": "markdown",
      "source": [
        "<h4 align=\"justify\">Pode haver situações em que <b>não sabemos quantas informações serão recebidas por uma função</b> — por exemplo, dados vindos de sensores em diferentes regiões. Nesses casos, usamos um <b>*</b> antes do nome do parâmetro na definição da função. Isso permite que a função receba uma <b>quantidade variável de argumentos</b>, organizados como uma tupla, que pode ser percorrida e analisada conforme necessário. Assim, conseguimos criar funções mais flexíveis para lidar com diferentes tipos de entradas ambientais.</h4>"
      ],
      "metadata": {
        "id": "vL96XnS-fSvY"
      }
    },
    {
      "cell_type": "code",
      "source": [
        "import time\n",
        "\n",
        "def registrar_alertas(*regioes):\n",
        "    print(\"=\"*80)\n",
        "    print(\"Iniciando monitoramento nas seguintes regiões\".center(80))\n",
        "    print(\"=\"*80)\n",
        "    for i, regiao in enumerate(regioes, start=1):\n",
        "        print(f\"📡 Região {i}: {regiao} iniciado monitoramento!\")\n",
        "        time.sleep(1)"
      ],
      "metadata": {
        "id": "kNgRia9wfvQV"
      },
      "execution_count": 9,
      "outputs": []
    },
    {
      "cell_type": "code",
      "source": [
        "registrar_alertas(\"Marajó\", \"Xingu\", \"Tapajós\", \"Javari\")"
      ],
      "metadata": {
        "colab": {
          "base_uri": "https://localhost:8080/"
        },
        "id": "UNg1yqZ1gcur",
        "outputId": "fa0f2fa6-84a6-4ac6-c332-7af22e710ba3"
      },
      "execution_count": 10,
      "outputs": [
        {
          "output_type": "stream",
          "name": "stdout",
          "text": [
            "================================================================================\n",
            "                 Iniciando monitoramento nas seguintes regiões                  \n",
            "================================================================================\n",
            "📡 Região 1: Marajó iniciado monitoramento!\n",
            "📡 Região 2: Xingu iniciado monitoramento!\n",
            "📡 Região 3: Tapajós iniciado monitoramento!\n",
            "📡 Região 4: Javari iniciado monitoramento!\n"
          ]
        }
      ]
    },
    {
      "cell_type": "markdown",
      "source": [
        "# **:: Argumentos de Palavras-Chave**"
      ],
      "metadata": {
        "id": "zHNu3f3AiSnH"
      }
    },
    {
      "cell_type": "markdown",
      "source": [
        "<h4 align=\"justify\">Também é possível enviar argumentos para uma função usando a <b>sintaxe de chave = valor</b> (por exemplo, regiao=\"Marajó\"). Nesse formato, cada argumento é identificado pelo nome do parâmetro definido na função, permitindo que você <b>não se preocupe com a ordem</b> em que os argumentos são passados. Isso torna o código mais claro e flexível — especialmente útil em aplicações com muitos dados ambientais, como no nosso curso, onde uma função pode receber temperatura, umidade, nome da região e nível de alerta, independentemente da sequência em que esses dados são enviados.</h4>"
      ],
      "metadata": {
        "id": "p5ga-iX4J0Q5"
      }
    },
    {
      "cell_type": "code",
      "source": [
        "def gerar_alerta(regiao, tipo_alerta, nivel):\n",
        "    print(\"-\" * 40)\n",
        "    print(f\"📍 Região: {regiao}\")\n",
        "    print(f\"🌿 Tipo de alerta: {tipo_alerta}\")\n",
        "    print(f\"🚨 Nível: {nivel}\")\n",
        "    print(\"-\" * 40)"
      ],
      "metadata": {
        "id": "5PKcEIqaKOwZ"
      },
      "execution_count": 15,
      "outputs": []
    },
    {
      "cell_type": "code",
      "source": [
        "gerar_alerta(nivel=\"Crítico\", tipo_alerta=\"Queimada\", regiao=\"Xingu\")"
      ],
      "metadata": {
        "colab": {
          "base_uri": "https://localhost:8080/"
        },
        "id": "PrLhPA67KiAx",
        "outputId": "99c3646a-654d-4901-dc00-f8de8e1a2beb"
      },
      "execution_count": 16,
      "outputs": [
        {
          "output_type": "stream",
          "name": "stdout",
          "text": [
            "----------------------------------------\n",
            "📍 Região: Xingu\n",
            "🌿 Tipo de alerta: Queimada\n",
            "🚨 Nível: Crítico\n",
            "----------------------------------------\n"
          ]
        }
      ]
    },
    {
      "cell_type": "markdown",
      "source": [
        "# **:: Argumentos de Palavras-Chave Arbitrárias, **kwargs**"
      ],
      "metadata": {
        "id": "f91B0FNgK3Pp"
      }
    },
    {
      "cell_type": "markdown",
      "source": [
        "<h4 align=\"justify\">Quando não sabemos quantos argumentos nomeados (chave = valor) serão passados para uma função, podemos usar <b>** antes do nome do parâmetro na definição da função — geralmente chamado de **kwargs</b>. Isso faz com que a função receba esses argumentos como um <b>dicionário</b>, onde cada chave representa o nome do parâmetro e cada valor é o dado correspondente. Essa abordagem torna a função mais flexível, permitindo lidar com diferentes tipos e quantidades de informações — algo muito útil no nosso curso, onde os dados ambientais podem variar bastante entre sensores ou regiões monitoradas.</h4>"
      ],
      "metadata": {
        "id": "RU6O-VT8LZG9"
      }
    },
    {
      "cell_type": "code",
      "source": [
        "def registrar_dados(**kwargs):\n",
        "    print(\"📊 Dados recebidos da estação de monitoramento:\")\n",
        "    for chave, valor in kwargs.items():\n",
        "        print(f\"- {chave.capitalize()}: {valor}\")"
      ],
      "metadata": {
        "id": "3JdhFJ4wLsgW"
      },
      "execution_count": 17,
      "outputs": []
    },
    {
      "cell_type": "code",
      "source": [
        "registrar_dados(regiao=\"Marajó\", temperatura=\"32°C\", umidade=\"88%\", co2=\"Alto\")"
      ],
      "metadata": {
        "colab": {
          "base_uri": "https://localhost:8080/"
        },
        "id": "cgujhCqXL329",
        "outputId": "be7a1dc4-6dea-4f25-fbca-5ae0682ce957"
      },
      "execution_count": 18,
      "outputs": [
        {
          "output_type": "stream",
          "name": "stdout",
          "text": [
            "📊 Dados recebidos da estação de monitoramento:\n",
            "- Regiao: Marajó\n",
            "- Temperatura: 32°C\n",
            "- Umidade: 88%\n",
            "- Co2: Alto\n"
          ]
        }
      ]
    },
    {
      "cell_type": "markdown",
      "source": [
        "# **:: Valor do Parâmetro Padrão**"
      ],
      "metadata": {
        "id": "nCcXr9tGLDvn"
      }
    },
    {
      "cell_type": "markdown",
      "source": [
        "<h4 align=\"justify\">É possível definir um valor padrão para um parâmetro. Assim, se a função for chamada sem esse argumento, ela usará o <b>valor definido como padrão</b>. Isso torna a função mais flexível, ideal quando nem sempre temos todos os dados disponíveis em aplicações ambientais.</h4>"
      ],
      "metadata": {
        "id": "KTsi1wAtRiNO"
      }
    },
    {
      "cell_type": "code",
      "source": [
        "def alerta_chuva(regiao=\"Região Desconhecida\"):\n",
        "    print(f\"🌧️ Alerta de chuvas intensas para: {regiao}\")"
      ],
      "metadata": {
        "id": "WGqxH0t9R4oR"
      },
      "execution_count": 19,
      "outputs": []
    },
    {
      "cell_type": "code",
      "source": [
        "alerta_chuva(\"Tapajós\")"
      ],
      "metadata": {
        "colab": {
          "base_uri": "https://localhost:8080/"
        },
        "id": "OY1XBns8R_im",
        "outputId": "539f0567-e489-4549-ca32-5c53c602fbcd"
      },
      "execution_count": 20,
      "outputs": [
        {
          "output_type": "stream",
          "name": "stdout",
          "text": [
            "🌧️ Alerta de chuvas intensas para: Tapajós\n"
          ]
        }
      ]
    },
    {
      "cell_type": "code",
      "source": [
        "alerta_chuva()"
      ],
      "metadata": {
        "colab": {
          "base_uri": "https://localhost:8080/"
        },
        "id": "bcMXji96SDuc",
        "outputId": "9f8d69ea-75be-4c0c-ac81-e596edf75c30"
      },
      "execution_count": 21,
      "outputs": [
        {
          "output_type": "stream",
          "name": "stdout",
          "text": [
            "🌧️ Alerta de chuvas intensas para: Região Desconhecida\n"
          ]
        }
      ]
    },
    {
      "cell_type": "markdown",
      "source": [
        "# **:: Valores de Retorno**"
      ],
      "metadata": {
        "id": "NjffONWISMne"
      }
    },
    {
      "cell_type": "markdown",
      "source": [
        "<h4 align=\"justify\">Para que uma função devolva um resultado, usamos a instrução <b>return</b>. Ela encerra a função e envia um valor de volta para quem a chamou, permitindo que esse resultado seja usado em outras partes do código — como cálculos, relatórios ou decisões automatizadas.</h4>"
      ],
      "metadata": {
        "id": "Ud1Ced-4SQy4"
      }
    },
    {
      "cell_type": "markdown",
      "source": [
        "<pre><code>\n",
        "def nome_da_funcao(parâmetros):\n",
        "    # bloco de código\n",
        "    resultado = operação_com_os_parâmetros\n",
        "    <b>return resultado</b>\n",
        "</code></pre>"
      ],
      "metadata": {
        "id": "-irRWMAzSqpe"
      }
    },
    {
      "cell_type": "code",
      "source": [
        "def calcular_nivel_alerta(temperatura):\n",
        "    if temperatura > 35:\n",
        "        return \"Crítico\"\n",
        "    elif temperatura > 30:\n",
        "        return \"Moderado\"\n",
        "    else:\n",
        "        return \"Normal\""
      ],
      "metadata": {
        "id": "nFxcERszSlwB"
      },
      "execution_count": 22,
      "outputs": []
    },
    {
      "cell_type": "code",
      "source": [
        "nivel = calcular_nivel_alerta(33)\n",
        "print(\"🔍 Nível de alerta:\", nivel)"
      ],
      "metadata": {
        "colab": {
          "base_uri": "https://localhost:8080/"
        },
        "id": "ylt1FWZsS6V2",
        "outputId": "4f47abd3-34ec-4778-8b4e-0ea37d4000d9"
      },
      "execution_count": 23,
      "outputs": [
        {
          "output_type": "stream",
          "name": "stdout",
          "text": [
            "🔍 Nível de alerta: Moderado\n"
          ]
        }
      ]
    },
    {
      "cell_type": "markdown",
      "source": [
        "# **:: A Declaração \"pass\"**"
      ],
      "metadata": {
        "id": "l1GXeMUdTAnS"
      }
    },
    {
      "cell_type": "markdown",
      "source": [
        "<b>Funções não podem ficar vazias</b>, mas se você ainda não definiu o que ela fará, use a instrução <b>pass</b>. Isso evita erros e permite que você construa a estrutura do código aos poucos."
      ],
      "metadata": {
        "id": "eWxRK98DTZ2a"
      }
    },
    {
      "cell_type": "code",
      "source": [
        "def analisar_dados_sensor():\n",
        "    pass  # Função ainda será implementada futuramente"
      ],
      "metadata": {
        "id": "sljuDYZUTf3V"
      },
      "execution_count": 24,
      "outputs": []
    },
    {
      "cell_type": "markdown",
      "source": [
        "# **:: Argumentos Somente Posicionais**"
      ],
      "metadata": {
        "id": "GjPk6u-uUai9"
      }
    },
    {
      "cell_type": "markdown",
      "source": [
        "<h4 align=\"justify\">Você pode definir que certos argumentos de uma função devem ser passados somente por posição, e não por nome. Para isso, basta adicionar ,<b> /</b> após esses parâmetros na definição da função. Isso ajuda a <b>evitar erros ou confusões no uso da função</b>.</h4>"
      ],
      "metadata": {
        "id": "zra3AMPOUhmH"
      }
    },
    {
      "cell_type": "code",
      "source": [
        "def registrar_temperatura(regiao, temperatura, /):\n",
        "    print(f\"🌡️ Temperatura registrada na região {regiao}: {temperatura}°C\")"
      ],
      "metadata": {
        "id": "wgcqbfs1VRjJ"
      },
      "execution_count": 25,
      "outputs": []
    },
    {
      "cell_type": "code",
      "source": [
        "# chamada correta (por posição):\n",
        "registrar_temperatura(\"Xingu\", 34)"
      ],
      "metadata": {
        "colab": {
          "base_uri": "https://localhost:8080/"
        },
        "id": "hiV9zaFkVSbP",
        "outputId": "bbafbe4b-f23e-4aa1-f64d-7c23973d596b"
      },
      "execution_count": 26,
      "outputs": [
        {
          "output_type": "stream",
          "name": "stdout",
          "text": [
            "🌡️ Temperatura registrada na região Xingu: 34°C\n"
          ]
        }
      ]
    },
    {
      "cell_type": "code",
      "source": [
        "# chamada incorreta (por palavra-chave)\n",
        "registrar_temperatura(regiao=\"Xingu\", temperatura=34)  #Vai gerar erro!"
      ],
      "metadata": {
        "id": "EfHNk9QbVU44"
      },
      "execution_count": 28,
      "outputs": []
    },
    {
      "cell_type": "markdown",
      "source": [
        "# **:: Argumentos Somente de Palavras-Chave**"
      ],
      "metadata": {
        "id": "YIf99AhJV6ix"
      }
    },
    {
      "cell_type": "markdown",
      "source": [
        "<h4 align=\"justify\">Para definir que certos argumentos de uma função devem ser passados somente por <b>palavra-chave (usando nome=valor)</b>, basta adicionar um <b>*</b> antes desses parâmetros na definição da função. Isso aumenta a clareza e evita erros na ordem dos dados.</h4>"
      ],
      "metadata": {
        "id": "KaeMxDyOYiKz"
      }
    },
    {
      "cell_type": "code",
      "source": [
        "def registrar_qualidade_ar(*, regiao, co2, umidade):\n",
        "    print(f\"📍 Região: {regiao}\")\n",
        "    print(f\"💨 Nível de CO₂: {co2}\")\n",
        "    print(f\"💧 Umidade do ar: {umidade}\")"
      ],
      "metadata": {
        "id": "uGbU4VWoYsas"
      },
      "execution_count": 29,
      "outputs": []
    },
    {
      "cell_type": "code",
      "source": [
        "# chamada correta\n",
        "registrar_qualidade_ar(regiao=\"Tapajós\", co2=\"Alto\", umidade=\"72%\")"
      ],
      "metadata": {
        "colab": {
          "base_uri": "https://localhost:8080/"
        },
        "id": "kvcY03vKYzo5",
        "outputId": "2b25eb82-107f-45ea-94ae-ee30bd454ff7"
      },
      "execution_count": 30,
      "outputs": [
        {
          "output_type": "stream",
          "name": "stdout",
          "text": [
            "📍 Região: Tapajós\n",
            "💨 Nível de CO₂: Alto\n",
            "💧 Umidade do ar: 72%\n"
          ]
        }
      ]
    },
    {
      "cell_type": "code",
      "source": [
        "# chamada incorreta\n",
        "registrar_qualidade_ar(\"Tapajós\", \"Alto\", \"72%\")"
      ],
      "metadata": {
        "id": "ccLwkepmY4uJ"
      },
      "execution_count": null,
      "outputs": []
    },
    {
      "cell_type": "markdown",
      "source": [
        "<b>Atenção:</b> O uso de * obriga o uso de nomes nos argumentos, deixando claro o que cada dado representa. Isso é essencial em sistemas de IA que lidam com diversos parâmetros ambientais, onde confundir a ordem pode comprometer a análise."
      ],
      "metadata": {
        "id": "YnL64vgxZC_C"
      }
    },
    {
      "cell_type": "markdown",
      "source": [
        "#**:: Combine Somente Posicional e Somente Palavra-Chave**"
      ],
      "metadata": {
        "id": "astg91kHZgfy"
      }
    },
    {
      "cell_type": "markdown",
      "source": [
        "<h4 align=\"justify\">Você pode combinar os dois tipos de argumentos na mesma função. Os parâmetros que vêm antes da / devem ser passados <b>somente por posição</b>, e os que vêm depois do * devem ser passados <b>somente por palavra-chave</b>. Isso permite mais controle e clareza no uso da função.</h4>"
      ],
      "metadata": {
        "id": "OPE1v2UHZ0lv"
      }
    },
    {
      "cell_type": "code",
      "source": [
        "def registrar_dados_ambientais(regiao, /, *, temperatura, umidade):\n",
        "    print(f\"📍 Região monitorada: {regiao}\")\n",
        "    print(f\"🌡️ Temperatura: {temperatura}°C\")\n",
        "    print(f\"💧 Umidade: {umidade}%\")"
      ],
      "metadata": {
        "id": "UmCWDl_kZnzw"
      },
      "execution_count": 31,
      "outputs": []
    },
    {
      "cell_type": "code",
      "source": [
        "# chamada correta\n",
        "registrar_dados_ambientais(\"Xingu\", temperatura=33, umidade=80)"
      ],
      "metadata": {
        "colab": {
          "base_uri": "https://localhost:8080/"
        },
        "id": "Cvg6AkTyaWg-",
        "outputId": "acf2b2a9-7af0-4f34-fedd-50630d5835a1"
      },
      "execution_count": 32,
      "outputs": [
        {
          "output_type": "stream",
          "name": "stdout",
          "text": [
            "📍 Região monitorada: Xingu\n",
            "🌡️ Temperatura: 33°C\n",
            "💧 Umidade: 80%\n"
          ]
        }
      ]
    },
    {
      "cell_type": "code",
      "source": [
        "# chamada incorreta\n",
        "registrar_dados_ambientais(regiao=\"Xingu\", temperatura=33, umidade=80)"
      ],
      "metadata": {
        "id": "j_0yLy6haavE"
      },
      "execution_count": null,
      "outputs": []
    },
    {
      "cell_type": "markdown",
      "source": [
        "#**:: Recursão**"
      ],
      "metadata": {
        "id": "HnA7Hdpsalt4"
      }
    },
    {
      "cell_type": "markdown",
      "source": [
        "<h4 align=\"justify\">Recursão é quando uma função chama a si mesma dentro de sua própria definição. É um conceito comum em matemática e programação, usado para resolver problemas de forma repetitiva e elegante, como cálculos ou percursos em estruturas de dados. </h4>\n",
        "<h4 align=\"justify\">Em Python, isso é possível e pode ser útil para automatizar tarefas que se repetem com pequenas variações. No entanto, é preciso ter cuidado: se a função não tiver uma <b>condição de parada</b>, ela pode entrar em um loop infinito, consumindo muita memória ou travando o programa. Com uma lógica bem definida, a recursão pode ser uma solução poderosa — por isso, é ideal testá-la e ajustar conforme necessário para entender bem seu funcionamento.</h4>"
      ],
      "metadata": {
        "id": "2HJIlXO6anuh"
      }
    },
    {
      "cell_type": "code",
      "source": [
        "def contagem_regressiva(n):\n",
        "    if n <= 0:\n",
        "        print(\"🚀 Lançamento!\")\n",
        "    else:\n",
        "        print(f\"⏳ Contando: {n}\")\n",
        "        contagem_regressiva(n - 1)"
      ],
      "metadata": {
        "id": "HGJUOeoLbNy9"
      },
      "execution_count": 33,
      "outputs": []
    },
    {
      "cell_type": "code",
      "source": [
        "contagem_regressiva(5)"
      ],
      "metadata": {
        "colab": {
          "base_uri": "https://localhost:8080/"
        },
        "id": "LnWoHREebXt-",
        "outputId": "fa2e4cf4-2aa8-4672-b9a9-9df85c180741"
      },
      "execution_count": 34,
      "outputs": [
        {
          "output_type": "stream",
          "name": "stdout",
          "text": [
            "⏳ Contando: 5\n",
            "⏳ Contando: 4\n",
            "⏳ Contando: 3\n",
            "⏳ Contando: 2\n",
            "⏳ Contando: 1\n",
            "🚀 Lançamento!\n"
          ]
        }
      ]
    },
    {
      "cell_type": "code",
      "source": [
        "def contar_ate(n):\n",
        "    if n == 0:\n",
        "        return\n",
        "    contar_ate(n - 1)\n",
        "    print(n)"
      ],
      "metadata": {
        "id": "g83Jl6RHbapS"
      },
      "execution_count": 35,
      "outputs": []
    },
    {
      "cell_type": "code",
      "source": [
        "contar_ate(5)"
      ],
      "metadata": {
        "colab": {
          "base_uri": "https://localhost:8080/"
        },
        "id": "i5-MUttZblLe",
        "outputId": "5510fd97-9d0e-4953-97ab-31e127cc43c7"
      },
      "execution_count": 36,
      "outputs": [
        {
          "output_type": "stream",
          "name": "stdout",
          "text": [
            "1\n",
            "2\n",
            "3\n",
            "4\n",
            "5\n"
          ]
        }
      ]
    },
    {
      "cell_type": "markdown",
      "source": [
        "# **&#9776; LISTAS**"
      ],
      "metadata": {
        "id": "h1jiCl6ecgRZ"
      }
    },
    {
      "cell_type": "markdown",
      "source": [
        "<h4 align=\"justify\">Em Python, listas são usadas para armazenar múltiplos itens em uma única variável. Elas fazem parte dos quatro principais tipos de dados para coleções em Python — junto com tuplas, conjuntos (sets) e dicionários (dicts) — cada um com características e finalidades diferentes.</h4>\n",
        "\n",
        "<h4 align=\"justify\">As listas são criadas utilizando colchetes [ ], e permitem armazenar elementos de qualquer tipo (números, textos, até outras listas), podendo ser modificadas a qualquer momento. São ideais quando precisamos trabalhar com conjuntos de dados ambientais variáveis, como temperaturas diárias, nomes de regiões monitoradas ou registros de alertas.</h4>"
      ],
      "metadata": {
        "id": "luewVQ0FkkLU"
      }
    },
    {
      "cell_type": "markdown",
      "source": [
        "<pre><code>\n",
        "nome_da_lista = [item1, item2, item3, ...]\n",
        "</pre></code>"
      ],
      "metadata": {
        "id": "XbiEY0xpk_8b"
      }
    },
    {
      "cell_type": "code",
      "source": [
        "regioes_monitoradas = [\"Marajó\", \"Xingu\", \"Tapajós\", \"Javari\"]"
      ],
      "metadata": {
        "id": "2GoVewVwlJ3Y"
      },
      "execution_count": 37,
      "outputs": []
    },
    {
      "cell_type": "code",
      "source": [
        "type(regioes_monitoradas)"
      ],
      "metadata": {
        "colab": {
          "base_uri": "https://localhost:8080/"
        },
        "id": "kQkhgDSelPwc",
        "outputId": "9ed69fa8-0b8a-4d5a-a975-c1e7778dafbb"
      },
      "execution_count": 38,
      "outputs": [
        {
          "output_type": "execute_result",
          "data": {
            "text/plain": [
              "list"
            ]
          },
          "metadata": {},
          "execution_count": 38
        }
      ]
    },
    {
      "cell_type": "code",
      "source": [
        "print(regioes_monitoradas)"
      ],
      "metadata": {
        "colab": {
          "base_uri": "https://localhost:8080/"
        },
        "id": "jXMWnff4lVbS",
        "outputId": "68359e64-daf3-4fdf-c224-5815ac1ba06a"
      },
      "execution_count": 39,
      "outputs": [
        {
          "output_type": "stream",
          "name": "stdout",
          "text": [
            "['Marajó', 'Xingu', 'Tapajós', 'Javari']\n"
          ]
        }
      ]
    },
    {
      "cell_type": "markdown",
      "source": [
        "# **:: Itens da Lista**"
      ],
      "metadata": {
        "id": "bqo9-MI6la1A"
      }
    },
    {
      "cell_type": "markdown",
      "source": [
        "<h4 align=\"justify\">Os itens de uma lista em Python são ordenados, ou seja, mantêm a sequência em que foram inseridos. Eles também são modificáveis, permitindo que sejam alterados após a criação da lista, e aceitam valores repetidos.</h4>\n",
        "<h4 align=\"justify\">Cada item na lista possui uma posição específica, chamada de índice. O primeiro item tem o índice [0], o segundo [1], e assim por diante. Isso permite acessar e manipular facilmente qualquer dado, como se estivéssemos consultando uma tabela com posições fixas — ideal para organizar dados ambientais no nosso curso.</h4>"
      ],
      "metadata": {
        "id": "RZz_fo-SljF8"
      }
    },
    {
      "cell_type": "code",
      "source": [
        "regioes = [\"Xingu\", \"Marajó\", \"Tapajós\", \"Xingu\"]"
      ],
      "metadata": {
        "id": "Hgvfdl5fl7fa"
      },
      "execution_count": 40,
      "outputs": []
    },
    {
      "cell_type": "code",
      "source": [
        "# acessando pelo índice\n",
        "print(regioes[0])  # Saída: Xingu"
      ],
      "metadata": {
        "colab": {
          "base_uri": "https://localhost:8080/"
        },
        "id": "Hsj8wvjnmAyX",
        "outputId": "90503ab2-9a66-4b98-f26e-402275e783f3"
      },
      "execution_count": 41,
      "outputs": [
        {
          "output_type": "stream",
          "name": "stdout",
          "text": [
            "Xingu\n"
          ]
        }
      ]
    },
    {
      "cell_type": "code",
      "source": [
        "# acessando pelo índice\n",
        "print(regioes[2])  # Saída: Tapajós"
      ],
      "metadata": {
        "colab": {
          "base_uri": "https://localhost:8080/"
        },
        "id": "92bs1oavmDSh",
        "outputId": "6ca59834-9b23-41c6-937d-a8d9363c2053"
      },
      "execution_count": 42,
      "outputs": [
        {
          "output_type": "stream",
          "name": "stdout",
          "text": [
            "Tapajós\n"
          ]
        }
      ]
    },
    {
      "cell_type": "markdown",
      "source": [
        "# **:: Mutável**"
      ],
      "metadata": {
        "id": "XzSEhpizmdLP"
      }
    },
    {
      "cell_type": "markdown",
      "source": [
        "<h4 align=\"justify\"><b>Listas em Python são mutáveis</b>, ou seja, após serem criadas, é possível <b>alterar, adicionar ou remover itens</b> livremente. Essa flexibilidade é muito útil quando trabalhamos com dados dinâmicos — como informações ambientais que mudam constantemente durante o monitoramento da Amazônia.</h4>"
      ],
      "metadata": {
        "id": "P8HBpruTmhvb"
      }
    },
    {
      "cell_type": "markdown",
      "source": [
        "# **:: Permitir Duplicatas**"
      ],
      "metadata": {
        "id": "qEKNtba0nBcr"
      }
    },
    {
      "cell_type": "markdown",
      "source": [
        "<h4 align=\"justify\">Como as listas são indexadas, elas podem conter itens repetidos. Isso significa que é possível ter vários elementos com o mesmo valor, cada um ocupando uma posição diferente na lista — algo útil quando queremos registrar eventos que ocorrem mais de uma vez, como alertas recorrentes em uma mesma região.</h4>"
      ],
      "metadata": {
        "id": "fEK27LFcnPK5"
      }
    },
    {
      "cell_type": "code",
      "source": [
        "alertas = [\"Xingu\", \"Tapajós\", \"Xingu\", \"Marajó\", \"Xingu\"]"
      ],
      "metadata": {
        "id": "4qxGjbPGnWiv"
      },
      "execution_count": 43,
      "outputs": []
    },
    {
      "cell_type": "code",
      "source": [
        "print(alertas)"
      ],
      "metadata": {
        "colab": {
          "base_uri": "https://localhost:8080/"
        },
        "id": "-zG5WV4undOo",
        "outputId": "3ae231d2-ca35-4d7a-c439-a58ef3f539f4"
      },
      "execution_count": 44,
      "outputs": [
        {
          "output_type": "stream",
          "name": "stdout",
          "text": [
            "['Xingu', 'Tapajós', 'Xingu', 'Marajó', 'Xingu']\n"
          ]
        }
      ]
    },
    {
      "cell_type": "markdown",
      "source": [
        "# **:: Tamanho da Lista**"
      ],
      "metadata": {
        "id": "CZnWPrwanu53"
      }
    },
    {
      "cell_type": "markdown",
      "source": [
        "<h4 align=\"justify\">Para saber quantos itens existem em uma lista, utilizamos a função len(). Ela retorna o tamanho total da lista, ou seja, a quantidade de elementos armazenados — útil para análises e controle de dados em monitoramentos ambientais.</h4>"
      ],
      "metadata": {
        "id": "uFU7OplGn0yo"
      }
    },
    {
      "cell_type": "code",
      "source": [
        "regioes = [\"Xingu\", \"Marajó\", \"Tapajós\", \"Javari\"]\n",
        "quantidade = len(regioes)\n",
        "print(f\"🌎 Total de regiões monitoradas: {quantidade}\")"
      ],
      "metadata": {
        "colab": {
          "base_uri": "https://localhost:8080/"
        },
        "id": "c99YSkkYn_su",
        "outputId": "f90c4977-28d6-4291-ad66-cdbcd7e0542b"
      },
      "execution_count": 45,
      "outputs": [
        {
          "output_type": "stream",
          "name": "stdout",
          "text": [
            "🌎 Total de regiões monitoradas: 4\n"
          ]
        }
      ]
    },
    {
      "cell_type": "markdown",
      "source": [
        "# **:: O Construtor list()**"
      ],
      "metadata": {
        "id": "dR5BPN8aobhP"
      }
    },
    {
      "cell_type": "markdown",
      "source": [
        "<h4 align=\"justify\">Também é possível criar uma nova lista utilizando o construtor list(). Essa forma é especialmente útil para transformar outros tipos de dados — como tuplas ou strings — em listas, tornando o conteúdo modificável e pronto para análise ou processamento.</h4>"
      ],
      "metadata": {
        "id": "8TyIXIaJpEXV"
      }
    },
    {
      "cell_type": "code",
      "source": [
        "regioes_tuple = (\"Xingu\", \"Marajó\", \"Tapajós\")\n",
        "regioes_lista = list(regioes_tuple)\n",
        "\n",
        "print(\"Lista de regiões monitoradas:\", regioes_lista)"
      ],
      "metadata": {
        "colab": {
          "base_uri": "https://localhost:8080/"
        },
        "id": "vyD3eryWpINS",
        "outputId": "a94c4d0f-aa4a-4e1f-fdbe-4bbf193f4a39"
      },
      "execution_count": 46,
      "outputs": [
        {
          "output_type": "stream",
          "name": "stdout",
          "text": [
            "Lista de regiões monitoradas: ['Xingu', 'Marajó', 'Tapajós']\n"
          ]
        }
      ]
    },
    {
      "cell_type": "markdown",
      "source": [
        "# **:: Acesso aos Itens**"
      ],
      "metadata": {
        "id": "9QP3nNUdpa3N"
      }
    },
    {
      "cell_type": "code",
      "source": [
        "# acesso por índices\n",
        "regioes = [\"Xingu\", \"Marajó\", \"Tapajós\", \"Javari\"]\n",
        "\n",
        "print(\"Primeira região:\", regioes[0])\n",
        "print(\"Segunda região:\", regioes[1])\n",
        "print(\"Última região:\", regioes[3])"
      ],
      "metadata": {
        "colab": {
          "base_uri": "https://localhost:8080/"
        },
        "id": "xkP7q88oqZs6",
        "outputId": "697396bb-bd79-4734-a1ef-4ac50420f79f"
      },
      "execution_count": 47,
      "outputs": [
        {
          "output_type": "stream",
          "name": "stdout",
          "text": [
            "Primeira região: Xingu\n",
            "Segunda região: Marajó\n",
            "Última região: Javari\n"
          ]
        }
      ]
    },
    {
      "cell_type": "code",
      "source": [
        "# acesso por índice negativo\n",
        "regioes = [\"Xingu\", \"Marajó\", \"Tapajós\", \"Javari\"]\n",
        "\n",
        "print(\"Última região:\", regioes[-1])\n",
        "print(\"Penúltima região:\", regioes[-2])"
      ],
      "metadata": {
        "colab": {
          "base_uri": "https://localhost:8080/"
        },
        "id": "TrPYJ1V-qwp0",
        "outputId": "a6068c1b-e9ea-4612-b838-b7bbc3cda828"
      },
      "execution_count": 48,
      "outputs": [
        {
          "output_type": "stream",
          "name": "stdout",
          "text": [
            "Última região: Javari\n",
            "Penúltima região: Tapajós\n"
          ]
        }
      ]
    },
    {
      "cell_type": "code",
      "source": [
        "# por faixa de índices\n",
        "regioes = [\"Xingu\", \"Marajó\", \"Tapajós\", \"Javari\"]\n",
        "\n",
        "print(\"Regiões da Marajó até Javari:\", regioes[1:4])"
      ],
      "metadata": {
        "colab": {
          "base_uri": "https://localhost:8080/"
        },
        "id": "ZWs30x6Rq3yQ",
        "outputId": "07cdc052-0089-45f7-cc0f-d16c8e2c64ee"
      },
      "execution_count": 49,
      "outputs": [
        {
          "output_type": "stream",
          "name": "stdout",
          "text": [
            "Regiões da Marajó até Javari: ['Marajó', 'Tapajós', 'Javari']\n"
          ]
        }
      ]
    },
    {
      "cell_type": "code",
      "source": [
        "# por faixa de índices\n",
        "regioes = [\"Xingu\", \"Marajó\", \"Tapajós\", \"Javari\"]\n",
        "\n",
        "print(\"Regiões da Marajó até Javari:\", regioes[1:])"
      ],
      "metadata": {
        "colab": {
          "base_uri": "https://localhost:8080/"
        },
        "id": "Ek2hBl6drEKL",
        "outputId": "9f794473-c416-4f3b-d24d-e06a5c8b8a95"
      },
      "execution_count": 50,
      "outputs": [
        {
          "output_type": "stream",
          "name": "stdout",
          "text": [
            "Regiões da Marajó até Javari: ['Marajó', 'Tapajós', 'Javari']\n"
          ]
        }
      ]
    },
    {
      "cell_type": "markdown",
      "source": [
        "# **:: Verifica Se Item Existe**"
      ],
      "metadata": {
        "id": "p6QRy-m1rTri"
      }
    },
    {
      "cell_type": "code",
      "source": [
        "regioes = [\"Xingu\", \"Marajó\", \"Tapajós\", \"Javari\"]\n",
        "\n",
        "if \"Xingu\" in regioes:\n",
        "    print(\"✅ Região Xingu está sendo monitorada.\")\n",
        "else:\n",
        "    print(\"⚠️ Região Xingu não está na lista de monitoramento.\")"
      ],
      "metadata": {
        "colab": {
          "base_uri": "https://localhost:8080/"
        },
        "id": "yJBSMY9MrXYe",
        "outputId": "03d1e5fb-24e7-40e3-da19-10157cac8dc4"
      },
      "execution_count": 51,
      "outputs": [
        {
          "output_type": "stream",
          "name": "stdout",
          "text": [
            "✅ Região Xingu está sendo monitorada.\n"
          ]
        }
      ]
    },
    {
      "cell_type": "markdown",
      "source": [
        "# **:: Altera Valor do Item**"
      ],
      "metadata": {
        "id": "kn0DQWJNrrHd"
      }
    },
    {
      "cell_type": "code",
      "source": [
        "# Altera pelo valor do índice\n",
        "\n",
        "# Lista original de regiões monitoradas\n",
        "regioes = [\"Xingu\", \"Marajó\", \"Tapajós\", \"Javari\"]\n",
        "\n",
        "# Atualizando o nome da segunda região (índice 1)\n",
        "regioes[1] = \"Baixo Amazonas\"\n",
        "\n",
        "# Exibindo a lista atualizada\n",
        "print(\"📍 Lista atualizada de regiões:\", regioes)"
      ],
      "metadata": {
        "colab": {
          "base_uri": "https://localhost:8080/"
        },
        "id": "yQF0kssXr6i6",
        "outputId": "12309689-e944-45e8-feee-73c578f60634"
      },
      "execution_count": 52,
      "outputs": [
        {
          "output_type": "stream",
          "name": "stdout",
          "text": [
            "📍 Lista atualizada de regiões: ['Xingu', 'Baixo Amazonas', 'Tapajós', 'Javari']\n"
          ]
        }
      ]
    },
    {
      "cell_type": "code",
      "source": [
        "# Altera pelo intervalo de índices\n",
        "\n",
        "# Lista original de regiões monitoradas\n",
        "regioes = [\"Xingu\", \"Marajó\", \"Tapajós\", \"Javari\", \"Purús\"]\n",
        "\n",
        "# Substituindo os itens nos índices 1 a 3 (sem incluir o 4)\n",
        "regioes[1:4] = [\"Baixo Amazonas\", \"Madeira\", \"Alto Solimões\"]\n",
        "\n",
        "# Exibindo a lista atualizada\n",
        "print(\"📍 Lista atualizada de regiões:\", regioes)"
      ],
      "metadata": {
        "colab": {
          "base_uri": "https://localhost:8080/"
        },
        "id": "Kb6VvzHqscyn",
        "outputId": "f20ec7c5-7277-4864-84d9-472d9f64d758"
      },
      "execution_count": 53,
      "outputs": [
        {
          "output_type": "stream",
          "name": "stdout",
          "text": [
            "📍 Lista atualizada de regiões: ['Xingu', 'Baixo Amazonas', 'Madeira', 'Alto Solimões', 'Purús']\n"
          ]
        }
      ]
    },
    {
      "cell_type": "markdown",
      "source": [
        "# **:: Inserir Item**"
      ],
      "metadata": {
        "id": "o-v9_089s38z"
      }
    },
    {
      "cell_type": "markdown",
      "source": [
        "<h4 align=\"justify\">Para adicionar um novo item em uma lista sem substituir os valores existentes, utilizamos o <b>método insert()</b>. Esse método permite inserir um item em uma posição específica, movendo os demais elementos para a frente, sem apagá-los. Isso é útil quando queremos organizar melhor os dados na lista.</h4>"
      ],
      "metadata": {
        "id": "M8NBVupttGJm"
      }
    },
    {
      "cell_type": "code",
      "source": [
        "# Lista original de regiões monitoradas\n",
        "regioes = [\"Marajó\", \"Tapajós\", \"Javari\"]\n",
        "\n",
        "# Inserindo \"Xingu\" na posição 0 (início da lista)\n",
        "regioes.insert(0, \"Xingu\")\n",
        "\n",
        "# Exibindo a lista atualizada\n",
        "print(\"📍 Regiões monitoradas:\", regioes)"
      ],
      "metadata": {
        "colab": {
          "base_uri": "https://localhost:8080/"
        },
        "id": "C42_Hyf8tRTD",
        "outputId": "1529d003-52e7-465b-d8b5-9e10c2d02303"
      },
      "execution_count": 54,
      "outputs": [
        {
          "output_type": "stream",
          "name": "stdout",
          "text": [
            "📍 Regiões monitoradas: ['Xingu', 'Marajó', 'Tapajós', 'Javari']\n"
          ]
        }
      ]
    },
    {
      "cell_type": "markdown",
      "source": [
        "# **:: Adiciona Itens na Lista**"
      ],
      "metadata": {
        "id": "tHiPD_1Ttgkm"
      }
    },
    {
      "cell_type": "markdown",
      "source": [
        "<h4 align=\"justify\">Para adicionar um item no final de uma lista, usamos o <b>método append()</b>. Ele é simples e direto, ideal quando queremos incluir novos dados ao final da lista existente, como uma nova região monitorada ou um alerta recente.</h4>"
      ],
      "metadata": {
        "id": "ipsXBv5Vtqxg"
      }
    },
    {
      "cell_type": "code",
      "source": [
        "# Lista inicial de regiões monitoradas\n",
        "regioes = [\"Xingu\", \"Marajó\", \"Tapajós\"]\n",
        "\n",
        "# Adicionando uma nova região ao final da lista\n",
        "regioes.append(\"Javari\")\n",
        "\n",
        "# Exibindo a lista atualizada\n",
        "print(\"📍 Regiões monitoradas:\", regioes)"
      ],
      "metadata": {
        "colab": {
          "base_uri": "https://localhost:8080/"
        },
        "id": "2pQm4ERxubOG",
        "outputId": "5f2adf19-93e4-485d-a78d-df44491b9d4b"
      },
      "execution_count": 55,
      "outputs": [
        {
          "output_type": "stream",
          "name": "stdout",
          "text": [
            "📍 Regiões monitoradas: ['Xingu', 'Marajó', 'Tapajós', 'Javari']\n"
          ]
        }
      ]
    },
    {
      "cell_type": "markdown",
      "source": [
        "# **:: Extende uma Lista**"
      ],
      "metadata": {
        "id": "-CdPyeLquN5D"
      }
    },
    {
      "cell_type": "markdown",
      "source": [
        "<h4 align=\"justify\">Para adicionar os elementos de outra lista à lista atual, utilizamos o <b>método extend()</b>. Ele permite unir duas listas, acrescentando todos os itens da segunda lista ao final da primeira, sem criar uma nova estrutura. Ideal para combinar dados ambientais de diferentes fontes.</h4>"
      ],
      "metadata": {
        "id": "SkSrDXFUuRMz"
      }
    },
    {
      "cell_type": "code",
      "source": [
        "# Lista principal de regiões já monitoradas\n",
        "regioes_principais = [\"Xingu\", \"Marajó\"]\n",
        "\n",
        "# Lista com novas regiões a serem adicionadas\n",
        "novas_regioes = [\"Tapajós\", \"Javari\"]\n",
        "\n",
        "# Unindo as listas\n",
        "regioes_principais.extend(novas_regioes)\n",
        "\n",
        "# Exibindo a lista final\n",
        "print(\"📍 Regiões monitoradas:\", regioes_principais)"
      ],
      "metadata": {
        "colab": {
          "base_uri": "https://localhost:8080/"
        },
        "id": "2pbziSQXt6xx",
        "outputId": "302de9aa-742d-47b6-9ab4-440546b17e2d"
      },
      "execution_count": 56,
      "outputs": [
        {
          "output_type": "stream",
          "name": "stdout",
          "text": [
            "📍 Regiões monitoradas: ['Xingu', 'Marajó', 'Tapajós', 'Javari']\n"
          ]
        }
      ]
    },
    {
      "cell_type": "markdown",
      "source": [
        "# **:: Remove Item Específicado da Lista**"
      ],
      "metadata": {
        "id": "QrtISaZ_to0k"
      }
    },
    {
      "cell_type": "markdown",
      "source": [
        "<h4 align=\"justify\">Para remover um item específico de uma lista, usamos o <b>método remove()</b>. Ele localiza o primeiro valor correspondente e o elimina da lista. Esse método é útil quando queremos excluir um dado exato — como uma região que não está mais sob monitoramento.</h4>"
      ],
      "metadata": {
        "id": "H9X9Na3WvrRk"
      }
    },
    {
      "cell_type": "code",
      "source": [
        "# Lista de regiões monitoradas\n",
        "regioes = [\"Xingu\", \"Marajó\", \"Tapajós\", \"Javari\"]\n",
        "\n",
        "# Removendo a região \"Tapajós\"\n",
        "regioes.remove(\"Tapajós\")\n",
        "\n",
        "# Exibindo a lista atualizada\n",
        "print(\"📍 Regiões monitoradas:\", regioes)"
      ],
      "metadata": {
        "colab": {
          "base_uri": "https://localhost:8080/"
        },
        "id": "QIrI4Jtrvgbd",
        "outputId": "3bdc3766-5c87-4520-919d-1f034f36018d"
      },
      "execution_count": 57,
      "outputs": [
        {
          "output_type": "stream",
          "name": "stdout",
          "text": [
            "📍 Regiões monitoradas: ['Xingu', 'Marajó', 'Javari']\n"
          ]
        }
      ]
    },
    {
      "cell_type": "markdown",
      "source": [
        "# **:: Remove Índice Específicado**"
      ],
      "metadata": {
        "id": "ZS91YIJBwEKP"
      }
    },
    {
      "cell_type": "markdown",
      "source": [
        "<h4 align=\"justify\">O <b>método pop()</b> é usado para remover um item de uma lista com base no índice informado. Ele também retorna o valor removido, o que permite usá-lo em outras partes do código — útil quando queremos registrar ou analisar o que foi excluído.</h4>"
      ],
      "metadata": {
        "id": "pzG1lVujwR0O"
      }
    },
    {
      "cell_type": "code",
      "source": [
        "# Lista de regiões monitoradas\n",
        "regioes = [\"Xingu\", \"Marajó\", \"Tapajós\", \"Javari\"]\n",
        "\n",
        "# Removendo a região na posição 2 (índice 2)\n",
        "regiao_removida = regioes.pop(2)\n",
        "\n",
        "# Exibindo o item removido e a lista atualizada\n",
        "print(f\"⚠️ Região removida: {regiao_removida}\")\n",
        "print(\"📍 Npvas regiões monitoradas:\", regioes)"
      ],
      "metadata": {
        "colab": {
          "base_uri": "https://localhost:8080/"
        },
        "id": "vo3E2_83wcSp",
        "outputId": "6e953385-e71d-49c2-ba17-4fd6c97f0df8"
      },
      "execution_count": 59,
      "outputs": [
        {
          "output_type": "stream",
          "name": "stdout",
          "text": [
            "⚠️ Região removida: Tapajós\n",
            "📍 Npvas regiões monitoradas: ['Xingu', 'Marajó', 'Javari']\n"
          ]
        }
      ]
    },
    {
      "cell_type": "code",
      "source": [
        "# remove usando o método del()\n",
        "\n",
        "# Lista de regiões monitoradas\n",
        "regioes = [\"Xingu\", \"Marajó\", \"Tapajós\", \"Javari\"]\n",
        "\n",
        "# Removendo a segunda região (índice 1)\n",
        "del regioes[1]\n",
        "\n",
        "print(\"📍 Lista após remoção:\", regioes)"
      ],
      "metadata": {
        "colab": {
          "base_uri": "https://localhost:8080/"
        },
        "id": "pOKNXWOHw3Z5",
        "outputId": "8723b3a0-5553-457e-9c71-0a3a75828513"
      },
      "execution_count": 60,
      "outputs": [
        {
          "output_type": "stream",
          "name": "stdout",
          "text": [
            "📍 Lista após remoção: ['Xingu', 'Tapajós', 'Javari']\n"
          ]
        }
      ]
    },
    {
      "cell_type": "markdown",
      "source": [
        "# **:: Limpe uma Lista**"
      ],
      "metadata": {
        "id": "RoRSx4_qwH30"
      }
    },
    {
      "cell_type": "markdown",
      "source": [
        "<h4 align=\"justify\">O <b>método clear()</b> é usado para esvaziar completamente uma lista, removendo todos os seus itens. A lista continua existindo na memória, mas fica vazia, pronta para receber novos dados, se necessário. Ideal para reiniciar o monitoramento sem apagar a estrutura."
      ],
      "metadata": {
        "id": "fnLp5313xcgp"
      }
    },
    {
      "cell_type": "code",
      "source": [
        "# Lista de regiões monitoradas durante a operação\n",
        "regioes = [\"Xingu\", \"Marajó\", \"Tapajós\", \"Javari\"]\n",
        "\n",
        "# Encerrando operação e limpando a lista\n",
        "regioes.clear()\n",
        "\n",
        "# Exibindo o resultado\n",
        "print(\"📍 Regiões monitoradas após limpeza:\", regioes)"
      ],
      "metadata": {
        "colab": {
          "base_uri": "https://localhost:8080/"
        },
        "id": "9g9dnmbwxO4I",
        "outputId": "e6b6f08e-c758-4c86-96c8-7e56a07898ca"
      },
      "execution_count": 61,
      "outputs": [
        {
          "output_type": "stream",
          "name": "stdout",
          "text": [
            "📍 Regiões monitoradas após limpeza: []\n"
          ]
        }
      ]
    },
    {
      "cell_type": "markdown",
      "source": [
        "#**:: Percorre uma Lista**"
      ],
      "metadata": {
        "id": "3xmnVtcBy-Um"
      }
    },
    {
      "cell_type": "markdown",
      "source": [
        "<h4 align=\"justify\">Você pode percorrer todos os itens de uma lista utilizando um laço for. Esse tipo de laço permite acessar cada elemento da lista, um por um, facilitando análises, exibições ou processamentos automatizados de dados.</h4>"
      ],
      "metadata": {
        "id": "2AxJmMw60FfD"
      }
    },
    {
      "cell_type": "code",
      "source": [
        "# Lista de rios da região amazônica\n",
        "rios = [\"Rio Amazonas\", \"Rio Negro\", \"Rio Tapajós\", \"Rio Xingu\"]\n",
        "\n",
        "# Usando for para exibir cada rio\n",
        "for rio in rios:\n",
        "    print(f\"🌊 Rio monitorado: {rio}\")"
      ],
      "metadata": {
        "colab": {
          "base_uri": "https://localhost:8080/"
        },
        "id": "1Zswzkky0oV7",
        "outputId": "db72af8d-27b9-40b7-a3ab-fbe03c94c4af"
      },
      "execution_count": 63,
      "outputs": [
        {
          "output_type": "stream",
          "name": "stdout",
          "text": [
            "🌊 Rio monitorado: Rio Amazonas\n",
            "🌊 Rio monitorado: Rio Negro\n",
            "🌊 Rio monitorado: Rio Tapajós\n",
            "🌊 Rio monitorado: Rio Xingu\n"
          ]
        }
      ]
    },
    {
      "cell_type": "code",
      "source": [
        "# Lista de valores de risco por região (em porcentagem)\n",
        "riscos = [20, 55, 80, 35]\n",
        "\n",
        "# Lista correspondente com os nomes das regiões\n",
        "regioes = [\"Xingu\", \"Marajó\", \"Tapajós\", \"Javari\"]\n",
        "\n",
        "# Percorrendo ambas as listas ao mesmo tempo\n",
        "for regiao, risco in zip(regioes, riscos):\n",
        "    if risco > 70:\n",
        "        status = \"🔴 Alto risco\"\n",
        "    elif risco > 40:\n",
        "        status = \"🟠 Risco moderado\"\n",
        "    else:\n",
        "        status = \"🟢 Baixo risco\"\n",
        "\n",
        "    print(f\"{regiao}: {status} ({risco}%)\")"
      ],
      "metadata": {
        "colab": {
          "base_uri": "https://localhost:8080/"
        },
        "id": "stxDdPVN0Nfx",
        "outputId": "6a50ddff-0653-4308-ac14-8b858d3011de"
      },
      "execution_count": 62,
      "outputs": [
        {
          "output_type": "stream",
          "name": "stdout",
          "text": [
            "Xingu: 🟢 Baixo risco (20%)\n",
            "Marajó: 🟠 Risco moderado (55%)\n",
            "Tapajós: 🔴 Alto risco (80%)\n",
            "Javari: 🟢 Baixo risco (35%)\n"
          ]
        }
      ]
    },
    {
      "cell_type": "markdown",
      "source": [
        "#**:: List Comprehension**"
      ],
      "metadata": {
        "id": "4AjoZY6P0u3o"
      }
    },
    {
      "cell_type": "markdown",
      "source": [
        "<h4 align=\"justify\">List comprehension é uma forma mais curta e elegante de criar uma nova lista com base nos valores de uma lista existente, aplicando filtros ou transformações em uma única linha de código.</h4>\n",
        "\n",
        "<h4 align=\"justify\">Por exemplo, se você tem uma lista de frutas e deseja criar uma nova lista contendo apenas as frutas que possuem a letra \"a\", normalmente usaria um for com uma condição. Com list comprehension, esse processo se torna mais direto e legível.</h4>"
      ],
      "metadata": {
        "id": "b6P084km0xeF"
      }
    },
    {
      "cell_type": "markdown",
      "source": [
        "<pre><code>\n",
        "nova_lista = [expressão for item in lista_original if condição]\n",
        "</pre></code>"
      ],
      "metadata": {
        "id": "X9NJe83V1g1M"
      }
    },
    {
      "cell_type": "markdown",
      "source": [
        "<b>Componentes:</b>\n",
        "\n",
        "expressão: o que você quer colocar na nova lista (pode ser o próprio item ou uma transformação dele).\n",
        "\n",
        "for item in lista_original: percorre cada item da lista original.\n",
        "\n",
        "if condição: (opcional) filtra os itens que serão incluídos."
      ],
      "metadata": {
        "id": "9JrKq7Md1yvB"
      }
    },
    {
      "cell_type": "code",
      "source": [
        "# Selecionar regiões da Amazônia que possuem a letra \"a\"\n",
        "# Forma Tradicional\n",
        "\n",
        "regioes = [\"Xingu\", \"Marajó\", \"Tapajós\", \"Javari\", \"Purús\"]\n",
        "regioes_com_a = []\n",
        "\n",
        "for regiao in regioes:\n",
        "    if \"a\" in regiao.lower():\n",
        "        regioes_com_a.append(regiao)\n",
        "\n",
        "print(\"🌿 Regiões com a letra 'a':\", regioes_com_a)"
      ],
      "metadata": {
        "colab": {
          "base_uri": "https://localhost:8080/"
        },
        "id": "u_R-vU8d1EAT",
        "outputId": "4a8391de-766d-4322-9367-d98362572d6b"
      },
      "execution_count": 64,
      "outputs": [
        {
          "output_type": "stream",
          "name": "stdout",
          "text": [
            "🌿 Regiões com a letra 'a': ['Marajó', 'Tapajós', 'Javari']\n"
          ]
        }
      ]
    },
    {
      "cell_type": "code",
      "source": [
        "# Selecionar regiões da Amazônia que possuem a letra \"a\"\n",
        "# Usando List Comprehension\n",
        "regioes = [\"Xingu\", \"Marajó\", \"Tapajós\", \"Javari\", \"Purús\"]\n",
        "regioes_com_a = [regiao for regiao in regioes if \"a\" in regiao.lower()]\n",
        "\n",
        "print(\"🌿 Regiões com a letra 'a':\", regioes_com_a)"
      ],
      "metadata": {
        "colab": {
          "base_uri": "https://localhost:8080/"
        },
        "id": "Uct5fkPs1Zc9",
        "outputId": "331d832e-e0b1-4e4f-efd8-e757b06a0bb8"
      },
      "execution_count": 65,
      "outputs": [
        {
          "output_type": "stream",
          "name": "stdout",
          "text": [
            "🌿 Regiões com a letra 'a': ['Marajó', 'Tapajós', 'Javari']\n"
          ]
        }
      ]
    },
    {
      "cell_type": "markdown",
      "source": [
        "#**:: Classifica Lista Alfanumericamente**"
      ],
      "metadata": {
        "id": "N1iFhpPl2Aks"
      }
    },
    {
      "cell_type": "markdown",
      "source": [
        "<h4 align=\"justify\">As listas em Python possuem o <b>método sort()</b>, que permite classificar os itens automaticamente em ordem alfanumérica crescente (do menor para o maior, ou de A a Z, por padrão). Esse método modifica a lista original.</h4>\n"
      ],
      "metadata": {
        "id": "3Gc1YH0J2GqM"
      }
    },
    {
      "cell_type": "code",
      "source": [
        "# Classifique a lista em ordem alfabética\n",
        "regioes = [\"Xingu\", \"Marajó\", \"Tapajós\", \"Javari\", \"Purús\"]\n",
        "regioes.sort()\n",
        "\n",
        "print(\"🌿 Regiões classificadas:\", regioes)"
      ],
      "metadata": {
        "colab": {
          "base_uri": "https://localhost:8080/"
        },
        "id": "Ds0mxiW_2kFD",
        "outputId": "0062d24d-98f7-495e-94ce-29420bfb69d3"
      },
      "execution_count": 66,
      "outputs": [
        {
          "output_type": "stream",
          "name": "stdout",
          "text": [
            "🌿 Regiões classificadas: ['Javari', 'Marajó', 'Purús', 'Tapajós', 'Xingu']\n"
          ]
        }
      ]
    },
    {
      "cell_type": "code",
      "source": [
        "# Classifique a lista numericamente\n",
        "numeros = [3, 1, 4, 1, 5, 9, 2, 6, 5, 3, 5]\n",
        "numeros.sort()\n",
        "\n",
        "print(\"🔢 Números classificados:\", numeros)"
      ],
      "metadata": {
        "colab": {
          "base_uri": "https://localhost:8080/"
        },
        "id": "qaMXGOj92srF",
        "outputId": "e3e3a64e-7e83-45dd-a4a2-6e40c72ba290"
      },
      "execution_count": 67,
      "outputs": [
        {
          "output_type": "stream",
          "name": "stdout",
          "text": [
            "🔢 Números classificados: [1, 1, 2, 3, 3, 4, 5, 5, 5, 6, 9]\n"
          ]
        }
      ]
    },
    {
      "cell_type": "code",
      "source": [
        "# Ordenar em ordem decrescente\n",
        "regioes = [\"Xingu\", \"Marajó\", \"Tapajós\", \"Javari\", \"Purús\"]\n",
        "regioes.sort(reverse=True)\n",
        "\n",
        "print(\"🌿 Regiões classificadas em ordem decrescente:\", regioes)"
      ],
      "metadata": {
        "colab": {
          "base_uri": "https://localhost:8080/"
        },
        "id": "retOtezQ3EFi",
        "outputId": "9dc7a859-45fa-4ba5-c759-32d1e7ebfe1e"
      },
      "execution_count": 68,
      "outputs": [
        {
          "output_type": "stream",
          "name": "stdout",
          "text": [
            "🌿 Regiões classificadas em ordem decrescente: ['Xingu', 'Tapajós', 'Purús', 'Marajó', 'Javari']\n"
          ]
        }
      ]
    },
    {
      "cell_type": "markdown",
      "source": [
        "#**:: Personalizar a Função de Classificação**"
      ],
      "metadata": {
        "id": "8DWJHHWG3Q1O"
      }
    },
    {
      "cell_type": "markdown",
      "source": [
        "<h4 align=\"justify\">Você também pode personalizar a forma como uma lista é classificada usando o argumento <b>key = função</b>. Essa função define a lógica de ordenação, retornando um valor que será usado como base para a comparação — quanto menor o valor retornado, mais cedo o item aparecerá na lista.</h4>\n"
      ],
      "metadata": {
        "id": "06x3iPsU3XGE"
      }
    },
    {
      "cell_type": "code",
      "source": [
        "# classificar regiões da Amazônia com base no número de letras no nome, do mais curto para o mais longo\n",
        "regioes = [\"Xingu\", \"Marajó\", \"Tapajós\", \"Javari\", \"Purús\"]\n",
        "regioes.sort(key=len)\n",
        "\n",
        "print(\"🌿 Regiões classificadas por tamanho:\", regioes)"
      ],
      "metadata": {
        "colab": {
          "base_uri": "https://localhost:8080/"
        },
        "id": "qj3hpf4A3m2W",
        "outputId": "0979de49-fb3d-4ff6-a3bb-58e5d42218a3"
      },
      "execution_count": 69,
      "outputs": [
        {
          "output_type": "stream",
          "name": "stdout",
          "text": [
            "🌿 Regiões classificadas por tamanho: ['Xingu', 'Purús', 'Marajó', 'Javari', 'Tapajós']\n"
          ]
        }
      ]
    },
    {
      "cell_type": "markdown",
      "source": [
        "<h4 align=\"justify\"><b>lambda</b> é uma função anônima em Python — ou seja, uma função sem nome — usada quando você precisa de uma função simples e rápida, geralmente com uma única linha de código.</h4>"
      ],
      "metadata": {
        "id": "XKdBv9Zx4h3z"
      }
    },
    {
      "cell_type": "code",
      "source": [
        "dobro = lambda x: x * 2\n",
        "print(dobro(5))  # Saída: 10"
      ],
      "metadata": {
        "colab": {
          "base_uri": "https://localhost:8080/"
        },
        "id": "1NAcKVJO4sQJ",
        "outputId": "52e31e8a-e4af-4619-870a-c00e504f59a1"
      },
      "execution_count": 71,
      "outputs": [
        {
          "output_type": "stream",
          "name": "stdout",
          "text": [
            "10\n"
          ]
        }
      ]
    },
    {
      "cell_type": "code",
      "source": [
        "# Temos uma lista de regiões com seus respectivos níveis de risco.\n",
        "# Ordená-las do menor para o maior risco\n",
        "\n",
        "dados = [\n",
        "    (\"Xingu\", 75),\n",
        "    (\"Tapajós\", 40),\n",
        "    (\"Marajó\", 90),\n",
        "    (\"Javari\", 55)\n",
        "]\n",
        "\n",
        "# Ordenando com base no valor de risco (índice 1 da tupla)\n",
        "dados.sort(key=lambda item: item[1])\n",
        "\n",
        "# Exibindo resultado\n",
        "for regiao, risco in dados:\n",
        "    print(f\"{regiao}: {risco}% de risco\")"
      ],
      "metadata": {
        "colab": {
          "base_uri": "https://localhost:8080/"
        },
        "id": "FjRCtZOg39dl",
        "outputId": "9cbd8200-f773-40f3-a538-171a887a3d56"
      },
      "execution_count": 70,
      "outputs": [
        {
          "output_type": "stream",
          "name": "stdout",
          "text": [
            "Tapajós: 40% de risco\n",
            "Javari: 55% de risco\n",
            "Xingu: 75% de risco\n",
            "Marajó: 90% de risco\n"
          ]
        }
      ]
    },
    {
      "cell_type": "markdown",
      "source": [
        "# **&#9776; Atividade: calcular média móvel de área desmatada**"
      ],
      "metadata": {
        "id": "PN7O-lIN5P0p"
      }
    },
    {
      "cell_type": "markdown",
      "source": [
        "<h4 align=\"justify\">Nos últimos anos, o avanço do desmatamento na Amazônia tem gerado grande preocupação entre cientistas, ambientalistas e comunidades locais. A variação no ritmo do desmatamento pode indicar pressões econômicas, ausência de fiscalização ou mudanças no uso da terra. Por isso, é essencial acompanhar os dados de forma contínua e identificar tendências com clareza. Uma das formas mais utilizadas para esse acompanhamento é o <b>cálculo da média móvel</b>, que suaviza as flutuações diárias e permite visualizar o comportamento real ao longo do tempo.</h4>\n",
        "<h4 align=\"justify\">Imagine que você está atuando como parte de uma equipe de inteligência ambiental em uma ONG que monitora áreas críticas da floresta. Você recebeu dados semanais sobre a área desmatada (em km²) em uma região específica da Amazônia ao longo de 10 semanas. O desafio agora é aplicar um modelo simples de <b>média móvel de 3 períodos</b> para entender a evolução do desmatamento e identificar se há tendência de alta, estabilidade ou queda.</h4>\n",
        "<h4 align=\"justify\">Essa técnica é extremamente útil para <b>tomada de decisão rápida e baseada em dados</b>, além de ser utilizada como base para acionar alertas, organizar expedições de fiscalização ou apoiar políticas públicas. Neste exercício, você vai aplicar na prática um recurso de ciência de dados que ajuda a transformar dados ambientais em inteligência acionável.</h4>"
      ],
      "metadata": {
        "id": "Otn9aEnI5g1d"
      }
    },
    {
      "cell_type": "markdown",
      "source": [
        "# **&#9776; Desafio**"
      ],
      "metadata": {
        "id": "Ism3W4as6jN3"
      }
    },
    {
      "cell_type": "markdown",
      "source": [
        "<h4 align=\"justify\">Você recebeu os dados semanais de desmatamento (em km²) de uma região da Amazônia durante 10 semanas. Sua missão é ajudar a equipe de monitoramento ambiental a entender se o desmatamento está aumentando, diminuindo ou se mantendo estável ao longo do tempo. Para isso, siga os passos abaixo:</h4>"
      ],
      "metadata": {
        "id": "FsCJzL5B66im"
      }
    },
    {
      "cell_type": "markdown",
      "source": [
        "<h4 align=\"justify\"><b>1. Utilize a seguinte lista com os dados de desmatamento:</b></h4>\n",
        "<pre><code>\n",
        "desmatamento_semanal = [12.4, 15.1, 13.7, 17.3, 20.5, 18.9, 22.1, 19.4, 16.8, 14.2]\n",
        "</pre></code>"
      ],
      "metadata": {
        "id": "YnXRLIDM7I6e"
      }
    },
    {
      "cell_type": "markdown",
      "source": [
        "<h4 align=\"justify\"><b>2. Crie uma função em Python que calcule a média móvel de 3 períodos com base nesses dados.</b></h4>"
      ],
      "metadata": {
        "id": "qaOC9oDJ7TYK"
      }
    },
    {
      "cell_type": "markdown",
      "source": [
        "<h4 align=\"justify\"><b>3. Mostre:</b></h4>\n",
        "<h4 align=\"justify\"><b>&bullet; A lista original;</b></h4>\n",
        "<h4 align=\"justify\"><b>&bullet; A lista com os valores da média móvel;</b></h4>\n",
        "<h4 align=\"justify\"><b>&bullet; (Opcional) Indique a semana onde houve a maior queda ou o maior aumento na média.</b></h4>\n",
        "\n"
      ],
      "metadata": {
        "id": "-BFuDu3L7UFX"
      }
    },
    {
      "cell_type": "markdown",
      "source": [
        "<h4 align=\"justify\"><b>Lembre-se:</b> a média móvel é uma ferramenta importante para suavizar variações bruscas e ajudar na tomada de decisão ambiental com base em dados reais.</h4>"
      ],
      "metadata": {
        "id": "U3DdNJ_J7Uyw"
      }
    },
    {
      "cell_type": "code",
      "source": [
        "# @title\n",
        "# Lista com os dados semanais de desmatamento (em km²)\n",
        "desmatamento_semanal = [12.4, 15.1, 13.7, 17.3, 20.5, 18.9, 22.1, 19.4, 16.8, 14.2]"
      ],
      "metadata": {
        "cellView": "form",
        "id": "jFTcYbfh8Foz"
      },
      "execution_count": 72,
      "outputs": []
    },
    {
      "cell_type": "code",
      "source": [
        "# @title\n",
        "# Função para calcular a média móvel de 3 períodos\n",
        "\n",
        "def calcular_media_movel(lista, periodo=3):\n",
        "    medias_moveis = []\n",
        "    for i in range(len(lista) - periodo + 1):\n",
        "        media = sum(lista[i:i+periodo]) / periodo\n",
        "        medias_moveis.append(round(media, 2))  # arredondado para 2 casas decimais\n",
        "    return medias_moveis"
      ],
      "metadata": {
        "cellView": "form",
        "id": "7UyNEkYv8JyO"
      },
      "execution_count": 73,
      "outputs": []
    },
    {
      "cell_type": "code",
      "source": [
        "# @title\n",
        "# Calculando\n",
        "\n",
        "medias = calcular_media_movel(desmatamento_semanal)\n",
        "\n",
        "print(\"📊 Desmatamento semanal (km²):\", desmatamento_semanal)\n",
        "print(\"📈 Média móvel de 3 semanas:\", medias)"
      ],
      "metadata": {
        "colab": {
          "base_uri": "https://localhost:8080/"
        },
        "cellView": "form",
        "collapsed": true,
        "id": "tGCXtk4L8Qkn",
        "outputId": "5da4bd87-48c9-47cc-a69f-2e2ea50e145b"
      },
      "execution_count": 74,
      "outputs": [
        {
          "output_type": "stream",
          "name": "stdout",
          "text": [
            "📊 Desmatamento semanal (km²): [12.4, 15.1, 13.7, 17.3, 20.5, 18.9, 22.1, 19.4, 16.8, 14.2]\n",
            "📈 Média móvel de 3 semanas: [13.73, 15.37, 17.17, 18.9, 20.5, 20.13, 19.43, 16.8]\n"
          ]
        }
      ]
    },
    {
      "cell_type": "code",
      "source": [
        "# @title\n",
        "# (Bônus) Identificar maior variação entre médias móveis\n",
        "def maior_variacao(medias):\n",
        "    maior_dif = 0\n",
        "    semana = 0\n",
        "    for i in range(1, len(medias)):\n",
        "        diferenca = abs(medias[i] - medias[i-1])\n",
        "        if diferenca > maior_dif:\n",
        "            maior_dif = diferenca\n",
        "            semana = i\n",
        "    return semana, round(maior_dif, 2)"
      ],
      "metadata": {
        "cellView": "form",
        "id": "mgwWzkiS8ZA-"
      },
      "execution_count": 75,
      "outputs": []
    },
    {
      "cell_type": "code",
      "source": [
        "# @title\n",
        "semana, variacao = maior_variacao(medias)\n",
        "print(f\"📌 Maior variação ocorreu entre a semana {semana} e {semana+1}, com {variacao} km² de diferença.\")"
      ],
      "metadata": {
        "colab": {
          "base_uri": "https://localhost:8080/"
        },
        "cellView": "form",
        "collapsed": true,
        "id": "Nr7lkymX8fou",
        "outputId": "2e3950a2-e842-43db-90e5-920e6965e147"
      },
      "execution_count": 76,
      "outputs": [
        {
          "output_type": "stream",
          "name": "stdout",
          "text": [
            "📌 Maior variação ocorreu entre a semana 7 e 8, com 2.63 km² de diferença.\n"
          ]
        }
      ]
    },
    {
      "cell_type": "markdown",
      "source": [
        "<center><img src=\"https://i.postimg.cc/m2zGXQJf/Chat-GPT-Image-14-de-jul-de-2025-18-19-38-removebg-preview.png}\" width=50%></center>"
      ],
      "metadata": {
        "id": "ba21f_bB6HXj"
      }
    }
  ]
}