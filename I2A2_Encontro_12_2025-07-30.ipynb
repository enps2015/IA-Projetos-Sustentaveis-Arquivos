{
  "nbformat": 4,
  "nbformat_minor": 0,
  "metadata": {
    "colab": {
      "provenance": []
    },
    "kernelspec": {
      "name": "python3",
      "display_name": "Python 3"
    },
    "language_info": {
      "name": "python"
    }
  },
  "cells": [
    {
      "cell_type": "code",
      "execution_count": 1,
      "metadata": {
        "colab": {
          "base_uri": "https://localhost:8080/",
          "height": 1000
        },
        "id": "rg3inWb1jSuX",
        "outputId": "752b6013-ba56-48d3-9be5-8c2419744d00",
        "cellView": "form"
      },
      "outputs": [
        {
          "output_type": "display_data",
          "data": {
            "text/plain": [
              "<IPython.core.display.HTML object>"
            ],
            "text/html": [
              "<img src=\"https://i.postimg.cc/mZ8RgP34/header-bloco4-encontro12.jpg\" style=\"display: block; margin: 0 auto; width: 100%; height: 100%; object-fit: contain\">"
            ]
          },
          "metadata": {}
        },
        {
          "output_type": "display_data",
          "data": {
            "text/plain": [
              "<IPython.core.display.HTML object>"
            ],
            "text/html": [
              "\n",
              "  <div style=\"width:100%; color: black; background-color:none; margin-top:20px\">\n",
              "    <div style=\"float: left; width: 45%; margin-top:10px\">\n",
              "      <h1 style=\"color:#000; margin-bottom:10px\">Sobre o curso</h1>\n",
              "      <p style=\"font-size:16px; line-height: 23px; text-align:justify\">\n",
              "        O curso Inteligência Artificial Aplicada aos Desafios Socioambientais da Amazônia, promovido pelo Instituto de Inteligência Artificial Aplicada (I2A2), é uma iniciativa pioneira voltada para capacitar moradores do Pará e da região Norte. Com duração de seis meses, combina aulas online, atividades assíncronas, workshops práticos, encontros com especialistas e mentoria contínua. O objetivo é aplicar a IA de forma prática em problemas ambientais reais, em alinhamento com as diretrizes e temas da COP30.\n",
              "      </p3>\n",
              "      <p style=\"font-size:16px; line-height: 23px; text-align:justify\">\n",
              "        Ao longo do curso, os participantes exploram desde fundamentos de Machine Learning até IA Generativa, trabalhando com dados ambientais da Amazônia para enfrentar questões como desmatamento, queimadas, qualidade da água e riscos climáticos. Cada grupo finaliza sua jornada com um projeto integrador, apresentando soluções sustentáveis e socialmente viáveis. A formação busca fortalecer competências técnicas e o protagonismo de lideranças locais, articulando ciência, tecnologia e justiça ambiental, consolidando a Amazônia como polo de inovação para o desenvolvimento sustentável.\n",
              "      </p>\n",
              "    </div>\n",
              "    <div style=\"float: left; width: 55%; display: flex; justify-content: center; align-items: center;\">\n",
              "      <center>\n",
              "        <img style=\"margin-top:80px;width:420px\" src=\"https://i.postimg.cc/0jLdTyMD/logo-i2a2.png\" />\n",
              "      </center>\n",
              "    </div>\n",
              "  </div>\n",
              "  <div style=”clear: both”></div>\n",
              "  <div style=\"width:100%; color: black; background-color:none; margin-top:20px\">\n",
              "  <div style=\"float: left; width: 100%;\">\n",
              "    <center>\n",
              "        <img style=\"margin-top:80px;width:200px\" src=\"https://i.postimg.cc/qqXsDh6F/separator-python.png\" />\n",
              "      </center>\n",
              "  </div>\n",
              "  </div>\n",
              "\n"
            ]
          },
          "metadata": {}
        }
      ],
      "source": [
        "# @title\n",
        "# Curso IA Aplicada aos Desafios Socioambientais da Amazônia\n",
        "# Notebook desenvolvido por: Onédio S Seabra junior\n",
        "# Atualização : 1o de julho de 2025\n",
        "\n",
        "from IPython.display import display, HTML\n",
        "\n",
        "# O caminho para a imagem\n",
        "header_img = 'https://i.postimg.cc/mZ8RgP34/header-bloco4-encontro12.jpg'\n",
        "# O código HTML para exibir a imagem em tamanho original e centralizada\n",
        "html = f'<img src=\"{header_img}\" style=\"display: block; margin: 0 auto; width: 100%; height: 100%; object-fit: contain\">'\n",
        "# Exibe a imagem usando o display do IPython e o HTML\n",
        "display(HTML(html))\n",
        "\n",
        "# apresenta Sobre o Curso\n",
        "html_sobre = '''\n",
        "  <div style=\"width:100%; color: black; background-color:none; margin-top:20px\">\n",
        "    <div style=\"float: left; width: 45%; margin-top:10px\">\n",
        "      <h1 style=\"color:#000; margin-bottom:10px\">Sobre o curso</h1>\n",
        "      <p style=\"font-size:16px; line-height: 23px; text-align:justify\">\n",
        "        O curso Inteligência Artificial Aplicada aos Desafios Socioambientais da Amazônia, promovido pelo Instituto de Inteligência Artificial Aplicada (I2A2), é uma iniciativa pioneira voltada para capacitar moradores do Pará e da região Norte. Com duração de seis meses, combina aulas online, atividades assíncronas, workshops práticos, encontros com especialistas e mentoria contínua. O objetivo é aplicar a IA de forma prática em problemas ambientais reais, em alinhamento com as diretrizes e temas da COP30.\n",
        "      </p3>\n",
        "      <p style=\"font-size:16px; line-height: 23px; text-align:justify\">\n",
        "        Ao longo do curso, os participantes exploram desde fundamentos de Machine Learning até IA Generativa, trabalhando com dados ambientais da Amazônia para enfrentar questões como desmatamento, queimadas, qualidade da água e riscos climáticos. Cada grupo finaliza sua jornada com um projeto integrador, apresentando soluções sustentáveis e socialmente viáveis. A formação busca fortalecer competências técnicas e o protagonismo de lideranças locais, articulando ciência, tecnologia e justiça ambiental, consolidando a Amazônia como polo de inovação para o desenvolvimento sustentável.\n",
        "      </p>\n",
        "    </div>\n",
        "    <div style=\"float: left; width: 55%; display: flex; justify-content: center; align-items: center;\">\n",
        "      <center>\n",
        "        <img style=\"margin-top:80px;width:420px\" src=\"https://i.postimg.cc/0jLdTyMD/logo-i2a2.png\" />\n",
        "      </center>\n",
        "    </div>\n",
        "  </div>\n",
        "  <div style=”clear: both”></div>\n",
        "  <div style=\"width:100%; color: black; background-color:none; margin-top:20px\">\n",
        "  <div style=\"float: left; width: 100%;\">\n",
        "    <center>\n",
        "        <img style=\"margin-top:80px;width:200px\" src=\"https://i.postimg.cc/qqXsDh6F/separator-python.png\" />\n",
        "      </center>\n",
        "  </div>\n",
        "  </div>\n",
        "\n",
        "'''\n",
        "display(HTML(html_sobre))\n"
      ]
    },
    {
      "cell_type": "markdown",
      "source": [
        "# **&#9776; Trilha do Conhecimento**"
      ],
      "metadata": {
        "id": "zNUlCyVQTwga"
      }
    },
    {
      "cell_type": "markdown",
      "source": [
        "<h4 align=\"justify\">&bullet; A biblioteca Pandas.</h4>\n",
        "<h4 align=\"justify\">&bullet; Leitura de CSV e criação de DataFrame.</h4>\n",
        "<h4 align=\"justify\">&bullet; Seleção e Filtragem Básica.</h4>\n",
        "<h4 align=\"justify\">&bullet; Exercícios para Aprendizagem</h4>"
      ],
      "metadata": {
        "id": "bL_52DBLUhYk"
      }
    },
    {
      "cell_type": "markdown",
      "source": [
        "# **&#9776; Biblioteca Pandas**\n",
        "---"
      ],
      "metadata": {
        "id": "YbGvwa81P6qv"
      }
    },
    {
      "cell_type": "markdown",
      "source": [
        "<h4 align=\"justify\">A biblioteca Pandas é uma das ferramentas mais poderosas e populares da linguagem Python para análise e manipulação de dados. Ela fornece estruturas de dados de alto desempenho, como Series (vetores unidimensionais) e, principalmente, o DataFrame, que permite organizar dados em formato de tabela com linhas e colunas, semelhante a uma planilha do Excel ou a uma tabela de banco de dados. Com Pandas, é possível carregar, transformar, limpar, agrupar, filtrar e visualizar dados com facilidade, além de integrar-se bem com outras bibliotecas como NumPy, Matplotlib e Scikit-learn.</h4>\n",
        "<h4 align=\"justify\">O Pandas é amplamente utilizado em projetos de ciência de dados, inteligência artificial e engenharia ambiental, pois permite trabalhar com conjuntos de dados reais e complexos, como arquivos CSV, Excel, bancos de dados SQL e até APIs. No contexto do curso “IA Aplicada aos Desafios Socioambientais da Amazônia”, o Pandas será essencial para ler dados sobre rios, qualidade da água, desmatamento ou clima, permitindo que os alunos façam análises significativas, detectem padrões e proponham soluções baseadas em evidências.</h4>"
      ],
      "metadata": {
        "id": "LgcdcjKNP_t2"
      }
    },
    {
      "cell_type": "code",
      "source": [
        "# instalando a biblioteca pandas\n",
        "!pip install -U pandas"
      ],
      "metadata": {
        "id": "9gpJx-n44So0"
      },
      "execution_count": null,
      "outputs": []
    },
    {
      "cell_type": "code",
      "source": [
        "# carregando a biblioteca pandas\n",
        "# uso do \"as\" tem o significado de apelido, portando posso usar pd ao invés de pandas\n",
        "import pandas as pd"
      ],
      "metadata": {
        "id": "EPZRzSKI4dRP"
      },
      "execution_count": 3,
      "outputs": []
    },
    {
      "cell_type": "code",
      "source": [
        "#verificando a versãp do pandas\n",
        "import pandas as pd\n",
        "\n",
        "print(pd.__version__)"
      ],
      "metadata": {
        "colab": {
          "base_uri": "https://localhost:8080/"
        },
        "id": "E5mz3XX25YcJ",
        "outputId": "56d9eb62-2459-4881-b185-2ec0666d4561"
      },
      "execution_count": 2,
      "outputs": [
        {
          "output_type": "stream",
          "name": "stdout",
          "text": [
            "2.2.2\n"
          ]
        }
      ]
    },
    {
      "cell_type": "markdown",
      "source": [
        "# **:: Pandas Series**"
      ],
      "metadata": {
        "id": "_6K5fiJN5NDu"
      }
    },
    {
      "cell_type": "markdown",
      "source": [
        "<h4 aling=\"justify\">O Pandas Series é uma estrutura de dados unidimensional fornecida pela biblioteca Pandas, que funciona como um vetor rotulado. Ele armazena uma sequência de dados (como números, textos ou datas), mas com um diferencial: cada valor está associado a um índice, o que permite acessar os elementos de forma muito flexível. Pode ser criado a partir de listas, dicionários, arrays ou até colunas de um DataFrame. O Series é útil para representar variáveis individuais, colunas isoladas ou até séries temporais, sendo uma ferramenta poderosa para análises rápidas, filtragens e operações matemáticas vetorizadas em Python.</h4>"
      ],
      "metadata": {
        "id": "dm0-0taR6_Cn"
      }
    },
    {
      "cell_type": "markdown",
      "source": [
        "<h4 aling=\"justify\">A estrutura de uma Pandas Series baseada em uma lista é composta por dois elementos principais:</h4>\n",
        "<h4 aling=\"justify\"><b>Valores (dados)</b>: os elementos da lista original, que podem ser números, textos, datas, etc.</h4>\n",
        "<h4 aling=\"justify\"><b>Índices</b>: uma sequência que identifica cada valor da Series. Se você não definir explicitamente, o Pandas criará índices numéricos automáticos, começando do 0.</h4>"
      ],
      "metadata": {
        "id": "o_G3Zsf98-A4"
      }
    },
    {
      "cell_type": "markdown",
      "source": [
        "<h3><b>Sintaxe Básica a partir de uma Lista</b></h3>\n",
        "<pre><code>\n",
        "dados = [valor1, valor2, valor3, ...]\n",
        "serie = pd.Series(data=dados)\n",
        "</code></pre>\n",
        "\n",
        "<h3><b>Opcionalmente, você pode definir os índices (rótulos) para cada valor:</b></h3>\n",
        "<pre><code>\n",
        "indice = ['rótulo1', 'rótulo2', 'rótulo3', ...]\n",
        "serie = pd.Series(data=dados, index=indice)\n",
        "</code></pre>"
      ],
      "metadata": {
        "id": "9OlyeNvj8bTG"
      }
    },
    {
      "cell_type": "markdown",
      "source": [
        "# **:: Series baseado em uma Lista**"
      ],
      "metadata": {
        "id": "zQE8svg67WrW"
      }
    },
    {
      "cell_type": "code",
      "source": [
        "# Exemplo 1\n",
        "import pandas as pd\n",
        "\n",
        "# Lista com os valores de pH médio medidos em três rios da Amazônia\n",
        "valores = [3.1, 2.5, 1.8]\n",
        "\n",
        "# Lista com os nomes dos rios que serão usados como índice da Series\n",
        "nomes = ['Rio Negro', 'Rio Tapajós', 'Rio Madeira']\n",
        "\n",
        "# Cria a Series associando os valores de pH aos nomes dos rios\n",
        "# 'data=valores' define os dados numéricos\n",
        "# 'index=nomes' define os rótulos de cada dado\n",
        "# 'name' dá um título à Series, útil para visualizações ou DataFrames futuros\n",
        "serie_ph = pd.Series(data=valores, index=nomes, name='pH Médio')"
      ],
      "metadata": {
        "id": "H9fyAd8f9mmf"
      },
      "execution_count": 6,
      "outputs": []
    },
    {
      "cell_type": "code",
      "source": [
        "# Exibe a Series com os dados organizados\n",
        "print(serie_ph)"
      ],
      "metadata": {
        "colab": {
          "base_uri": "https://localhost:8080/"
        },
        "id": "rdyKnRD5-BVk",
        "outputId": "72a9468b-41de-488d-8d45-aff337b097d0"
      },
      "execution_count": 7,
      "outputs": [
        {
          "output_type": "stream",
          "name": "stdout",
          "text": [
            "Rio Negro      3.1\n",
            "Rio Tapajós    2.5\n",
            "Rio Madeira    1.8\n",
            "Name: pH Médio, dtype: float64\n"
          ]
        }
      ]
    },
    {
      "cell_type": "code",
      "source": [
        "#Exemplo 2\n",
        "import pandas as pd\n",
        "\n",
        "# Lista com os dados de resíduos plásticos coletados (em toneladas)\n",
        "residuos_plasticos = [2.3, 1.8, 3.5, 0.9, 2.7]\n",
        "\n",
        "# Lista com os nomes das comunidades\n",
        "comunidades = ['Com. São João', 'Com. Bela Vista', 'Com. Arumã', 'Com. Tucuxi', 'Com. Jurupari']\n",
        "\n",
        "# Criando a Series com os dados e os nomes como índice\n",
        "series_residuos = pd.Series(data=residuos_plasticos, index=comunidades, name=\"Resíduos Plásticos (t)\")"
      ],
      "metadata": {
        "id": "ay5xEc4A7az4"
      },
      "execution_count": 8,
      "outputs": []
    },
    {
      "cell_type": "code",
      "source": [
        "# Exibindo a Series\n",
        "print(series_residuos)"
      ],
      "metadata": {
        "colab": {
          "base_uri": "https://localhost:8080/"
        },
        "id": "CJc7U_E_7_h7",
        "outputId": "82b5b8d6-ecfd-440a-f519-62758f5914ac"
      },
      "execution_count": 5,
      "outputs": [
        {
          "output_type": "stream",
          "name": "stdout",
          "text": [
            "Com. São João      2.3\n",
            "Com. Bela Vista    1.8\n",
            "Com. Arumã         3.5\n",
            "Com. Tucuxi        0.9\n",
            "Com. Jurupari      2.7\n",
            "Name: Resíduos Plásticos (t), dtype: float64\n"
          ]
        }
      ]
    },
    {
      "cell_type": "markdown",
      "source": [
        "# **:: Rótulos**"
      ],
      "metadata": {
        "id": "qRetXkulAGWI"
      }
    },
    {
      "cell_type": "markdown",
      "source": [
        "<h4 align=\"justify\">Em uma <b>Pandas Series</b>, cada valor é automaticamente associado a um <b>rótulo</b> (também chamado de índice), que serve para identificar e acessar os dados de forma organizada. Se o programador não especificar os rótulos manualmente, o Pandas atribui <b>índices numéricos automáticos</b>, começando por zero. Esses rótulos são fundamentais para localizar valores dentro da Series, pois permitem consultas precisas, como <b>serie[0]</b> para acessar o primeiro valor ou <b>serie['Rio Tapajós']</b> quando se define um rótulo personalizado. Essa estrutura facilita a manipulação e análise de dados, especialmente em contextos ambientais onde cada valor pode estar associado a um rio, município ou indicador específico.</h4>"
      ],
      "metadata": {
        "id": "Tcca_EeMAI-z"
      }
    },
    {
      "cell_type": "code",
      "source": [
        "# Exemplo 1: Sem rótulos personalizados (índices automáticos)\n",
        "import pandas as pd\n",
        "\n",
        "valores = [10, 20, 30]\n",
        "serie_auto = pd.Series(valores)\n",
        "print(\"Com índices automáticos:\")\n",
        "print(serie_auto)\n",
        "\n",
        "# Acessando o segundo valor (índice 1)\n",
        "print(\"\\nValor com índice 1:\", serie_auto[1])"
      ],
      "metadata": {
        "colab": {
          "base_uri": "https://localhost:8080/"
        },
        "id": "pbg27kzPAD1V",
        "outputId": "e1654451-7bb1-4564-bdc8-2459c4c6ff28"
      },
      "execution_count": 9,
      "outputs": [
        {
          "output_type": "stream",
          "name": "stdout",
          "text": [
            "Com índices automáticos:\n",
            "0    10\n",
            "1    20\n",
            "2    30\n",
            "dtype: int64\n",
            "\n",
            "Valor com índice 1: 20\n"
          ]
        }
      ]
    },
    {
      "cell_type": "code",
      "source": [
        "# Exemplo 2: Com rótulos personalizados\n",
        "\n",
        "# Lista com os valores médios de oxigênio dissolvido (em mg/L) em diferentes rios da Amazônia\n",
        "oxigenio_dissolvido = [6.2, 5.8, 7.1]\n",
        "\n",
        "# Lista com os nomes dos rios que servirão como rótulos (índices) da Series\n",
        "nomes_rios = ['Rio Solimões', 'Rio Juruá', 'Rio Tocantins']\n",
        "\n",
        "# Criação da Series: cada valor é associado ao nome do rio correspondente\n",
        "# Isso facilita a leitura e a análise dos dados ambientais\n",
        "serie_oxigenio = pd.Series(data=oxigenio_dissolvido, index=nomes_rios, name='O₂ Dissolvido (mg/L)')\n",
        "\n",
        "# Exibe a Series completa com rótulos personalizados\n",
        "print(\"Valores de oxigênio dissolvido por rio:\")\n",
        "print(serie_oxigenio)\n",
        "\n",
        "# Acesso a um valor específico pelo nome do rio\n",
        "print(\"\\nOxigênio dissolvido no Rio Juruá:\", serie_oxigenio['Rio Juruá'])"
      ],
      "metadata": {
        "colab": {
          "base_uri": "https://localhost:8080/"
        },
        "id": "LqE-jtuuBF-a",
        "outputId": "2b63989b-4db3-4b9d-fcd6-e620a54cb240"
      },
      "execution_count": 10,
      "outputs": [
        {
          "output_type": "stream",
          "name": "stdout",
          "text": [
            "Valores de oxigênio dissolvido por rio:\n",
            "Rio Solimões     6.2\n",
            "Rio Juruá        5.8\n",
            "Rio Tocantins    7.1\n",
            "Name: O₂ Dissolvido (mg/L), dtype: float64\n",
            "\n",
            "Oxigênio dissolvido no Rio Juruá: 5.8\n"
          ]
        }
      ]
    },
    {
      "cell_type": "markdown",
      "source": [
        "# **:: Series baseado em um Dicionário**"
      ],
      "metadata": {
        "id": "BPby5kg6XQBr"
      }
    },
    {
      "cell_type": "markdown",
      "source": [
        "<h4 align=\"justify\">Uma Pandas Series também pode ser criada a partir de um dicionário, onde as chaves do dicionário se tornam os rótulos (índices) da Series e os valores se tornam os dados. Essa forma de criação é bastante útil quando já se tem os dados organizados em pares chave: valor, como por exemplo nomes de rios e suas medições ambientais. A principal vantagem dessa abordagem é a clareza e a legibilidade: cada rótulo já vem definido, tornando o acesso e a interpretação dos dados muito mais diretos.</h4>"
      ],
      "metadata": {
        "id": "t-KVCz9oYcax"
      }
    },
    {
      "cell_type": "code",
      "source": [
        "import pandas as pd\n",
        "\n",
        "# Dicionário com dados ambientais: nome do rio como chave, pH médio como valor\n",
        "dados_ph = {\n",
        "    'Rio Amazonas': 6.9,\n",
        "    'Rio Tapajós': 6.5,\n",
        "    'Rio Madeira': 6.2\n",
        "}\n",
        "\n",
        "# Criação da Series usando o dicionário\n",
        "serie_ph = pd.Series(dados_ph, name='pH Médio')\n",
        "\n",
        "# Exibindo a Series\n",
        "print(serie_ph)"
      ],
      "metadata": {
        "colab": {
          "base_uri": "https://localhost:8080/"
        },
        "id": "iprYHWDAD0Ty",
        "outputId": "59fb3e31-6dc8-4abb-d340-1df87fdc9ea0"
      },
      "execution_count": 11,
      "outputs": [
        {
          "output_type": "stream",
          "name": "stdout",
          "text": [
            "Rio Amazonas    6.9\n",
            "Rio Tapajós     6.5\n",
            "Rio Madeira     6.2\n",
            "Name: pH Médio, dtype: float64\n"
          ]
        }
      ]
    },
    {
      "cell_type": "code",
      "source": [
        "import pandas as pd\n",
        "\n",
        "# Criando uma Series com rótulos personalizados\n",
        "dados = {'Rio Amazonas': 6.9, 'Rio Tapajós': 6.5, 'Rio Madeira': 6.2}\n",
        "serie_ph = pd.Series(dados, name='pH Médio')\n",
        "\n",
        "# Acessando o valor do pH no Rio Tapajós\n",
        "ph_tapajos = serie_ph['Rio Tapajós']\n",
        "\n",
        "print(\"O pH médio no Rio Tapajós é:\", ph_tapajos)"
      ],
      "metadata": {
        "colab": {
          "base_uri": "https://localhost:8080/"
        },
        "id": "P_QQmrq4D9YZ",
        "outputId": "eb8c8ca1-ff23-4f76-c15d-36864b319c6d"
      },
      "execution_count": 12,
      "outputs": [
        {
          "output_type": "stream",
          "name": "stdout",
          "text": [
            "O pH médio no Rio Tapajós é: 6.5\n"
          ]
        }
      ]
    },
    {
      "cell_type": "code",
      "source": [
        "# acessando mais de um rótulo por vez usando uma lista\n",
        "print(serie_ph[['Rio Amazonas', 'Rio Madeira']])"
      ],
      "metadata": {
        "colab": {
          "base_uri": "https://localhost:8080/"
        },
        "id": "x8jFEfLxEQAz",
        "outputId": "35affc6c-35a0-4191-8ca1-d71186815b1e"
      },
      "execution_count": 13,
      "outputs": [
        {
          "output_type": "stream",
          "name": "stdout",
          "text": [
            "Rio Amazonas    6.9\n",
            "Rio Madeira     6.2\n",
            "Name: pH Médio, dtype: float64\n"
          ]
        }
      ]
    },
    {
      "cell_type": "markdown",
      "source": [
        "# **:: Pandas DataFrames**"
      ],
      "metadata": {
        "id": "oSMrP_C7EpYT"
      }
    },
    {
      "cell_type": "markdown",
      "source": [
        "<h4 align=\"justify\">Um <b>DataFrame</b> é a principal estrutura de dados da biblioteca <b>Pandas</b> e pode ser entendido como uma <b>tabela bidimensional</b>, <b>formada por linhas e colunas</b>, semelhante a uma planilha do Excel ou a uma tabela de banco de dados. Cada coluna pode conter dados de um tipo diferente (números, textos, datas etc.), e cada linha representa uma observação ou registro. Essa estrutura facilita a manipulação, análise e visualização de dados complexos de forma organizada, sendo extremamente útil em projetos que envolvem grandes volumes de informações, como os dados ambientais da Amazônia.</h4>\n",
        "\n",
        "<h4 align=\"justify\">O DataFrame permite realizar operações como leitura de arquivos CSV, filtragem de linhas por condições, seleção de colunas específicas, cálculos estatísticos, agrupamentos, junções com outras tabelas e criação de gráficos. No contexto da IA aplicada aos desafios socioambientais, o DataFrame é uma ferramenta essencial para organizar informações como qualidade da água dos rios, níveis de desmatamento por município ou padrões de temperatura ao longo do tempo, permitindo que decisões mais sustentáveis e baseadas em evidências sejam tomadas.</h4>"
      ],
      "metadata": {
        "id": "HYxSNBGhFFBZ"
      }
    },
    {
      "cell_type": "markdown",
      "source": [
        "## **:: Estrutura de um Dataframe**"
      ],
      "metadata": {
        "id": "OpRd_EPCF2R3"
      }
    },
    {
      "cell_type": "markdown",
      "source": [
        "<h4 align=\"justify\">A estrutura de um <b>DataFrame</b> é composta por três elementos principais: <b>linhas, colunas e índices</b>. Ele pode ser representado como uma <b>tabela retangular</b>, onde cada coluna é uma Pandas Series com um nome (o rótulo da coluna), e cada linha possui um índice único (geralmente numérico, começando em 0, mas que pode ser personalizado). Essa estrutura permite acessar dados tanto por colunas quanto por linhas, de forma eficiente e intuitiva.</h4>\n",
        "\n",
        "<h4 align=\"justify\">Visualmente, um DataFrame se parece com isso:</h4>\n",
        "<pre><code>\n",
        "           pH   Oxigênio  Turbidez\n",
        "Rio Negro  6.8      7.2       15\n",
        "Rio Xingu  5.2      4.8       45\n",
        "</pre></code>"
      ],
      "metadata": {
        "id": "0Pf_bO11F_uf"
      }
    },
    {
      "cell_type": "markdown",
      "source": [
        "<h4 align=\"justify\">Nesse exemplo, temos:</h4>\n",
        "\n",
        "<h4 align=\"justify\"><b>Colunas</b>: pH, Oxigênio, Turbidez — representam diferentes tipos de dados medidos.</h4>\n",
        "\n",
        "<h4 align=\"justify\"><b>Índices</b>: Rio Negro, Rio Xingu — representam cada observação (cada rio).</h4>\n",
        "\n",
        "<h4 align=\"justify\"><b>Células</b>: os valores associados a cada rio e a cada variável.</h4>\n",
        "\n",
        "<h4 align=\"justify\">Esse modelo de representação é ideal para organizar dados ambientais da Amazônia, pois permite relacionar variáveis como qualidade da água, temperatura, biodiversidade e desmatamento de forma estruturada, clara e fácil de analisar.</h4>"
      ],
      "metadata": {
        "id": "TiWo6DfLGbsh"
      }
    },
    {
      "cell_type": "code",
      "source": [
        "import pandas as pd\n",
        "\n",
        "# Dados simulados de controle de ovos de tartaruga\n",
        "dados = {\n",
        "    'Ninho': ['N1', 'N2', 'N3', 'N4'],\n",
        "    'Localização': ['Praia do Arumã', 'Ilha das Pedras', 'Praia do Juruá', 'Vila Mãe Terra'],\n",
        "    'Espécie': ['Tartaruga-da-Amazônia', 'Iaçá', 'Tartaruga-da-Amazônia', 'Iaçá'],\n",
        "    'Qtd Ovos': [85, 92, 78, 104],\n",
        "    'Data Coleta': ['2025-07-01', '2025-07-02', '2025-07-03', '2025-07-04']\n",
        "}\n",
        "\n",
        "# Criando o DataFrame\n",
        "df_ovos = pd.DataFrame(dados)\n",
        "\n",
        "# Exibindo o DataFrame\n",
        "print(df_ovos)"
      ],
      "metadata": {
        "colab": {
          "base_uri": "https://localhost:8080/"
        },
        "id": "9GpCyuTnG-3y",
        "outputId": "dd591be9-0112-4971-d9fe-b18d5c058093"
      },
      "execution_count": 14,
      "outputs": [
        {
          "output_type": "stream",
          "name": "stdout",
          "text": [
            "  Ninho      Localização                Espécie  Qtd Ovos Data Coleta\n",
            "0    N1   Praia do Arumã  Tartaruga-da-Amazônia        85  2025-07-01\n",
            "1    N2  Ilha das Pedras                   Iaçá        92  2025-07-02\n",
            "2    N3   Praia do Juruá  Tartaruga-da-Amazônia        78  2025-07-03\n",
            "3    N4   Vila Mãe Terra                   Iaçá       104  2025-07-04\n"
          ]
        }
      ]
    },
    {
      "cell_type": "code",
      "source": [
        "import pandas as pd\n",
        "\n",
        "# Dados de monitoramento dos ninhos de tartarugas\n",
        "dados_nascimento = {\n",
        "    'Ninho': ['N5', 'N6', 'N7', 'N8'],\n",
        "    'Localização': ['Praia Verde', 'Ponta do Jabuti', 'Ilha do Arraial', 'Praia do Sol'],\n",
        "    'Espécie': ['Tartaruga-da-Amazônia', 'Iaçá', 'Tartaruga-da-Amazônia', 'Iaçá'],\n",
        "    'Previsão Nascimento': ['2025-08-10', '2025-08-12', '2025-08-15', '2025-08-18'],\n",
        "    'Risco de Predação': ['Alto', 'Médio', 'Baixo', 'Médio']\n",
        "}\n",
        "\n",
        "# Criando o DataFrame\n",
        "df_nascimento = pd.DataFrame(dados_nascimento)\n",
        "\n",
        "# Exibindo o DataFrame\n",
        "print(df_nascimento)"
      ],
      "metadata": {
        "colab": {
          "base_uri": "https://localhost:8080/"
        },
        "id": "zOkKpuI4HLGW",
        "outputId": "fb4cc790-a349-4450-b085-c28fa33287fd"
      },
      "execution_count": 15,
      "outputs": [
        {
          "output_type": "stream",
          "name": "stdout",
          "text": [
            "  Ninho      Localização                Espécie Previsão Nascimento  \\\n",
            "0    N5      Praia Verde  Tartaruga-da-Amazônia          2025-08-10   \n",
            "1    N6  Ponta do Jabuti                   Iaçá          2025-08-12   \n",
            "2    N7  Ilha do Arraial  Tartaruga-da-Amazônia          2025-08-15   \n",
            "3    N8     Praia do Sol                   Iaçá          2025-08-18   \n",
            "\n",
            "  Risco de Predação  \n",
            "0              Alto  \n",
            "1             Médio  \n",
            "2             Baixo  \n",
            "3             Médio  \n"
          ]
        }
      ]
    },
    {
      "cell_type": "markdown",
      "source": [
        "## **:: Examinando o Tipo de Dados de um Dataframe**"
      ],
      "metadata": {
        "id": "wSL0QuzXsHdX"
      }
    },
    {
      "cell_type": "markdown",
      "source": [
        "<h4 align=\"justify\">Para examinar o tipo de dados de cada coluna em um DataFrame, usamos o atributo <b>df.dtypes</b>. Isso ajuda a verificar se os dados estão como esperado, facilitando ajustes antes de análises ou visualizações.</h4>"
      ],
      "metadata": {
        "id": "7lvrLHV5sL5i"
      }
    },
    {
      "cell_type": "code",
      "source": [
        "import pandas as pd\n",
        "\n",
        "# Criando um DataFrame simples com diferentes tipos de dados\n",
        "dados = {\n",
        "    'Espécie': ['Castanheira', 'Andiroba', 'Ipê Amarelo'],\n",
        "    'Altura Média (m)': [25.5, 18.0, 12.3],\n",
        "    'Protegida por Lei': [True, False, True]\n",
        "}\n",
        "\n",
        "df = pd.DataFrame(dados)\n",
        "\n",
        "# Verificando os tipos de dados\n",
        "print(\"Tipos de dados em cada coluna:\")\n",
        "print(df.dtypes)\n"
      ],
      "metadata": {
        "colab": {
          "base_uri": "https://localhost:8080/"
        },
        "id": "bTE81oeUsbxB",
        "outputId": "c8dc4ddf-c1c4-4e20-fa54-e617cc8c2536"
      },
      "execution_count": 8,
      "outputs": [
        {
          "output_type": "stream",
          "name": "stdout",
          "text": [
            "Tipos de dados em cada coluna:\n",
            "Espécie               object\n",
            "Altura Média (m)     float64\n",
            "Protegida por Lei       bool\n",
            "dtype: object\n"
          ]
        }
      ]
    },
    {
      "cell_type": "markdown",
      "source": [
        "## **:: Verificando a quantidade de *Features* e Instâncias de um DataFrame**"
      ],
      "metadata": {
        "id": "TYxGpJ23uHlw"
      }
    },
    {
      "cell_type": "markdown",
      "source": [
        "<h4 align=\"justify\">Para verificar a <b>quantidade de features (colunas) e instâncias (linhas)</b> em um DataFrame, utilizamos o <b>atributo df.shape</b>, que retorna uma <b>tupla</b> no formato (linhas, colunas). Esse recurso é útil para entender rapidamente o tamanho da base de dados antes de análises ou modelagens.</h4>"
      ],
      "metadata": {
        "id": "dvy3Nz3Que-H"
      }
    },
    {
      "cell_type": "code",
      "source": [
        "import pandas as pd\n",
        "\n",
        "# Dados simulados de espécies de macacos em diferentes regiões da Amazônia\n",
        "dados = {\n",
        "    'Espécie': ['Sauim-de-coleira', 'Macaco-prego', 'Uacari-branco'],\n",
        "    'População Estimada': [320, 870, 150],\n",
        "    'Região': ['Manaus', 'Parintins', 'Alto Solimões']\n",
        "}\n",
        "\n",
        "df = pd.DataFrame(dados)\n",
        "\n",
        "# Verificando o número de instâncias (linhas) e features (colunas)\n",
        "print(\"Formato do DataFrame (linhas, colunas):\", df.shape)"
      ],
      "metadata": {
        "colab": {
          "base_uri": "https://localhost:8080/"
        },
        "id": "WOfK8T9JuHGQ",
        "outputId": "569e078c-670c-4bef-a48a-8670f9389af9"
      },
      "execution_count": 9,
      "outputs": [
        {
          "output_type": "stream",
          "name": "stdout",
          "text": [
            "Formato do DataFrame (linhas, colunas): (3, 3)\n"
          ]
        }
      ]
    },
    {
      "cell_type": "code",
      "source": [
        "import pandas as pd\n",
        "\n",
        "# Dados simulados de espécies de macacos em diferentes regiões da Amazônia\n",
        "dados = {\n",
        "    'Espécie': ['Sauim-de-coleira', 'Macaco-prego', 'Uacari-branco'],\n",
        "    'População Estimada': [320, 870, 150],\n",
        "    'Região': ['Manaus', 'Parintins', 'Alto Solimões']\n",
        "}\n",
        "\n",
        "df = pd.DataFrame(dados)\n",
        "\n",
        "# Verificando o número de instâncias (linhas) e features (colunas)\n",
        "print(f\"Formato do DataFrame Linhas: {df.shape[0]} e Colunas {df.shape[1]}\")"
      ],
      "metadata": {
        "colab": {
          "base_uri": "https://localhost:8080/"
        },
        "id": "JNRCFNhlvXgw",
        "outputId": "fe87389f-9c26-4f3e-a527-81eba58f7e42"
      },
      "execution_count": 10,
      "outputs": [
        {
          "output_type": "stream",
          "name": "stdout",
          "text": [
            "Formato do DataFrame Linhas: 3 e Colunas 3\n"
          ]
        }
      ]
    },
    {
      "cell_type": "code",
      "source": [
        "import pandas as pd\n",
        "\n",
        "# Dados simulados sobre ninhos de tartarugas monitorados\n",
        "dados = {\n",
        "    'Ninho': ['N1', 'N2', 'N3', 'N4'],\n",
        "    'Localização': ['Rio Trombetas', 'Rio Tapajós', 'Ilha do Marajó', 'Rio Purus'],\n",
        "    'Quantidade de Ovos': [102, 87, 95, 110]\n",
        "}\n",
        "\n",
        "df = pd.DataFrame(dados)\n",
        "\n",
        "# Contando a quantidade de instâncias (linhas)\n",
        "quantidade_ninhos = len(df)\n",
        "\n",
        "# Usando o método len()\n",
        "print(\"Usando o método len\")\n",
        "print(\"Quantidade de ninhos monitorados:\", quantidade_ninhos)\n",
        "\n",
        "# Usando o atributo df.shape\n",
        "print(\"\\nUsando o atributo df.shape\")\n",
        "print(\"Quantidade de ninhos monitorados:\", df.shape[0])\n"
      ],
      "metadata": {
        "colab": {
          "base_uri": "https://localhost:8080/"
        },
        "id": "8AAgU0DVvzou",
        "outputId": "f890c00b-cab0-489a-ffcd-d6f1661454a5"
      },
      "execution_count": 12,
      "outputs": [
        {
          "output_type": "stream",
          "name": "stdout",
          "text": [
            "Usando o método len\n",
            "Quantidade de ninhos monitorados: 4\n",
            "\n",
            "Usando o atributo df.shape\n",
            "Quantidade de ninhos monitorados: 4\n"
          ]
        }
      ]
    },
    {
      "cell_type": "markdown",
      "source": [
        "## **:: Leitura de CSV, criação de um DataFrame**"
      ],
      "metadata": {
        "id": "zl7ibNDN1ukA"
      }
    },
    {
      "cell_type": "markdown",
      "source": [
        "<h4 align=\"justify\">Para <b>ler um arquivo CSV e criar um DataFrame</b>, utilizamos a função <b>pd.read_csv()</b>, da biblioteca Pandas. Essa função importa os dados do arquivo diretamente para uma estrutura de DataFrame, permitindo que você realize análises, filtragens e visualizações. Basta informar o caminho do arquivo entre aspas, como por exemplo: <b>df = pd.read_csv('dados.csv')</b>. Se o arquivo estiver em outra pasta, é necessário indicar o caminho completo. Essa leitura é especialmente útil em projetos ambientais, como quando se recebe planilhas com registros de fauna, dados climáticos ou levantamentos florestais feitos por sensores e satélites na região amazônica. A partir dessa leitura, os dados passam a ser manipuláveis com todas as funcionalidades do Pandas.</h4>"
      ],
      "metadata": {
        "id": "pf-CU_NH14MX"
      }
    },
    {
      "cell_type": "markdown",
      "source": [
        "<h4 align=\"justify\">Parâmetros da função read_csv</h4>\n",
        "<pre><code>\n",
        "<b>1) filepath_or_buffer</b>\n",
        "\n",
        "Caminho do arquivo CSV.\n",
        "\n",
        "Ex: 'dados.csv' ou 'data/rios_amazonia.csv'.\n",
        "\n",
        "<b>2)sep</b>\n",
        "\n",
        "Delimitador dos campos. O padrão é ',', mas pode ser ';' (como em arquivos do Excel em português).\n",
        "\n",
        "Ex: sep=';'\n",
        "\n",
        "<b>3)header</b>\n",
        "\n",
        "Indica a linha que contém os nomes das colunas.\n",
        "\n",
        "Ex: header=0 (primeira linha), None (sem cabeçalho).\n",
        "\n",
        "<b>4)names</b>\n",
        "\n",
        "Define nomes personalizados para as colunas.\n",
        "\n",
        "Ex: names=['Rio', 'pH', 'Temperatura']\n",
        "\n",
        "<b>5)index_col</b>\n",
        "\n",
        "Escolhe qual coluna deve ser usada como índice.\n",
        "\n",
        "Ex: index_col=0\n",
        "\n",
        "<b>6)usecols</b>\n",
        "\n",
        "Seleciona apenas algumas colunas para leitura.\n",
        "\n",
        "Ex: usecols=['Espécie', 'Local']\n",
        "\n",
        "<b>7)dtype</b>\n",
        "\n",
        "Define o tipo de dado de cada coluna.\n",
        "\n",
        "Ex: dtype={'População': int}\n",
        "\n",
        "<b>8)na_values</b>\n",
        "\n",
        "Define quais valores devem ser tratados como nulos (NaN).\n",
        "\n",
        "Ex: na_values=['NA', 'n/a', '-']\n",
        "\n",
        "<b>9)skiprows</b>\n",
        "\n",
        "Pula linhas no início do arquivo.\n",
        "\n",
        "Ex: skiprows=2 (ignora as 2 primeiras linhas)\n",
        "\n",
        "<b>10)nrows</b>\n",
        "\n",
        "Lê apenas um número específico de linhas.\n",
        "\n",
        "Ex: nrows=10\n",
        "\n",
        "<b>11)encoding</b>\n",
        "\n",
        "Define a codificação do arquivo.\n",
        "\n",
        "Ex: encoding='utf-8', encoding='latin1' (importante para arquivos com acentos)\n",
        "</pre></code>"
      ],
      "metadata": {
        "id": "yIBu02962WJj"
      }
    },
    {
      "cell_type": "code",
      "source": [
        "import pandas as pd\n",
        "\n",
        "# Caminho do arquivo CSV\n",
        "caminho_arquivo = 'qualidade_agua_amazonia_encontro12.csv'\n",
        "\n",
        "# Carregando o arquivo CSV como DataFrame\n",
        "df = pd.read_csv(caminho_arquivo, sep=';', encoding='utf-8')\n",
        "\n",
        "# Exibindo as primeiras linhas\n",
        "print(\"Dados de Qualidade da Água na Amazônia:\")\n",
        "print(df.head())\n"
      ],
      "metadata": {
        "colab": {
          "base_uri": "https://localhost:8080/"
        },
        "id": "x-dTFVCx3uMW",
        "outputId": "7e023e51-5602-45bf-d6cd-f29ecbbee96d"
      },
      "execution_count": 13,
      "outputs": [
        {
          "output_type": "stream",
          "name": "stdout",
          "text": [
            "Dados de Qualidade da Água na Amazônia:\n",
            "           Rio   pH  Turbidez  Oxigênio Dissolvido\n",
            "0    Rio Negro  6.3       1.2                  7.5\n",
            "1  Rio Tapajós  7.0       2.5                  8.1\n",
            "2  Rio Madeira  6.8       3.8                  7.9\n",
            "3    Rio Xingu  5.9       0.9                  6.8\n",
            "4    Rio Purus  6.5       2.1                  7.2\n"
          ]
        }
      ]
    },
    {
      "cell_type": "markdown",
      "source": [
        "## **:: Armazenando um DataFrame como CSV**"
      ],
      "metadata": {
        "id": "EvDtnAPP6SMm"
      }
    },
    {
      "cell_type": "markdown",
      "source": [
        "<h4 align=\"justify\">Gravar um DataFrame em um arquivo CSV é uma etapa essencial para <b>salvar os resultados de análises, transformações ou coletas de dados</b> em projetos com Python. Para isso, utiliza-se o <b>método to_csv()</b> da biblioteca Pandas. Com ele, é possível exportar os dados para um arquivo em <b>formato .csv</b>, definindo opções como o separador de campos (<b>sep</b>), se o índice deve ser incluído (<b>index</b>), o nome do arquivo e até a codificação (<b>encoding</b>). </h4>"
      ],
      "metadata": {
        "id": "G2jj46qs6Xgi"
      }
    },
    {
      "cell_type": "code",
      "source": [
        "import pandas as pd\n",
        "\n",
        "# Leitura do arquivo original\n",
        "df = pd.read_csv('qualidade_agua_amazonia_encontro12.csv', sep=';', encoding='utf-8')\n",
        "\n",
        "# Salvando o DataFrame com um novo nome de arquivo\n",
        "try:\n",
        "  df.to_csv('resultado_qualidade_agua_amazonia.csv', sep=';', index=False, encoding='utf-8')\n",
        "except:\n",
        "  print(\"Erro ao salvar o arquivo\")\n",
        "\n",
        "print(\"Arquivo salvo com sucesso como 'resultado_qualidade_agua_amazonia.csv'\")\n"
      ],
      "metadata": {
        "colab": {
          "base_uri": "https://localhost:8080/"
        },
        "id": "qFRUzsDd60CR",
        "outputId": "59a63a97-bef6-47dd-d818-fe74d9916c2f"
      },
      "execution_count": 17,
      "outputs": [
        {
          "output_type": "stream",
          "name": "stdout",
          "text": [
            "Arquivo salvo com sucesso como 'resultado_qualidade_agua_amazonia.csv'\n"
          ]
        }
      ]
    },
    {
      "cell_type": "markdown",
      "source": [
        "## **:: Estrutura de um DataFrame**"
      ],
      "metadata": {
        "id": "JqmnyJ7bC2ev"
      }
    },
    {
      "cell_type": "markdown",
      "source": [
        "<h4 align=\"justify\">Para localizar uma <b>linha específica em um DataFrame</b>, utilizamos métodos como <b>loc[]</b> ou <b>iloc[]</b>, fornecidos pela biblioteca Pandas. O método <b>loc[]</b> permite <b>acessar linhas com base no rótulo do índice</b> (por exemplo, o nome de um rio ou o código de um ninho), enquanto <b>iloc[]</b> é usado para <b>acessar linhas com base na posição numérica</b> (por exemplo, a primeira, segunda ou terceira linha). Isso possibilita extrair rapidamente registros específicos para análise ou visualização. Por exemplo, df.loc['N1'] acessa a linha com o índice \"N1\", e df.iloc[0] retorna a primeira linha do DataFrame, independentemente do nome do índice. Esses métodos são essenciais para manipular, filtrar e entender grandes volumes de dados ambientais de forma eficiente.</h4>"
      ],
      "metadata": {
        "id": "PbwkRZtjDCsp"
      }
    },
    {
      "cell_type": "code",
      "source": [
        "# Criando um DataFrame com o índice personalizado (nome do ninho)\n",
        "import pandas as pd\n",
        "\n",
        "dados = {\n",
        "    'Localização': ['Praia do Arumã', 'Ilha das Pedras', 'Praia do Juruá'],\n",
        "    'Qtd Ovos': [85, 92, 78]\n",
        "}\n",
        "\n",
        "# Definindo o nome dos ninhos como índice\n",
        "df = pd.DataFrame(dados, index=['N1', 'N2', 'N3'])\n",
        "\n",
        "# Apresenta DataFrame\n",
        "print(df)\n",
        "\n",
        "# Acessando os dados do ninho N2 usando o método loc\n",
        "print(\"\\nInformações do Ninho N2:\")\n",
        "print(df.loc['N2'])"
      ],
      "metadata": {
        "colab": {
          "base_uri": "https://localhost:8080/"
        },
        "id": "1H6Hsa1yD7yK",
        "outputId": "ee8ff9bd-2faa-43f0-8883-f6a9e9dfdbcf"
      },
      "execution_count": 1,
      "outputs": [
        {
          "output_type": "stream",
          "name": "stdout",
          "text": [
            "        Localização  Qtd Ovos\n",
            "N1   Praia do Arumã        85\n",
            "N2  Ilha das Pedras        92\n",
            "N3   Praia do Juruá        78\n",
            "\n",
            "Informações do Ninho N2:\n",
            "Localização    Ilha das Pedras\n",
            "Qtd Ovos                    92\n",
            "Name: N2, dtype: object\n"
          ]
        }
      ]
    },
    {
      "cell_type": "code",
      "source": [
        "# Criando um DataFrame simples com dados de ninhos de tartarugas\n",
        "import pandas as pd\n",
        "\n",
        "dados = {\n",
        "    'Localização': ['Praia Verde', 'Ilha do Arraial', 'Praia do Sol'],\n",
        "    'Qtd Ovos': [88, 76, 95]\n",
        "}\n",
        "\n",
        "# Criando o DataFrame com índice automático (0, 1, 2)\n",
        "df = pd.DataFrame(dados)\n",
        "\n",
        "# Atribuindo um nome ao DataFrame\n",
        "df.name = 'Controle de Ovos por Ninho'\n",
        "\n",
        "# Apresenta DataFrame\n",
        "print(df)\n",
        "\n",
        "# Acessando a segunda linha (posição 1) com iloc\n",
        "print(\"\\nInformações da segunda linha (posição 1):\")\n",
        "print(df.iloc[1])"
      ],
      "metadata": {
        "colab": {
          "base_uri": "https://localhost:8080/"
        },
        "id": "pDJL6L4JEcWy",
        "outputId": "f947fe83-caac-496f-c55c-66635d1e2e0b"
      },
      "execution_count": 6,
      "outputs": [
        {
          "output_type": "stream",
          "name": "stdout",
          "text": [
            "       Localização  Qtd Ovos\n",
            "0      Praia Verde        88\n",
            "1  Ilha do Arraial        76\n",
            "2     Praia do Sol        95\n",
            "\n",
            "Informações da segunda linha (posição 1):\n",
            "Localização    Ilha do Arraial\n",
            "Qtd Ovos                    76\n",
            "Name: 1, dtype: object\n"
          ]
        }
      ]
    },
    {
      "cell_type": "markdown",
      "source": [
        "## **:: Exibindo as \"n\" Primeiras Linhas de um DataFrame**"
      ],
      "metadata": {
        "id": "cDEFjWip4nNH"
      }
    },
    {
      "cell_type": "markdown",
      "source": [
        "<h4 align=\"justify\">Para <b>visualizar rapidamente as primeiras linhas</b> de um DataFrame e ter uma ideia geral de como os dados estão organizados, utilizamos o <b>método head()</b>. Esse método exibe, por <b>padrão</b>, as <b>cinco primeiras linhas</b> do DataFrame, mas é possível especificar a quantidade desejada passando um número como argumento, como por exemplo <b>df.head(10)</b> para ver as dez primeiras.</h4>"
      ],
      "metadata": {
        "id": "wP34I6A44u0p"
      }
    },
    {
      "cell_type": "code",
      "source": [
        "import pandas as pd\n",
        "\n",
        "# Leitura do arquivo CSV com dados de qualidade da água\n",
        "df = pd.read_csv('qualidade_agua_amazonia_encontro12.csv', sep=';', encoding='utf-8')\n",
        "\n",
        "# Exibindo as 5 primeiras linhas do DataFrame\n",
        "print(\"Visualizando os primeiros registros:\")\n",
        "print(df.head())"
      ],
      "metadata": {
        "colab": {
          "base_uri": "https://localhost:8080/"
        },
        "id": "s7sjajgV4kkn",
        "outputId": "79b61236-a6e6-431a-d691-03c212aa6d70"
      },
      "execution_count": 14,
      "outputs": [
        {
          "output_type": "stream",
          "name": "stdout",
          "text": [
            "Visualizando os primeiros registros:\n",
            "           Rio   pH  Turbidez  Oxigênio Dissolvido\n",
            "0    Rio Negro  6.3       1.2                  7.5\n",
            "1  Rio Tapajós  7.0       2.5                  8.1\n",
            "2  Rio Madeira  6.8       3.8                  7.9\n",
            "3    Rio Xingu  5.9       0.9                  6.8\n",
            "4    Rio Purus  6.5       2.1                  7.2\n"
          ]
        }
      ]
    },
    {
      "cell_type": "markdown",
      "source": [
        "## **:: Exibindo as \"n\" Últimas Linhas de um DataFrame**"
      ],
      "metadata": {
        "id": "1-XSsA9a5Y5y"
      }
    },
    {
      "cell_type": "markdown",
      "source": [
        "<h4 align=\"justify\">Para <b>visualizar as últimas linhas de um DataFrame</b>, utilizamos o <b>método tail()</b>. Assim como o <b>head()</b>, ele permite uma análise rápida do conteúdo, mas <b>a partir do final da tabela</b>. Por padrão, <b>df.tail() exibe as 5 últimas linhas</b>, mas você pode especificar outro número, como <b>df.tail(10)</b> para ver as 10 últimas.</h4>"
      ],
      "metadata": {
        "id": "j6kamsL-5kEb"
      }
    },
    {
      "cell_type": "code",
      "source": [
        "import pandas as pd\n",
        "\n",
        "# Leitura do arquivo CSV\n",
        "df = pd.read_csv('qualidade_agua_amazonia_encontro12.csv', sep=';', encoding='utf-8')\n",
        "\n",
        "# Exibindo as 3 últimas linhas do DataFrame\n",
        "print(\"Visualizando os últimos registros:\")\n",
        "print(df.tail(3))\n"
      ],
      "metadata": {
        "colab": {
          "base_uri": "https://localhost:8080/"
        },
        "id": "uSZ5HUed53ja",
        "outputId": "969ff948-b352-481d-bf23-112b19af8a2f"
      },
      "execution_count": 16,
      "outputs": [
        {
          "output_type": "stream",
          "name": "stdout",
          "text": [
            "Visualizando os últimos registros:\n",
            "           Rio   pH  Turbidez  Oxigênio Dissolvido\n",
            "2  Rio Madeira  6.8       3.8                  7.9\n",
            "3    Rio Xingu  5.9       0.9                  6.8\n",
            "4    Rio Purus  6.5       2.1                  7.2\n"
          ]
        }
      ]
    },
    {
      "cell_type": "markdown",
      "source": [
        "## **:: Localizar Coluna**"
      ],
      "metadata": {
        "id": "3wK27CI_FjRD"
      }
    },
    {
      "cell_type": "markdown",
      "source": [
        "<h4 align=\"justify\">Para localizar uma <b>coluna em um DataFrame</b>, utilizamos diretamente o <b>nome da coluna</b> entre colchetes, como em <b>df['NomeColuna']</b>, ou podemos acessar várias colunas de uma vez passando uma lista de nomes, como <b>df[['Coluna1', 'Coluna2']]</b>. Outra forma de localizar colunas é utilizando o atributo <b>.loc[]</b>, especificando : para todas as linhas e o nome da coluna, por exemplo, <b>df.loc[:, 'Coluna1']</b>. Esse método é extremamente útil quando precisamos filtrar apenas uma variável específica para análises, como extrair apenas a coluna de “Qtd Ovos” em um controle ambiental de ninhos de tartarugas.</h4>"
      ],
      "metadata": {
        "id": "NKWb2hv6IhPW"
      }
    },
    {
      "cell_type": "code",
      "source": [
        "import pandas as pd\n",
        "\n",
        "# Criando um DataFrame com dados sobre ninhos de tartarugas\n",
        "dados = {\n",
        "    'Ninho': ['N1', 'N2', 'N3'],\n",
        "    'Qtd Ovos': [85, 92, 78],\n",
        "    'Espécie': ['Iaçá', 'Tartaruga-da-Amazônia', 'Iaçá']\n",
        "}\n",
        "\n",
        "df = pd.DataFrame(dados)\n",
        "df.set_index('Ninho', inplace=True)  # Definindo o nome do ninho como índice\n",
        "\n",
        "# Usando loc para acessar apenas a coluna 'Qtd Ovos'\n",
        "coluna_ovos = df.loc[:, 'Qtd Ovos']\n",
        "\n",
        "# Exibindo o resultado\n",
        "print(\"Coluna 'Qtd Ovos':\")\n",
        "print(coluna_ovos)"
      ],
      "metadata": {
        "colab": {
          "base_uri": "https://localhost:8080/"
        },
        "id": "bnSt1fL5JEyM",
        "outputId": "ecb463fb-c3b0-4090-fa7e-c49c6ec471a0"
      },
      "execution_count": 12,
      "outputs": [
        {
          "output_type": "stream",
          "name": "stdout",
          "text": [
            "Coluna 'Qtd Ovos':\n",
            "Ninho\n",
            "N1    85\n",
            "N2    92\n",
            "N3    78\n",
            "Name: Qtd Ovos, dtype: int64\n"
          ]
        }
      ]
    },
    {
      "cell_type": "markdown",
      "source": [
        "<h4 align=\"justify\">Também é possível <b>localizar colunas usando o método iloc[]</b>, que acessa colunas pela posição numérica. Por exemplo, <b>df.iloc[:, 1]</b> retorna a segunda coluna do DataFrame, útil quando não sabemos o nome da coluna, apenas sua posição.</h4>"
      ],
      "metadata": {
        "id": "Nj6JfpPIJhYp"
      }
    },
    {
      "cell_type": "code",
      "source": [
        "import pandas as pd\n",
        "\n",
        "# Criando um DataFrame com dados de ninhos\n",
        "dados = {\n",
        "    'Qtd Ovos': [85, 92, 78],\n",
        "    'Espécie': ['Iaçá', 'Tartaruga-da-Amazônia', 'Iaçá'],\n",
        "    'Localização': ['Praia do Arumã', 'Ilha das Pedras', 'Praia do Sol']\n",
        "}\n",
        "\n",
        "df = pd.DataFrame(dados)\n",
        "\n",
        "# Usando iloc para acessar a primeira coluna (posição 0)\n",
        "coluna_ovos = df.iloc[:, 0]\n",
        "\n",
        "# Exibindo a coluna\n",
        "print(\"Coluna localizada com iloc (posição 0):\")\n",
        "print(coluna_ovos)"
      ],
      "metadata": {
        "colab": {
          "base_uri": "https://localhost:8080/"
        },
        "id": "oTJxzZAgJgqw",
        "outputId": "f91ce419-98fb-4b19-ad63-b383d7db0d74"
      },
      "execution_count": 13,
      "outputs": [
        {
          "output_type": "stream",
          "name": "stdout",
          "text": [
            "Coluna localizada com iloc (posição 0):\n",
            "0    85\n",
            "1    92\n",
            "2    78\n",
            "Name: Qtd Ovos, dtype: int64\n"
          ]
        }
      ]
    },
    {
      "cell_type": "markdown",
      "source": [
        "## **:: Desafio 1**"
      ],
      "metadata": {
        "id": "IUj8TMJbKbfr"
      }
    },
    {
      "cell_type": "markdown",
      "source": [
        "<h4 align=\"justify\">Criar um DataFrame com dados ambientais de ninhos, acessar os valores numéricos do Ninho N1 usando iloc, calcular a média desses valores e exibir tanto a tabela completa quanto a média calculada no final.</h4>\n",
        "\n",
        "<pre><code>\n",
        "    Qtd Ovos  Temperatura (°C)  Umidade (%)\n",
        "N1        85              29.5           88\n",
        "N2        92              30.1           85\n",
        "N3        78              28.7           90\n",
        "</code></pre>"
      ],
      "metadata": {
        "id": "DFfDTPZeKilN"
      }
    },
    {
      "cell_type": "code",
      "source": [
        "# Dados simulados de três indicadores ambientais por ninho\n",
        "import pandas as pd\n",
        "\n",
        "dados = {\n",
        "    'Qtd Ovos': [85, 92, 78],\n",
        "    'Temperatura (°C)': [29.5, 30.1, 28.7],\n",
        "    'Umidade (%)': [88, 85, 90]\n",
        "}\n",
        "\n",
        "# Criando o DataFrame com rótulos personalizados para os ninhos\n",
        "df = pd.DataFrame(dados, index=['N1', 'N2', 'N3'])\n",
        "\n",
        "# Selecionando apenas os valores numéricos da linha do Ninho N2\n",
        "valores_ovos_ninho = df.iloc[0]\n",
        "\n",
        "# Calculando a média dos ovos\n",
        "media_ovos = valores_ovos_ninho.mean()\n",
        "\n",
        "# Exibindo os dados coletados\n",
        "print(df,f\"\\n\")\n",
        "\n",
        "\n",
        "# Exibindo os valores e a média\n",
        "print(\"\\nMédia de Ovos Encontrados:\", round(media_ovos, 2))"
      ],
      "metadata": {
        "colab": {
          "base_uri": "https://localhost:8080/"
        },
        "id": "aAbc-BjuGxUA",
        "outputId": "b4723770-3979-4968-e79d-8a4b67b079f8"
      },
      "execution_count": 11,
      "outputs": [
        {
          "output_type": "stream",
          "name": "stdout",
          "text": [
            "    Qtd Ovos  Temperatura (°C)  Umidade (%)\n",
            "N1        85              29.5           88\n",
            "N2        92              30.1           85\n",
            "N3        78              28.7           90 \n",
            "\n",
            "\n",
            "Média de Ovos Encontrados: 67.5\n"
          ]
        }
      ]
    },
    {
      "cell_type": "markdown",
      "source": [
        "## **:: Localizar um Valor baseado em uma Linha e Coluna**"
      ],
      "metadata": {
        "id": "-NvI_DMTK9R-"
      }
    },
    {
      "cell_type": "markdown",
      "source": [
        "<h4 align=\"justify\">Para localizar um <b>valor específico em um DataFrame</b>, podemos <b>combinar os métodos loc[] ou iloc[]</b>, especificando tanto a linha quanto a coluna desejada. Com <b>loc[]</b>, usamos os rótulos, como em df.loc['N2', 'Qtd Ovos'], que retorna o valor na linha \"N2\" e coluna \"Qtd Ovos\". Já com <b>iloc[]</b>, usamos as posições numéricas, por exemplo, df.iloc[1, 0] acessa a linha 1 (segunda linha) e a coluna 0 (primeira coluna). Esse tipo de acesso é essencial para consultar informações exatas em tabelas ambientais, como a quantidade de ovos em um ninho específico.</h4>"
      ],
      "metadata": {
        "id": "FDUdyF4tOY7B"
      }
    },
    {
      "cell_type": "code",
      "source": [
        "import pandas as pd\n",
        "\n",
        "# Dados simulados de área desmatada em hectares por município\n",
        "dados = {\n",
        "    'Área Desmatada (ha)': [120.5, 85.3, 210.7],\n",
        "    'Ano': [2023, 2023, 2023]\n",
        "}\n",
        "\n",
        "# Criando o DataFrame com nomes de municípios como índice\n",
        "df = pd.DataFrame(dados, index=['Cametá', 'Altamira', 'Itaituba'])\n",
        "\n",
        "# Localizando o valor de área desmatada em Altamira\n",
        "area_cameta = df.loc['Cametá', 'Área Desmatada (ha)']\n",
        "\n",
        "# Exibindo o resultado\n",
        "print(\"Área desmatada em Cametá:\", area_cameta, \"hectares\")"
      ],
      "metadata": {
        "colab": {
          "base_uri": "https://localhost:8080/"
        },
        "id": "aro35w3BFizq",
        "outputId": "1162782e-d168-4f1e-f359-b48ad502a63e"
      },
      "execution_count": 16,
      "outputs": [
        {
          "output_type": "stream",
          "name": "stdout",
          "text": [
            "Área desmatada em Cametá: 120.5 hectares\n"
          ]
        }
      ]
    },
    {
      "cell_type": "code",
      "source": [
        "import pandas as pd\n",
        "\n",
        "# Dados simulados de área plantada por município e ano\n",
        "dados = {\n",
        "    'Município': ['Manacapuru', 'Parintins', 'Tefé', 'Manacapuru'],\n",
        "    'Ano': [2022, 2022, 2022, 2023],\n",
        "    'Área Plantada (ha)': [150.0, 120.5, 98.3, 165.7]\n",
        "}\n",
        "\n",
        "# Criando o DataFrame\n",
        "df = pd.DataFrame(dados)\n",
        "\n",
        "# Definindo um índice composto por Município e Ano\n",
        "df.set_index(['Município', 'Ano'], inplace=True)\n",
        "\n",
        "# Solicitando entrada do usuário\n",
        "municipio = input(\"Digite o nome do município: \")\n",
        "ano = int(input(\"Digite o ano (ex: 2022): \"))\n",
        "\n",
        "# Tentando localizar com loc[]\n",
        "try:\n",
        "    area = df.loc[(municipio, ano), 'Área Plantada (ha)']\n",
        "    print(f\"\\nÁrea plantada em {municipio} no ano de {ano}: {area} hectares\")\n",
        "except KeyError:\n",
        "    print(\"\\nDados não encontrados para o município e ano informados.\")"
      ],
      "metadata": {
        "colab": {
          "base_uri": "https://localhost:8080/"
        },
        "id": "4TglaVNIPLqM",
        "outputId": "f9dd1a08-886d-416a-d422-b3623e6e529c"
      },
      "execution_count": 17,
      "outputs": [
        {
          "output_type": "stream",
          "name": "stdout",
          "text": [
            "Digite o nome do município: Manacapuru\n",
            "Digite o ano (ex: 2022): 2023\n",
            "\n",
            "Área plantada em Manacapuru no ano de 2023: 165.7 hectares\n"
          ]
        }
      ]
    },
    {
      "cell_type": "markdown",
      "source": [
        "## **:: Alterando valores baseado em uma Linha**"
      ],
      "metadata": {
        "id": "Qq0cjLP3QLvt"
      }
    },
    {
      "cell_type": "markdown",
      "source": [
        "<h4 align=\"justify\">Para alterar valores de uma linha em um DataFrame, utilizamos os métodos loc[] ou iloc[], indicando a posição da linha e o nome da coluna que será modificada. Por exemplo, em um monitoramento ambiental, se um município do Pará teve sua área desmatada revisada com dados mais precisos do satélite “MI-3”, podemos atualizar diretamente o valor correspondente usando df.loc['Paragominas', 'Área Desmatada (ha)'] = 152.3. Essa abordagem é essencial para manter os dados atualizados e confiáveis em projetos de controle de desmatamento, permitindo a correção manual ou automatizada com base em novas informações recebidas.</h4>"
      ],
      "metadata": {
        "id": "tQdKf5skQZHQ"
      }
    },
    {
      "cell_type": "code",
      "source": [
        "import pandas as pd\n",
        "\n",
        "# Dados iniciais de desmatamento por município (em hectares)\n",
        "dados = {\n",
        "    'Área Desmatada (ha)': [130.5, 175.0, 210.2]\n",
        "}\n",
        "\n",
        "# Criando o DataFrame com municípios como índice\n",
        "df = pd.DataFrame(dados, index=['Paragominas', 'Altamira', 'Novo Progresso'])\n",
        "\n",
        "# Exibindo os dados originais\n",
        "print(\"Dados originais:\")\n",
        "print(df)\n",
        "\n",
        "# Atualizando o valor com base em imagens do satélite MI-3\n",
        "df.loc['Paragominas', 'Área Desmatada (ha)'] = 152.3\n",
        "\n",
        "# Exibindo os dados atualizados\n",
        "print(\"\\nDados atualizados com base no satélite MI-3:\")\n",
        "print(df)"
      ],
      "metadata": {
        "colab": {
          "base_uri": "https://localhost:8080/"
        },
        "id": "zoNKEsAoQ-cV",
        "outputId": "e75a4247-17ef-4083-dee5-56b02b8ad743"
      },
      "execution_count": 18,
      "outputs": [
        {
          "output_type": "stream",
          "name": "stdout",
          "text": [
            "Dados originais:\n",
            "                Área Desmatada (ha)\n",
            "Paragominas                   130.5\n",
            "Altamira                      175.0\n",
            "Novo Progresso                210.2\n",
            "\n",
            "Dados atualizados com base no satélite MI-3:\n",
            "                Área Desmatada (ha)\n",
            "Paragominas                   152.3\n",
            "Altamira                      175.0\n",
            "Novo Progresso                210.2\n"
          ]
        }
      ]
    },
    {
      "cell_type": "markdown",
      "source": [
        "## **:: Alterando valores baseado em uma Coluna**"
      ],
      "metadata": {
        "id": "g9ZbjuU9RQVx"
      }
    },
    {
      "cell_type": "markdown",
      "source": [
        "<h4 align=\"justify\">Para <b>alterar valores de uma coluna inteira em um DataFrame</b>, podemos utilizar a atribuição direta por meio do nome da coluna, como <b>df['NomeColuna'] = novos_valores</b>, substituindo todos os dados daquela coluna. Também é possível aplicar funções de transformação, como multiplicar, normalizar ou corrigir os dados com base em uma regra. Em contextos de <b>comunidades ribeirinhas na Amazônia</b>, por exemplo, se quisermos atualizar a coluna <b>“População Assistida”</b> após uma nova ação social, podemos aplicar uma fórmula de reajuste ou importar os dados atualizados de outra fonte e sobrescrever a coluna. Isso permite manter o retrato social da região sempre coerente com a realidade monitorada.</h4>"
      ],
      "metadata": {
        "id": "P6aOcLZIR4nB"
      }
    },
    {
      "cell_type": "code",
      "source": [
        "import pandas as pd\n",
        "\n",
        "# Dados iniciais de comunidades e população assistida\n",
        "dados = {\n",
        "    'Comunidade': ['São João', 'Boa Esperança', 'Ilha Verde'],\n",
        "    'População Assistida': [120, 85, 60]\n",
        "}\n",
        "\n",
        "# Criando o DataFrame\n",
        "df = pd.DataFrame(dados)\n",
        "\n",
        "# Exibindo dados originais\n",
        "print(\"Dados originais:\")\n",
        "print(df)\n",
        "\n",
        "# Nova informação: todas as comunidades receberam mais 20 pessoas assistidas\n",
        "df['População Assistida'] = df['População Assistida'] + 20\n",
        "\n",
        "# Exibindo dados atualizados\n",
        "print(\"\\nDados atualizados após nova ação social:\")\n",
        "print(df)"
      ],
      "metadata": {
        "colab": {
          "base_uri": "https://localhost:8080/"
        },
        "id": "tjPb222JR2k6",
        "outputId": "29681853-e5e1-43c9-9a7b-2e858e6df9ce"
      },
      "execution_count": 1,
      "outputs": [
        {
          "output_type": "stream",
          "name": "stdout",
          "text": [
            "Dados originais:\n",
            "      Comunidade  População Assistida\n",
            "0       São João                  120\n",
            "1  Boa Esperança                   85\n",
            "2     Ilha Verde                   60\n",
            "\n",
            "Dados atualizados após nova ação social:\n",
            "      Comunidade  População Assistida\n",
            "0       São João                  140\n",
            "1  Boa Esperança                  105\n",
            "2     Ilha Verde                   80\n"
          ]
        }
      ]
    },
    {
      "cell_type": "markdown",
      "source": [
        "## **:: Atualizando um Valor Específico em uma Célula do DataFrame**"
      ],
      "metadata": {
        "id": "fJ2CO_fqi0il"
      }
    },
    {
      "cell_type": "markdown",
      "source": [
        "<h4 align=\"justify\">Para atualizar um <b>valor específico em uma célula do DataFrame</b>, utilizamos os <b>métodos loc[] ou iloc[]</b>, informando tanto a linha quanto a coluna do dado que será alterado. O <b>loc[]</b> é ideal quando usamos rótulos, como nomes de comunidades ou indicadores ambientais, por exemplo: <b>df.loc['Ilha Verde', 'População Assistida'] = 85</b>. Já o <b>iloc[]</b> é utilizado quando a atualização é feita com base na posição numérica, como <b>df.iloc[2, 1] = 85</b>. Essa prática é essencial em projetos socioambientais na Amazônia, pois permite corrigir informações pontuais de forma precisa, mantendo a base de dados sempre atualizada e confiável.</h4>"
      ],
      "metadata": {
        "id": "7cxYTp9WjR-v"
      }
    },
    {
      "cell_type": "code",
      "source": [
        "import pandas as pd\n",
        "\n",
        "# Dados iniciais sobre comunidades ribeirinhas\n",
        "dados = {\n",
        "    'População Assistida': [120, 85, 60],\n",
        "    'Área Atendida (km²)': [2.5, 3.1, 1.8]\n",
        "}\n",
        "\n",
        "# Criando o DataFrame com nomes das comunidades como índice\n",
        "df = pd.DataFrame(dados, index=['São João', 'Boa Esperança', 'Ilha Verde'])\n",
        "\n",
        "# Exibindo os dados originais\n",
        "print(\"Dados originais:\")\n",
        "print(df)\n",
        "\n",
        "# Atualizando o valor da população assistida da comunidade 'Ilha Verde'\n",
        "df.loc['Ilha Verde', 'População Assistida'] = 75\n",
        "\n",
        "# Exibindo os dados atualizados\n",
        "print(\"\\nDados atualizados após correção:\")\n",
        "print(df)"
      ],
      "metadata": {
        "colab": {
          "base_uri": "https://localhost:8080/"
        },
        "id": "1Ud9MMWcjoeg",
        "outputId": "579105bf-8bca-4898-ec78-b38335de7554"
      },
      "execution_count": 2,
      "outputs": [
        {
          "output_type": "stream",
          "name": "stdout",
          "text": [
            "Dados originais:\n",
            "               População Assistida  Área Atendida (km²)\n",
            "São João                       120                  2.5\n",
            "Boa Esperança                   85                  3.1\n",
            "Ilha Verde                      60                  1.8\n",
            "\n",
            "Dados atualizados após correção:\n",
            "               População Assistida  Área Atendida (km²)\n",
            "São João                       120                  2.5\n",
            "Boa Esperança                   85                  3.1\n",
            "Ilha Verde                      75                  1.8\n"
          ]
        }
      ]
    },
    {
      "cell_type": "markdown",
      "source": [
        "## **:: Removendo uma Coluna do DataFrame**"
      ],
      "metadata": {
        "id": "Y3EgW1Xtj6Wi"
      }
    },
    {
      "cell_type": "markdown",
      "source": [
        "<h4 align=\"justify\">Para <b>remover uma coluna de um DataFrame</b> em Python, utilizamos o método <b>drop()</b>, especificando o nome da coluna a ser removida e o <b>parâmetro axis=1</b>, que indica que a <b>operação será feita nas colunas (e não nas linhas)</b>. Por exemplo, <b>df.drop('ColunaIndesejada', axis=1, inplace=True)</b> remove permanentemente essa coluna do DataFrame. Esse procedimento é útil quando uma variável não é mais necessária para a análise ou quando se deseja manter a base de dados mais enxuta, como ao eliminar uma coluna temporária usada apenas para controle durante o levantamento de dados socioambientais na Amazônia.</h4>"
      ],
      "metadata": {
        "id": "gZm16LUWkIw5"
      }
    },
    {
      "cell_type": "code",
      "source": [
        "import pandas as pd\n",
        "\n",
        "# Dados simulados de espécies arbóreas encontradas em diferentes áreas\n",
        "dados = {\n",
        "    'Espécie': ['Castanheira', 'Andiroba', 'Ipê Amarelo'],\n",
        "    'Quantidade': [12, 18, 7],\n",
        "    'Responsável Técnico': ['João', 'Maria', 'Carlos']\n",
        "}\n",
        "\n",
        "# Criando o DataFrame\n",
        "df = pd.DataFrame(dados)\n",
        "\n",
        "# Exibindo o DataFrame original\n",
        "print(\"Dados originais:\")\n",
        "print(df)\n",
        "\n",
        "# Removendo a coluna 'Responsável Técnico' (não necessária na análise final)\n",
        "df.drop('Responsável Técnico', axis=1, inplace=True)\n",
        "\n",
        "# Exibindo o DataFrame atualizado\n",
        "print(\"\\nDados após remoção da coluna:\")\n",
        "print(df)\n"
      ],
      "metadata": {
        "colab": {
          "base_uri": "https://localhost:8080/"
        },
        "id": "RcLlmSoTkoZO",
        "outputId": "93cf6ebe-8707-4703-80dc-26fcdc31229f"
      },
      "execution_count": 3,
      "outputs": [
        {
          "output_type": "stream",
          "name": "stdout",
          "text": [
            "Dados originais:\n",
            "       Espécie  Quantidade Responsável Técnico\n",
            "0  Castanheira          12                João\n",
            "1     Andiroba          18               Maria\n",
            "2  Ipê Amarelo           7              Carlos\n",
            "\n",
            "Dados após remoção da coluna:\n",
            "       Espécie  Quantidade\n",
            "0  Castanheira          12\n",
            "1     Andiroba          18\n",
            "2  Ipê Amarelo           7\n"
          ]
        }
      ]
    },
    {
      "cell_type": "code",
      "source": [
        "import pandas as pd\n",
        "\n",
        "# Dados simulados de espécies arbóreas encontradas em diferentes áreas\n",
        "dados = {\n",
        "    'Espécie': ['Castanheira', 'Andiroba', 'Ipê Amarelo'],\n",
        "    'Quantidade': [12, 18, 7],\n",
        "    'Responsável Técnico': ['João', 'Maria', 'Carlos']\n",
        "}\n",
        "\n",
        "# Criando o DataFrame\n",
        "df = pd.DataFrame(dados)\n",
        "\n",
        "# Exibindo o DataFrame original\n",
        "print(\"Dados originais:\")\n",
        "print(df)\n",
        "\n",
        "# Removendo a coluna 'Responsável Técnico' (não necessária na análise final)\n",
        "novo_df = df[[\"Espécie\",\"Quantidade\"]]\n",
        "\n",
        "# Exibindo Novo DataFrame atualizado sem a coluna 'Responsável Técnico' (não necessária na análise final)\n",
        "print(\"\\nDados após remoção da coluna:\")\n",
        "print(novo_df)"
      ],
      "metadata": {
        "colab": {
          "base_uri": "https://localhost:8080/"
        },
        "id": "Qb3jj3unkqXA",
        "outputId": "7cc3df95-86e6-4cc7-b580-8527d3a701b9"
      },
      "execution_count": 6,
      "outputs": [
        {
          "output_type": "stream",
          "name": "stdout",
          "text": [
            "Dados originais:\n",
            "       Espécie  Quantidade Responsável Técnico\n",
            "0  Castanheira          12                João\n",
            "1     Andiroba          18               Maria\n",
            "2  Ipê Amarelo           7              Carlos\n",
            "\n",
            "Dados após remoção da coluna:\n",
            "       Espécie  Quantidade\n",
            "0  Castanheira          12\n",
            "1     Andiroba          18\n",
            "2  Ipê Amarelo           7\n"
          ]
        }
      ]
    },
    {
      "cell_type": "markdown",
      "source": [
        "## **:: Removendo uma Linha do DataFrame**"
      ],
      "metadata": {
        "id": "YdXc_hGIlKh2"
      }
    },
    {
      "cell_type": "markdown",
      "source": [
        "<h4 align=\"justify\">Para <b>remover uma linha de um DataFrame</b>, utilizamos o <b>método drop()</b>, especificando o rótulo da linha (ou seu índice) e definindo o <b>parâmetro axis=0</b>, que indica <b>operação nas linhas</b>. Por exemplo, <b>df.drop('Linha1', axis=0)</b> remove a linha com rótulo 'Linha1', e se quisermos que a <b>exclusão seja permanente no próprio DataFrame, adicionamos inplace=True</b>. Esse procedimento é útil quando uma linha contém dados inconsistentes, duplicados ou irrelevantes, como em um levantamento de campo na Amazônia onde determinada observação foi considerada inválida após verificação posterior.</h4>"
      ],
      "metadata": {
        "id": "L84gBtN9rPZR"
      }
    },
    {
      "cell_type": "code",
      "source": [
        "import pandas as pd\n",
        "\n",
        "# Dados simulados de espécies arbóreas por área monitorada\n",
        "dados = {\n",
        "    'Espécie': ['Castanheira', 'Andiroba', 'Ipê Amarelo'],\n",
        "    'Quantidade': [12, 18, 7]\n",
        "}\n",
        "\n",
        "# Criando o DataFrame com nomes das áreas como índice\n",
        "df = pd.DataFrame(dados, index=['Área 1', 'Área 2', 'Área 3'])\n",
        "\n",
        "# Exibindo o DataFrame original\n",
        "print(\"Dados originais:\")\n",
        "print(df)\n",
        "\n",
        "# Removendo a linha referente à 'Área 2' por inconsistência nos dados\n",
        "df.drop('Área 2', axis=0, inplace=True)\n",
        "\n",
        "# Exibindo o DataFrame atualizado\n",
        "print(\"\\nDados após remoção da linha 'Área 2':\")\n",
        "print(df)\n"
      ],
      "metadata": {
        "colab": {
          "base_uri": "https://localhost:8080/"
        },
        "id": "S_vGpkwqrITS",
        "outputId": "9cf7fbc9-2500-49c8-c629-502751c1885f"
      },
      "execution_count": 7,
      "outputs": [
        {
          "output_type": "stream",
          "name": "stdout",
          "text": [
            "Dados originais:\n",
            "            Espécie  Quantidade\n",
            "Área 1  Castanheira          12\n",
            "Área 2     Andiroba          18\n",
            "Área 3  Ipê Amarelo           7\n",
            "\n",
            "Dados após remoção da linha 'Área 2':\n",
            "            Espécie  Quantidade\n",
            "Área 1  Castanheira          12\n",
            "Área 3  Ipê Amarelo           7\n"
          ]
        }
      ]
    },
    {
      "cell_type": "markdown",
      "source": [
        "## **:: Filtragem condicional (linhas que atendem a uma condição)**"
      ],
      "metadata": {
        "id": "Jc7mJ3k27Uu-"
      }
    },
    {
      "cell_type": "markdown",
      "source": [
        "<h4 align=\"justify\">A filtragem condicional em um DataFrame permite <b>selecionar apenas as linhas que atendem a uma determinada condição</b>, como valores maiores, menores ou iguais a um critério definido. Essa técnica é essencial para análises mais precisas, como identificar rios com pH abaixo do ideal, temperaturas elevadas ou turbidez acima de certos limites. A sintaxe geralmente envolve o nome da coluna seguido por um operador lógico (como <b>>, <, ==</b>) e o valor desejado, por exemplo: <b>df[df['pH'] < 6.5]</b>. Isso permite extrair subconjuntos dos dados com relevância ambiental, focando apenas nos registros que exigem atenção ou ação.</h4>"
      ],
      "metadata": {
        "id": "3bM7wTxq7dI1"
      }
    },
    {
      "cell_type": "code",
      "source": [
        "import pandas as pd\n",
        "\n",
        "# Leitura do arquivo com dados ambientais\n",
        "df = pd.read_csv('qualidade_agua_amazonia_encontro12.csv', sep=';', encoding='utf-8')\n",
        "\n",
        "# Filtrando apenas os rios com pH inferior a 6.5\n",
        "rios_acidos = df[df['pH'] < 6.5]\n",
        "\n",
        "# Exibindo o resultado\n",
        "print(\"Rios com pH abaixo de 6.5 (condição de acidez):\")\n",
        "print(\"=\"*60)\n",
        "print(rios_acidos)"
      ],
      "metadata": {
        "colab": {
          "base_uri": "https://localhost:8080/"
        },
        "id": "ATUm_cVl75w_",
        "outputId": "7027b770-e5f1-4c61-ca9f-29ff3a79ad8a"
      },
      "execution_count": 22,
      "outputs": [
        {
          "output_type": "stream",
          "name": "stdout",
          "text": [
            "Rios com pH abaixo de 6.5 (condição de acidez):\n",
            "============================================================\n",
            "         Rio   pH  Turbidez  Oxigênio Dissolvido\n",
            "0  Rio Negro  6.3       1.2                  7.5\n",
            "3  Rio Xingu  5.9       0.9                  6.8\n"
          ]
        }
      ]
    },
    {
      "cell_type": "markdown",
      "source": [
        "## **:: Filtragem com múltiplas condições**"
      ],
      "metadata": {
        "id": "_G7YwHc-8bXR"
      }
    },
    {
      "cell_type": "markdown",
      "source": [
        "<h4 align=\"justify\">A filtragem com múltiplas condições em um DataFrame permite refinar ainda mais a análise ao combinar dois ou mais critérios lógicos. Utilizamos o operador <b>& (E lógico)</b> para selecionar linhas que satisfaçam todas as condições ao mesmo tempo, e <b>| (OU lógico)</b> para selecionar linhas que satisfaçam pelo menos uma das condições. Cada condição deve estar entre parênteses para garantir a precedência correta. Por exemplo, para encontrar rios com pH menor que 6.5 e turbidez acima de 2.0, usa-se <b>df[(df['pH'] < 6.5) & (df['Turbidez'] > 2.0)]</b>. Esse tipo de filtragem é muito útil em cenários ambientais complexos da Amazônia, onde múltiplos indicadores podem sinalizar riscos ecológicos combinados.</h4>"
      ],
      "metadata": {
        "id": "IH9jnWRE8yP5"
      }
    },
    {
      "cell_type": "code",
      "source": [
        "import pandas as pd\n",
        "\n",
        "# Leitura dos dados ambientais\n",
        "df = pd.read_csv('qualidade_agua_amazonia_encontro12.csv', sep=';', encoding='utf-8')\n",
        "\n",
        "# Filtrando rios com pH abaixo de 6.5 E turbidez acima de 2.0\n",
        "rios_criticos = df[(df['pH'] < 6.5) & (df['Turbidez'] > 2.0)]\n",
        "\n",
        "# Exibindo os rios que atendem ambas as condições\n",
        "print(\"Rios com pH < 6.5 e Turbidez > 2.0:\")\n",
        "print(\"=\"*60)\n",
        "print(rios_criticos)\n"
      ],
      "metadata": {
        "colab": {
          "base_uri": "https://localhost:8080/"
        },
        "id": "iQn7nj0s9L1D",
        "outputId": "49bdbeb4-5958-4df7-b5d9-9cf719150955"
      },
      "execution_count": 23,
      "outputs": [
        {
          "output_type": "stream",
          "name": "stdout",
          "text": [
            "Rios com pH < 6.5 e Turbidez > 2.0:\n",
            "============================================================\n",
            "Empty DataFrame\n",
            "Columns: [Rio, pH, Turbidez, Oxigênio Dissolvido]\n",
            "Index: []\n"
          ]
        }
      ]
    },
    {
      "cell_type": "code",
      "source": [
        "import pandas as pd\n",
        "\n",
        "# Leitura dos dados ambientais\n",
        "df = pd.read_csv('qualidade_agua_amazonia_encontro12.csv', sep=';', encoding='utf-8')\n",
        "\n",
        "# Filtrando rios com pH abaixo de 6.5 E turbidez acima de 2.0\n",
        "rios_criticos = df[(df['pH'] < 6.5) & (df['Turbidez'] > 2.0)]\n",
        "\n",
        "# Verificando se o resultado está vazio\n",
        "if rios_criticos.empty:\n",
        "    print(\"Nenhum rio atende aos critérios: pH < 6.5 e Turbidez > 2.0.\")\n",
        "else:\n",
        "    print(\"Rios com pH < 6.5 e Turbidez > 2.0:\")\n",
        "    print(rios_criticos)"
      ],
      "metadata": {
        "colab": {
          "base_uri": "https://localhost:8080/"
        },
        "id": "cj9aI18Y9oDU",
        "outputId": "2d35bdfb-8ba7-4f88-b371-5f8a8cfdde6e"
      },
      "execution_count": 24,
      "outputs": [
        {
          "output_type": "stream",
          "name": "stdout",
          "text": [
            "Nenhum rio atende aos critérios: pH < 6.5 e Turbidez > 2.0.\n"
          ]
        }
      ]
    },
    {
      "cell_type": "markdown",
      "source": [
        "## **:: Método .query() para Filtragens Legíveis**"
      ],
      "metadata": {
        "id": "WWXpEtI6-EJe"
      }
    },
    {
      "cell_type": "markdown",
      "source": [
        "<h4 align=\"justify\">O <b>método .query()</b> do Pandas oferece uma maneira mais legível e intuitiva de realizar filtragens condicionais em DataFrames, especialmente quando envolvem múltiplas colunas. Ele permite <b>escrever as condições de forma semelhante à linguagem natural ou SQL</b>, facilitando a leitura e a manutenção do código. Por exemplo, em vez de escrever <b>df[(df['pH'] < 6.5) & (df['Turbidez'] > 2.0)]</b>, podemos simplesmente usar <b>df.query(\"pH < 6.5 and Turbidez > 2.0\")</b>. Esse recurso é especialmente útil em projetos ambientais na Amazônia, onde os dados podem envolver muitos critérios de análise, como indicadores de qualidade da água, biodiversidade ou clima, exigindo expressões condicionais claras para apoiar decisões estratégicas.</h4>"
      ],
      "metadata": {
        "id": "pu3pJOpd-g7b"
      }
    },
    {
      "cell_type": "code",
      "source": [
        "import pandas as pd\n",
        "\n",
        "# Criando o DataFrame com dados simulados\n",
        "dados = {\n",
        "    'Rio': ['Rio Negro', 'Rio Madeira', 'Rio Xingu', 'Rio Purus'],\n",
        "    'pH': [6.4, 6.2, 5.8, 6.7],\n",
        "    'Turbidez': [1.8, 2.3, 3.1, 1.5]\n",
        "}\n",
        "\n",
        "df = pd.DataFrame(dados)\n",
        "\n",
        "# Aplicando o método query para filtrar rios com pH < 6.5 e Turbidez > 2.0\n",
        "rios_filtrados = df.query(\"pH < 6.5 and Turbidez > 2.0\")\n",
        "\n",
        "# Exibindo o resultado\n",
        "print(\"Rios com pH abaixo de 6.5 e turbidez acima de 2.0:\\n\")\n",
        "print(rios_filtrados)\n"
      ],
      "metadata": {
        "colab": {
          "base_uri": "https://localhost:8080/"
        },
        "id": "vA4phl1Y-f-n",
        "outputId": "5c55020f-90d9-4ca0-8141-3df741591bfe"
      },
      "execution_count": 25,
      "outputs": [
        {
          "output_type": "stream",
          "name": "stdout",
          "text": [
            "Rios com pH abaixo de 6.5 e turbidez acima de 2.0:\n",
            "\n",
            "           Rio   pH  Turbidez\n",
            "1  Rio Madeira  6.2       2.3\n",
            "2    Rio Xingu  5.8       3.1\n"
          ]
        }
      ]
    },
    {
      "cell_type": "markdown",
      "source": [
        "## **:: Método .isin() para Filtrar com Base em uma Lista de Valores**"
      ],
      "metadata": {
        "id": "39btRFhKCJCV"
      }
    },
    {
      "cell_type": "markdown",
      "source": [
        "<h4 align=\"justify\">O <b>método .isin()</b> do Pandas é utilizado para <b>filtrar linhas de um DataFrame com base em uma lista de valores específicos contidos em uma coluna</b>. Ele retorna uma série booleana indicando se cada valor da coluna pertence (ou não) à lista fornecida. Essa técnica é muito útil quando se deseja, por exemplo, selecionar apenas certos rios, regiões ou espécies previamente definidos. A sintaxe básica é <b>df[df['coluna'].isin([valor1, valor2, valor3])]</b>, o que mantém apenas as linhas onde a coluna especificada contém um dos valores da lista. Em projetos ambientais na Amazônia, isso permite, por exemplo, focar análises em rios críticos, comunidades específicas ou espécies vulneráveis previamente mapeadas.</h4>"
      ],
      "metadata": {
        "id": "R1vysht3AHDI"
      }
    },
    {
      "cell_type": "code",
      "source": [
        "import pandas as pd\n",
        "\n",
        "# Criando o DataFrame com dados simulados\n",
        "dados = {\n",
        "    'Rio': ['Rio Negro', 'Rio Madeira', 'Rio Xingu', 'Rio Purus', 'Rio Tapajós'],\n",
        "    'pH': [6.4, 6.2, 5.8, 6.7, 7.0],\n",
        "    'Turbidez': [1.8, 2.3, 3.1, 1.5, 2.0]\n",
        "}\n",
        "\n",
        "df = pd.DataFrame(dados)\n",
        "\n",
        "# Lista de rios que queremos filtrar\n",
        "rios_interesse = ['Rio Madeira', 'Rio Xingu']\n",
        "\n",
        "# Filtrando o DataFrame usando .isin()\n",
        "df_filtrado = df[df['Rio'].isin(rios_interesse)]\n",
        "\n",
        "# Exibindo o resultado\n",
        "print(\"Rios selecionados para análise:\\n\")\n",
        "print(df_filtrado)"
      ],
      "metadata": {
        "colab": {
          "base_uri": "https://localhost:8080/"
        },
        "id": "OXQT9iY3AVur",
        "outputId": "7f38ec33-4f3b-4f28-c5a7-3f6184b04c7a"
      },
      "execution_count": 27,
      "outputs": [
        {
          "output_type": "stream",
          "name": "stdout",
          "text": [
            "Rios selecionados para análise:\n",
            "\n",
            "           Rio   pH  Turbidez\n",
            "1  Rio Madeira  6.2       2.3\n",
            "2    Rio Xingu  5.8       3.1\n"
          ]
        }
      ]
    },
    {
      "cell_type": "markdown",
      "source": [
        "## **:: Método .between() para Filtrar Faixas Numéricas**"
      ],
      "metadata": {
        "id": "femCVvraCTLA"
      }
    },
    {
      "cell_type": "markdown",
      "source": [
        "<h4 align=\"justify\">O <b>método .between()</b> do Pandas é utilizado para <b>filtrar valores dentro de uma faixa numérica</b>, tornando o código mais legível e direto. Ele verifica se os valores de uma coluna estão entre dois limites (inclusive) e retorna uma série booleana que pode ser usada para selecionar essas linhas. A sintaxe básica é <b>df[coluna].between(valor_minimo, valor_maximo)</b>, ideal para filtrar dados ambientais como níveis de pH, temperatura, turbidez ou outros indicadores que variam dentro de intervalos aceitáveis. Por exemplo, em estudos de qualidade da água na Amazônia, pode-se usar <b>.between()</b> para selecionar apenas os rios cujo pH esteja dentro da faixa considerada neutra ou ideal para vida aquática.</h4>"
      ],
      "metadata": {
        "id": "NOSaeTl9CfDN"
      }
    },
    {
      "cell_type": "code",
      "source": [
        "import pandas as pd\n",
        "\n",
        "# Criando um DataFrame com dados simulados de temperatura em ninhos\n",
        "dados = {\n",
        "    'Ninho': ['N1', 'N2', 'N3', 'N4', 'N5'],\n",
        "    'Temperatura (°C)': [28.5, 30.2, 32.0, 27.8, 29.4]\n",
        "}\n",
        "\n",
        "df = pd.DataFrame(dados)\n",
        "\n",
        "# Filtrando ninhos com temperatura entre 28°C e 30.5°C (faixa ideal para incubação)\n",
        "ninhos_ideais = df[df['Temperatura (°C)'].between(28.0, 30.5)]\n",
        "\n",
        "# Exibindo o resultado\n",
        "print(\"Ninhos com temperatura ideal para incubação:\")\n",
        "print(ninhos_ideais)\n"
      ],
      "metadata": {
        "colab": {
          "base_uri": "https://localhost:8080/"
        },
        "id": "9CH8wOseDMev",
        "outputId": "c12d1b0a-5dc7-4e72-ccd3-aa481ea15a44"
      },
      "execution_count": 28,
      "outputs": [
        {
          "output_type": "stream",
          "name": "stdout",
          "text": [
            "Ninhos com temperatura ideal para incubação:\n",
            "  Ninho  Temperatura (°C)\n",
            "0    N1              28.5\n",
            "1    N2              30.2\n",
            "4    N5              29.4\n"
          ]
        }
      ]
    },
    {
      "cell_type": "markdown",
      "source": [
        "## **:: Método .str.contains() para Filtragem por Texto**"
      ],
      "metadata": {
        "id": "nmkc5UL3DgoB"
      }
    },
    {
      "cell_type": "markdown",
      "source": [
        "<h4 align=\"justify\">O método <b>.str.contains()</b> do Pandas é usado para <b>filtrar linhas com base em palavras ou padrões textuais dentro de uma coluna do tipo string</b>. Ele permite localizar registros que contenham determinada palavra ou fragmento, sendo muito útil em bases com nomes de rios, espécies, comunidades ou localidades. A sintaxe básica é <b>df[df['coluna'].str.contains('texto')]</b>, e é possível utilizar parâmetros adicionais, como <b>case=False</b> para ignorar maiúsculas/minúsculas, e <b>na=False</b> para tratar valores ausentes. Em projetos ambientais na Amazônia, esse método pode ser aplicado para identificar registros que mencionam, por exemplo, “Negro” no nome do rio ou “ameaçada” em uma descrição de status ecológico, facilitando buscas específicas em grandes volumes de dados textuais.</h4>"
      ],
      "metadata": {
        "id": "aCuaTeiTDoWk"
      }
    },
    {
      "cell_type": "code",
      "source": [
        "import pandas as pd\n",
        "\n",
        "# Criando um DataFrame com nomes de locais monitorados\n",
        "dados = {\n",
        "    'Local': ['Rio Negro', 'Lago Verde', 'Rio Xingu', 'Floresta Alta', 'Rio Purus'],\n",
        "    'pH': [6.4, 7.1, 5.8, 6.9, 6.7]\n",
        "}\n",
        "\n",
        "df = pd.DataFrame(dados)\n",
        "\n",
        "# Filtrando os registros que contêm \"Rio\" no nome\n",
        "rios = df[df['Local'].str.contains('Rio', case=False, na=False)]\n",
        "\n",
        "# Exibindo os resultados\n",
        "print(\"Locais com 'Rio' no nome:\\n\")\n",
        "print(rios)\n"
      ],
      "metadata": {
        "colab": {
          "base_uri": "https://localhost:8080/"
        },
        "id": "g5GR-9LxERKW",
        "outputId": "0748bc06-4039-4287-8b81-c86a8c2a1d64"
      },
      "execution_count": 29,
      "outputs": [
        {
          "output_type": "stream",
          "name": "stdout",
          "text": [
            "Locais com 'Rio' no nome:\n",
            "\n",
            "       Local   pH\n",
            "0  Rio Negro  6.4\n",
            "2  Rio Xingu  5.8\n",
            "4  Rio Purus  6.7\n"
          ]
        }
      ]
    },
    {
      "cell_type": "markdown",
      "source": [
        "## **:: Exercícios para Aprendizagem**"
      ],
      "metadata": {
        "id": "qkceC9qI-Mui"
      }
    },
    {
      "cell_type": "markdown",
      "source": [
        "<img width=\"160\" src=\"https://i.postimg.cc/0Qqh1tvk/Chat-GPT-Image-26-de-jul-de-2025-18-35-56-Photoroom.png\">\n",
        "<h3 align=\"justify\"><b>PROJETO RADAR AMAZÔNICO</b></h3>\n",
        "<h4 align=\"justify\">A Amazônia é um dos biomas mais ricos e sensíveis do planeta, abrigando uma diversidade extraordinária de espécies e culturas. No entanto, ameaças como o desmatamento, a perda de habitat e as mudanças climáticas colocam em risco esse ecossistema vital, afetando não apenas a fauna e a flora locais, mas também o equilíbrio climático global. Nesse contexto, o projeto Radar Amazônico surge como uma iniciativa estratégica que une tecnologia e análise de dados para fortalecer a vigilância ambiental. Vocês, <b>TecnoGuardas da Amazônia</b>, representam uma nova geração de agentes de proteção, capazes de aliar o saber tradicional à inteligência digital em prol da floresta.</h4>\n",
        "<h4 align=\"justify\">No Radar Amazônico, vocês atuarão como analistas ambientais, utilizando dados simulados sobre espécies de macacos e indicadores ecológicos — como temperatura, umidade, localização e status de conservação — para extrair informações relevantes à biodiversidade amazônica. Com o apoio do Python e da biblioteca Pandas, vocês irão ler, filtrar, cruzar e interpretar os dados, como se estivessem em uma missão real de monitoramento, com o suporte de sensores ou registros feitos por comunidades locais. A base de dados, embora fictícia, é inspirada em práticas reais de conservação e monitoramento realizadas por instituições como a <b>Natura</b>.</h4>\n",
        "<h4 align=\"justify\">Durante o desafio, os TecnoGuardas deverão responder questões cruciais: quais espécies estão mais ameaçadas? Quais áreas apresentam alterações climáticas preocupantes? Onde concentrar esforços de proteção? O projeto não só fortalece habilidades técnicas em ciência de dados, como também desperta uma visão crítica e estratégica sobre a preservação da Amazônia. O Radar Amazônico é, acima de tudo, um instrumento de formação para jovens guardiões digitais, comprometidos com a defesa da floresta através da tecnologia e da consciência ambiental.</h4>"
      ],
      "metadata": {
        "id": "2Bje8R9CGpXr"
      }
    },
    {
      "cell_type": "markdown",
      "source": [
        "<h4><b>Atividade 1</b></h4>\n",
        "<h4 align=\"justify\">Você acaba de receber um arquivo com registros ambientais coletados em campo por equipes de monitoramento. Ele contém informações sobre espécies de macacos observadas na Amazônia, com dados como quantidade de indivíduos, localização, temperatura, umidade e se a espécie é alvo de conservação.</h4>\n",
        "<h4 align=\"justify\">Utilize a linguagem Python e a biblioteca pandas para <b>carregar o arquivo CSV</b> intitulado <b>observacao_macacos_natura.csv</b> e <b>exibir as 5 primeiras linhas da tabela</b>.</h4>"
      ],
      "metadata": {
        "id": "CVx9vnmIIu0U"
      }
    },
    {
      "cell_type": "code",
      "source": [
        "# @title\n",
        "# Importando a biblioteca pandas\n",
        "import pandas as pd\n",
        "\n",
        "# Carregando o arquivo CSV com os dados de observação de macacos na Amazônia\n",
        "df = pd.read_csv('observacao_macacos_natura.csv')\n",
        "\n",
        "# Exibindo as 5 primeiras linhas do DataFrame para visualizar a estrutura dos dados\n",
        "print(\"Visualização inicial dos dados:\")\n",
        "print(df.head())\n"
      ],
      "metadata": {
        "colab": {
          "base_uri": "https://localhost:8080/"
        },
        "cellView": "form",
        "id": "Rlu6t9nqJvjT",
        "outputId": "ea3b424a-3ddb-4e60-d5b7-3201d56de26d"
      },
      "execution_count": 30,
      "outputs": [
        {
          "output_type": "stream",
          "name": "stdout",
          "text": [
            "Visualização inicial dos dados:\n",
            "     ID        Espécie Local de Observação  Qtd Indivíduos  \\\n",
            "0  M001  Macaco-aranha    Serra do Divisor               1   \n",
            "1  M002  Macaco-aranha    Reserva Mamirauá              11   \n",
            "2  M003   Macaco-prego          APA Marajó               9   \n",
            "3  M004    Zogue-zogue  Parque Anavilhanas               8   \n",
            "4  M005  Macaco-aranha    Serra do Divisor               3   \n",
            "\n",
            "   Temperatura Média (°C)  Umidade Média (%) Alvo de Conservação  \n",
            "0                    28.7                 77                 Não  \n",
            "1                    27.3                 84                 Não  \n",
            "2                    29.2                 84                 Sim  \n",
            "3                    28.8                 81                 Sim  \n",
            "4                    30.3                 85                 Sim  \n"
          ]
        }
      ]
    },
    {
      "cell_type": "markdown",
      "source": [
        "<h4><b>Atividade 2 - Filtrando Espécies em Risco</b></h4>\n",
        "<h4 align=\"justify\">A floresta está em alerta! Precisamos identificar apenas os registros em que as espécies estão marcadas como \"Alvo de Conservação\".</h4>\n",
        "<h4 align=\"justify\">Crie um código que filtre o DataFrame e exiba somente os registros onde a <b>coluna Alvo de Conservação seja igual a \"Sim\"</b>. Exiba o total de registros encontrados </h4>"
      ],
      "metadata": {
        "id": "FQfwvVv5J7Tp"
      }
    },
    {
      "cell_type": "code",
      "source": [
        "# @title\n",
        "# Importando a biblioteca pandas\n",
        "import pandas as pd\n",
        "\n",
        "# Carregando o arquivo com os dados de observação dos macacos\n",
        "df = pd.read_csv('observacao_macacos_natura.csv')\n",
        "\n",
        "# Filtrando apenas os registros em que a espécie é alvo de conservação\n",
        "especies_em_risco = df[df['Alvo de Conservação'] == 'Sim']\n",
        "\n",
        "# Exibindo o total de registros encontrados\n",
        "print(f\"Total de registros de espécies em risco: {len(especies_em_risco)}\")\n",
        "\n",
        "# Exibindo as 5 primeiras linhas do DataFrame filtrado\n",
        "print(\"\\nEspécies em risco identificadas:\\n\")\n",
        "print(especies_em_risco.head())\n"
      ],
      "metadata": {
        "colab": {
          "base_uri": "https://localhost:8080/"
        },
        "cellView": "form",
        "id": "dCNU8dU5KZa5",
        "outputId": "ff98f554-33a0-4332-ac6b-d607acfc9c26"
      },
      "execution_count": 31,
      "outputs": [
        {
          "output_type": "stream",
          "name": "stdout",
          "text": [
            "Total de registros de espécies em risco: 21\n",
            "\n",
            "Espécies em risco identificadas:\n",
            "\n",
            "     ID        Espécie Local de Observação  Qtd Indivíduos  \\\n",
            "2  M003   Macaco-prego          APA Marajó               9   \n",
            "3  M004    Zogue-zogue  Parque Anavilhanas               8   \n",
            "4  M005  Macaco-aranha    Serra do Divisor               3   \n",
            "5  M006   Macaco-prego          APA Marajó               4   \n",
            "6  M007    Zogue-zogue          APA Marajó               5   \n",
            "\n",
            "   Temperatura Média (°C)  Umidade Média (%) Alvo de Conservação  \n",
            "2                    29.2                 84                 Sim  \n",
            "3                    28.8                 81                 Sim  \n",
            "4                    30.3                 85                 Sim  \n",
            "5                    29.4                 82                 Sim  \n",
            "6                    27.0                 91                 Sim  \n"
          ]
        }
      ]
    },
    {
      "cell_type": "markdown",
      "source": [
        "<h4><b>Atividade 3 - Identificando Regiões de Calor Crítico</b></h4>\n",
        "<h4 align=\"justify\">Algumas regiões da Amazônia apresentaram temperaturas ambientais acima do limite de segurança para determinadas espécies.</h4>\n",
        "<h4 align=\"justify\">Filtre e exiba os locais onde a <b>Temperatura Média foi superior a 30.0°C</b>. Utilize o método <b>query()</b> ou uma condição com o <b>operador ></b>.</h4>"
      ],
      "metadata": {
        "id": "4pmOztRzKouH"
      }
    },
    {
      "cell_type": "code",
      "source": [
        "# @title\n",
        "# Importando a biblioteca pandas\n",
        "import pandas as pd\n",
        "\n",
        "# Carregando o arquivo com os dados de observação dos macacos\n",
        "df = pd.read_csv('observacao_macacos_natura.csv')\n",
        "\n",
        "# Filtrando os registros com temperatura média acima de 30°C\n",
        "regioes_quentes = df[df['Temperatura Média (°C)'] > 30.0]\n",
        "\n",
        "# Exibindo o total de registros encontrados\n",
        "print(f\"Total de registros com calor crítico: {len(regioes_quentes)}\")\n",
        "\n",
        "# Exibindo as n linhas do resultado\n",
        "print(\"\\nRegiões com temperaturas elevadas:\\n\")\n",
        "print(regioes_quentes.head(len(regioes_quentes)))\n"
      ],
      "metadata": {
        "colab": {
          "base_uri": "https://localhost:8080/"
        },
        "cellView": "form",
        "id": "MtvpqsikK71f",
        "outputId": "2237188b-ec7d-4c7f-ccd8-cbad71c5cd2d"
      },
      "execution_count": 33,
      "outputs": [
        {
          "output_type": "stream",
          "name": "stdout",
          "text": [
            "Total de registros com calor crítico: 8\n",
            "\n",
            "Regiões com temperaturas elevadas:\n",
            "\n",
            "      ID        Espécie Local de Observação  Qtd Indivíduos  \\\n",
            "4   M005  Macaco-aranha    Serra do Divisor               3   \n",
            "10  M011  Macaco-aranha  Parque Anavilhanas               7   \n",
            "13  M014    Zogue-zogue    Floresta Tapajós               3   \n",
            "17  M018    Zogue-zogue          APA Marajó               9   \n",
            "18  M019    Zogue-zogue          APA Marajó               2   \n",
            "24  M025          Cuxiú    Floresta Tapajós               6   \n",
            "30  M031    Zogue-zogue  Parque Anavilhanas               3   \n",
            "47  M048         Uacari  Parque Anavilhanas               9   \n",
            "\n",
            "    Temperatura Média (°C)  Umidade Média (%) Alvo de Conservação  \n",
            "4                     30.3                 85                 Sim  \n",
            "10                    31.2                 88                 Não  \n",
            "13                    30.2                 76                 Não  \n",
            "17                    31.1                 83                 Sim  \n",
            "18                    30.2                 93                 Não  \n",
            "24                    30.4                 78                 Sim  \n",
            "30                    30.1                 89                 Não  \n",
            "47                    30.8                 91                 Sim  \n"
          ]
        }
      ]
    },
    {
      "cell_type": "markdown",
      "source": [
        "<h4><b>Atividade 4 - Cruzando Temperatura e Umidade</b></h4>\n",
        "<h4 align=\"justify\">Queremos saber quais registros indicam alta temperatura e baixa umidade, condições preocupantes para a sobrevivência de primatas.</h4>\n",
        "<h4 align=\"justify\">Utilize duas condições ao mesmo tempo: <b>selecione os registros onde Temperatura Média (°C) seja maior que 30 e Umidade Média (%) menor que 80</b>. Exiba o resultado.</h4>"
      ],
      "metadata": {
        "id": "zWfoJn5sLY18"
      }
    },
    {
      "cell_type": "code",
      "source": [
        "# @title\n",
        "# Importando a biblioteca pandas\n",
        "import pandas as pd\n",
        "\n",
        "# Carregando os dados do arquivo CSV\n",
        "df = pd.read_csv('observacao_macacos_natura.csv')\n",
        "\n",
        "# Filtrando registros com temperatura entre 30.1 e 40°C\n",
        "# e umidade entre 0 e 79% (ou seja, baixa umidade)\n",
        "condicoes_criticas = df[\n",
        "    df['Temperatura Média (°C)'].between(30.1, 40) &\n",
        "    df['Umidade Média (%)'].between(0, 79)\n",
        "]\n",
        "\n",
        "# Exibindo o total de registros encontrados\n",
        "print(f\"Total de registros com alta temperatura e baixa umidade: {len(condicoes_criticas)}\")\n",
        "\n",
        "# Exibindo os dados filtrados\n",
        "print(\"\\nRegistros sob condições ambientais críticas:\\n\")\n",
        "print(condicoes_criticas.head(len(condicoes_criticas)))\n"
      ],
      "metadata": {
        "colab": {
          "base_uri": "https://localhost:8080/"
        },
        "cellView": "form",
        "id": "ukzqyxcjLpHe",
        "outputId": "230cff8f-bacf-402f-fcbe-cec6f5b0093a"
      },
      "execution_count": 34,
      "outputs": [
        {
          "output_type": "stream",
          "name": "stdout",
          "text": [
            "Total de registros com alta temperatura e baixa umidade: 2\n",
            "\n",
            "Registros sob condições ambientais críticas:\n",
            "\n",
            "      ID      Espécie Local de Observação  Qtd Indivíduos  \\\n",
            "13  M014  Zogue-zogue    Floresta Tapajós               3   \n",
            "24  M025        Cuxiú    Floresta Tapajós               6   \n",
            "\n",
            "    Temperatura Média (°C)  Umidade Média (%) Alvo de Conservação  \n",
            "13                    30.2                 76                 Não  \n",
            "24                    30.4                 78                 Sim  \n"
          ]
        }
      ]
    },
    {
      "cell_type": "markdown",
      "source": [
        "<h4><b>Atividade 5 - Localizando Informações Específicas</b></h4>\n",
        "<h4 align=\"justify\">Um pesquisador quer investigar apenas os dados de um determinado local, por exemplo: \"Reserva Mamirauá\".</h4>\n",
        "<h4 align=\"justify\">Peça ao usuário que <b>digite o nome de um local de observação</b> e <b>filtre o DataFrame para mostrar os registros apenas daquele local</b>. Use o método <b>.isin() ou .str.contains()</b>.</h4>"
      ],
      "metadata": {
        "id": "a8XV8rXjL_0I"
      }
    },
    {
      "cell_type": "code",
      "source": [
        "# @title\n",
        "# Importando a biblioteca pandas\n",
        "import pandas as pd\n",
        "\n",
        "# Carregando o arquivo CSV com os dados\n",
        "df = pd.read_csv('observacao_macacos_natura.csv')\n",
        "\n",
        "# Solicitando ao usuário que informe o local desejado\n",
        "local_desejado = input(\"Digite o nome do local que deseja consultar (ex: Reserva Mamirauá): \")\n",
        "\n",
        "# Filtrando os registros que contenham o nome do local informado\n",
        "registros_local = df[df['Local de Observação'].str.contains(local_desejado, case=False, na=False)]\n",
        "\n",
        "# Verificando se há registros encontrados\n",
        "if not registros_local.empty:\n",
        "    print(f\"\\nRegistros encontrados para o local '{local_desejado}':\\n\")\n",
        "    print(registros_local)\n",
        "else:\n",
        "    print(f\"\\nNenhum registro encontrado para o local '{local_desejado}'.\")\n"
      ],
      "metadata": {
        "colab": {
          "base_uri": "https://localhost:8080/"
        },
        "cellView": "form",
        "id": "iTv4OGhjMVgv",
        "outputId": "4d0f79da-fdac-416a-87ad-f3db9249773b"
      },
      "execution_count": 38,
      "outputs": [
        {
          "output_type": "stream",
          "name": "stdout",
          "text": [
            "Digite o nome do local que deseja consultar (ex: Reserva Mamirauá): Serra do Divisor\n",
            "\n",
            "Registros encontrados para o local 'Serra do Divisor':\n",
            "\n",
            "      ID        Espécie Local de Observação  Qtd Indivíduos  \\\n",
            "0   M001  Macaco-aranha    Serra do Divisor               1   \n",
            "4   M005  Macaco-aranha    Serra do Divisor               3   \n",
            "12  M013         Uacari    Serra do Divisor               2   \n",
            "21  M022   Macaco-prego    Serra do Divisor               4   \n",
            "33  M034         Uacari    Serra do Divisor              12   \n",
            "46  M047          Cuxiú    Serra do Divisor               3   \n",
            "48  M049  Macaco-aranha    Serra do Divisor               6   \n",
            "49  M050   Macaco-prego    Serra do Divisor               9   \n",
            "\n",
            "    Temperatura Média (°C)  Umidade Média (%) Alvo de Conservação  \n",
            "0                     28.7                 77                 Não  \n",
            "4                     30.3                 85                 Sim  \n",
            "12                    27.4                 84                 Não  \n",
            "21                    29.4                 89                 Não  \n",
            "33                    27.5                 84                 Sim  \n",
            "46                    28.7                 95                 Sim  \n",
            "48                    29.6                 95                 Sim  \n",
            "49                    28.1                 95                 Não  \n"
          ]
        }
      ]
    },
    {
      "cell_type": "markdown",
      "source": [
        "<h4><b>Atividade 6 - Atualizando Dados de Campo</b></h4>\n",
        "<h4 align=\"justify\">Durante a checagem, foi descoberto que um dos registros tinha a quantidade de indivíduos informada incorretamente.</h4>\n",
        "<h4 align=\"justify\"><b>Escolha um registro específico</b> (ex: ID = \"M010\") e <b>atualize o valor da coluna Qtd Indivíduos para um novo número</b> (à sua escolha). Em seguida, exiba a linha alterada.</h4>"
      ],
      "metadata": {
        "id": "g4vCRrDeNDQT"
      }
    },
    {
      "cell_type": "code",
      "source": [
        "# @title\n",
        "# Importando a biblioteca pandas\n",
        "import pandas as pd\n",
        "\n",
        "# Carregando o arquivo CSV com os dados\n",
        "df = pd.read_csv('observacao_macacos_natura.csv')\n",
        "\n",
        "# Exibindo os primeiros IDs disponíveis na base\n",
        "print(\"Alguns IDs disponíveis para atualização:\\n\")\n",
        "print(df['ID'].head(10).to_list())\n",
        "\n",
        "# Solicitando ao usuário o ID que deseja atualizar\n",
        "id_alvo = input(\"\\nDigite o ID do registro a ser corrigido (ex: M010): \")\n",
        "\n",
        "# Verificando se o ID existe na base\n",
        "if id_alvo in df['ID'].values:\n",
        "    # Solicitando o novo valor da quantidade de indivíduos\n",
        "    novo_valor = int(input(\"Digite o novo valor para 'Qtd Indivíduos': \"))\n",
        "\n",
        "    # Atualizando o valor da coluna\n",
        "    df.loc[df['ID'] == id_alvo, 'Qtd Indivíduos'] = novo_valor\n",
        "\n",
        "    # Exibindo o registro atualizado\n",
        "    print(f\"\\nRegistro do ID {id_alvo} atualizado com sucesso:\")\n",
        "    print(df[df['ID'] == id_alvo])\n",
        "else:\n",
        "    print(f\"\\nID '{id_alvo}' não encontrado na base de dados.\")\n"
      ],
      "metadata": {
        "colab": {
          "base_uri": "https://localhost:8080/"
        },
        "cellView": "form",
        "id": "q_rYgHlANfoj",
        "outputId": "30c00c36-25bc-4969-a07f-8762319d14e9"
      },
      "execution_count": 40,
      "outputs": [
        {
          "output_type": "stream",
          "name": "stdout",
          "text": [
            "Alguns IDs disponíveis para atualização:\n",
            "\n",
            "['M001', 'M002', 'M003', 'M004', 'M005', 'M006', 'M007', 'M008', 'M009', 'M010']\n",
            "\n",
            "Digite o ID do registro a ser corrigido (ex: M010): M006\n",
            "Digite o novo valor para 'Qtd Indivíduos': 48\n",
            "\n",
            "Registro do ID M006 atualizado com sucesso:\n",
            "     ID       Espécie Local de Observação  Qtd Indivíduos  \\\n",
            "5  M006  Macaco-prego          APA Marajó              48   \n",
            "\n",
            "   Temperatura Média (°C)  Umidade Média (%) Alvo de Conservação  \n",
            "5                    29.4                 82                 Sim  \n"
          ]
        }
      ]
    },
    {
      "cell_type": "markdown",
      "source": [
        "<h4><b>Atividade 7 - Gerando Relatório Filtrado</b></h4>\n",
        "<h4 align=\"justify\">Durante a análise dos dados, você identificou uma condição importante que merece atenção dos pesquisadores. Agora, é hora de gerar um relatório exclusivo com os registros que atendem a essa condição — por exemplo, <b>espécies marcadas como “Alvo de Conservação”.</b></h4>\n",
        "<h4 align=\"justify\">Realize o filtro e salve esse subconjunto em um novo arquivo CSV chamado <b>relatorio_ambiental_filtrado.csv</b>, uma vez que esse relatório será compartilhado com a equipe de monitoramento para auxiliar na tomada de decisões estratégicas.</h4>"
      ],
      "metadata": {
        "id": "FcIgd6_3daQl"
      }
    },
    {
      "cell_type": "code",
      "source": [
        "# @title\n",
        "# Importando a biblioteca pandas\n",
        "import pandas as pd\n",
        "\n",
        "# Carregando o arquivo original\n",
        "df = pd.read_csv('observacao_macacos_natura.csv')\n",
        "\n",
        "# Filtrando apenas os registros com 'Alvo de Conservação' igual a 'Sim'\n",
        "df_filtrado = df[df['Alvo de Conservação'] == 'Sim']\n",
        "\n",
        "# Verificando se há dados filtrados\n",
        "if not df_filtrado.empty:\n",
        "    # Salvando o DataFrame filtrado em um novo arquivo CSV\n",
        "    df_filtrado.to_csv('relatorio_ambiental_filtrado.csv', index=False)\n",
        "\n",
        "    print(\"✅ Relatório ambiental salvo com sucesso como 'relatorio_ambiental_filtrado.csv'.\")\n",
        "    print(f\"Total de registros salvos: {len(df_filtrado)}\")\n",
        "else:\n",
        "    print(\"⚠️ Nenhum registro encontrado com 'Alvo de Conservação' igual a 'Sim'. Nada foi salvo.\")\n"
      ],
      "metadata": {
        "cellView": "form",
        "id": "XGC14koldqIC"
      },
      "execution_count": null,
      "outputs": []
    },
    {
      "cell_type": "markdown",
      "source": [
        "<div align=\"center\">\n",
        "  <font size=\"6\" color=\"#0000ff\"><b>Fim do Encontro 12!</b></font>\n",
        "</div>"
      ],
      "metadata": {
        "id": "xDx3wBdVrEO_"
      }
    }
  ]
}