{
  "nbformat": 4,
  "nbformat_minor": 0,
  "metadata": {
    "colab": {
      "provenance": []
    },
    "kernelspec": {
      "name": "python3",
      "display_name": "Python 3"
    },
    "language_info": {
      "name": "python"
    }
  },
  "cells": [
    {
      "cell_type": "code",
      "execution_count": null,
      "metadata": {
        "colab": {
          "base_uri": "https://localhost:8080/",
          "height": 1000
        },
        "id": "rg3inWb1jSuX",
        "outputId": "aae50fe0-0aa4-46d2-8214-80f911fe832f",
        "cellView": "form"
      },
      "outputs": [
        {
          "output_type": "display_data",
          "data": {
            "text/plain": [
              "<IPython.core.display.HTML object>"
            ],
            "text/html": [
              "<img src=\"https://i.postimg.cc/9X40k1KK/header-bloc3-encontro9.jpg\" style=\"display: block; margin: 0 auto; width: 100%; height: 100%; object-fit: contain\">"
            ]
          },
          "metadata": {}
        },
        {
          "output_type": "display_data",
          "data": {
            "text/plain": [
              "<IPython.core.display.HTML object>"
            ],
            "text/html": [
              "\n",
              "  <div style=\"width:100%; color: black; background-color:none; margin-top:20px\">\n",
              "    <div style=\"float: left; width: 45%; margin-top:10px\">\n",
              "      <h1 style=\"color:#000; margin-bottom:10px\">Sobre o curso</h1>\n",
              "      <p style=\"font-size:16px; line-height: 23px; text-align:justify\">\n",
              "        O curso Inteligência Artificial Aplicada aos Desafios Socioambientais da Amazônia, promovido pelo Instituto de Inteligência Artificial Aplicada (I2A2), é uma iniciativa pioneira voltada para capacitar moradores do Pará e da região Norte. Com duração de seis meses, combina aulas online, atividades assíncronas, workshops práticos, encontros com especialistas e mentoria contínua. O objetivo é aplicar a IA de forma prática em problemas ambientais reais, em alinhamento com as diretrizes e temas da COP30.\n",
              "      </p3>\n",
              "      <p style=\"font-size:16px; line-height: 23px; text-align:justify\">\n",
              "        Ao longo do curso, os participantes exploram desde fundamentos de Machine Learning até IA Generativa, trabalhando com dados ambientais da Amazônia para enfrentar questões como desmatamento, queimadas, qualidade da água e riscos climáticos. Cada grupo finaliza sua jornada com um projeto integrador, apresentando soluções sustentáveis e socialmente viáveis. A formação busca fortalecer competências técnicas e o protagonismo de lideranças locais, articulando ciência, tecnologia e justiça ambiental, consolidando a Amazônia como polo de inovação para o desenvolvimento sustentável.\n",
              "      </p>\n",
              "    </div>\n",
              "    <div style=\"float: left; width: 55%; display: flex; justify-content: center; align-items: center;\">\n",
              "      <center>\n",
              "        <img style=\"margin-top:80px;width:420px\" src=\"https://i.postimg.cc/0jLdTyMD/logo-i2a2.png\" />\n",
              "      </center>\n",
              "    </div>\n",
              "  </div>\n",
              "  <div style=”clear: both”></div>\n",
              "  <div style=\"width:100%; color: black; background-color:none; margin-top:20px\">\n",
              "  <div style=\"float: left; width: 100%;\">\n",
              "    <center>\n",
              "        <img style=\"margin-top:80px;width:200px\" src=\"https://i.postimg.cc/qqXsDh6F/separator-python.png\" />\n",
              "      </center>\n",
              "  </div>\n",
              "  </div>\n",
              "\n"
            ]
          },
          "metadata": {}
        }
      ],
      "source": [
        "# @title\n",
        "# Curso IA Aplicada aos Desafios Socioambientais da Amazônia\n",
        "# Notebook desenvolvido por: Onédio S Seabra junior\n",
        "# Atualização : 1o de julho de 2025\n",
        "\n",
        "from IPython.display import display, HTML\n",
        "\n",
        "# O caminho para a imagem\n",
        "header_img = 'https://i.postimg.cc/9X40k1KK/header-bloc3-encontro9.jpg'\n",
        "# O código HTML para exibir a imagem em tamanho original e centralizada\n",
        "html = f'<img src=\"{header_img}\" style=\"display: block; margin: 0 auto; width: 100%; height: 100%; object-fit: contain\">'\n",
        "# Exibe a imagem usando o display do IPython e o HTML\n",
        "display(HTML(html))\n",
        "\n",
        "# apresenta Sobre o Curso\n",
        "html_sobre = '''\n",
        "  <div style=\"width:100%; color: black; background-color:none; margin-top:20px\">\n",
        "    <div style=\"float: left; width: 45%; margin-top:10px\">\n",
        "      <h1 style=\"color:#000; margin-bottom:10px\">Sobre o curso</h1>\n",
        "      <p style=\"font-size:16px; line-height: 23px; text-align:justify\">\n",
        "        O curso Inteligência Artificial Aplicada aos Desafios Socioambientais da Amazônia, promovido pelo Instituto de Inteligência Artificial Aplicada (I2A2), é uma iniciativa pioneira voltada para capacitar moradores do Pará e da região Norte. Com duração de seis meses, combina aulas online, atividades assíncronas, workshops práticos, encontros com especialistas e mentoria contínua. O objetivo é aplicar a IA de forma prática em problemas ambientais reais, em alinhamento com as diretrizes e temas da COP30.\n",
        "      </p3>\n",
        "      <p style=\"font-size:16px; line-height: 23px; text-align:justify\">\n",
        "        Ao longo do curso, os participantes exploram desde fundamentos de Machine Learning até IA Generativa, trabalhando com dados ambientais da Amazônia para enfrentar questões como desmatamento, queimadas, qualidade da água e riscos climáticos. Cada grupo finaliza sua jornada com um projeto integrador, apresentando soluções sustentáveis e socialmente viáveis. A formação busca fortalecer competências técnicas e o protagonismo de lideranças locais, articulando ciência, tecnologia e justiça ambiental, consolidando a Amazônia como polo de inovação para o desenvolvimento sustentável.\n",
        "      </p>\n",
        "    </div>\n",
        "    <div style=\"float: left; width: 55%; display: flex; justify-content: center; align-items: center;\">\n",
        "      <center>\n",
        "        <img style=\"margin-top:80px;width:420px\" src=\"https://i.postimg.cc/0jLdTyMD/logo-i2a2.png\" />\n",
        "      </center>\n",
        "    </div>\n",
        "  </div>\n",
        "  <div style=”clear: both”></div>\n",
        "  <div style=\"width:100%; color: black; background-color:none; margin-top:20px\">\n",
        "  <div style=\"float: left; width: 100%;\">\n",
        "    <center>\n",
        "        <img style=\"margin-top:80px;width:200px\" src=\"https://i.postimg.cc/qqXsDh6F/separator-python.png\" />\n",
        "      </center>\n",
        "  </div>\n",
        "  </div>\n",
        "\n",
        "'''\n",
        "display(HTML(html_sobre))\n"
      ]
    },
    {
      "cell_type": "markdown",
      "source": [
        "# **&#9776; Trilha do Conhecimento**"
      ],
      "metadata": {
        "id": "zNUlCyVQTwga"
      }
    },
    {
      "cell_type": "markdown",
      "source": [
        "<h4 align=\"justify\">&bullet; input</h4>\n",
        "<h4 align=\"justify\">&bullet; Operadores</h4>\n",
        "<h4 align=\"justify\">&bullet; if..else</h4>\n",
        "<h4 align=\"justify\">&bullet; while Loops</h4>\n",
        "<h4 align=\"justify\">&bullet; for Loops</h4>\n",
        "<h4 align=\"justify\">&bullet; match-case</h4>\n",
        "\n"
      ],
      "metadata": {
        "id": "bL_52DBLUhYk"
      }
    },
    {
      "cell_type": "markdown",
      "source": [
        "# **&#9776; input()**"
      ],
      "metadata": {
        "id": "fIm90xBQeQgw"
      }
    },
    {
      "cell_type": "markdown",
      "source": [
        "<h4 align=\"justify\">A função <b>input()</b> em Python é utilizada para receber dados digitados pelo usuário durante a execução do programa, permitindo que o código seja mais interativo e dinâmico. Com ela, é possível solicitar informações como textos, números ou opções, exibindo uma mensagem de orientação na tela. <b>O valor capturado pelo input() é sempre uma string</b>, mas pode ser convertido para outros tipos de dados, como inteiro ou decimal, usando funções como int() ou float(). Essa funcionalidade é essencial para criar scripts que coletam informações em tempo real, como cadastros, somas ou alertas baseados em dados fornecidos na hora.</h4>"
      ],
      "metadata": {
        "id": "Zc422RLceqI4"
      }
    },
    {
      "cell_type": "code",
      "source": [
        "# Exemplo 1\n",
        "# Pergunta ao usuário qual estado deseja monitorar\n",
        "territorio = input(\"Informe o Estado que será monitorado para buscar áreas queimadas (exemplo: 'DF'): \")\n",
        "\n",
        "# Exibe uma mensagem com a resposta\n",
        "print(\"Você escolheu monitorar o território:\", territorio)"
      ],
      "metadata": {
        "colab": {
          "base_uri": "https://localhost:8080/"
        },
        "id": "m-RW5RnS2kT6",
        "outputId": "2eaef849-6b55-4cc2-b991-9e71ecfdf7bf"
      },
      "execution_count": null,
      "outputs": [
        {
          "output_type": "stream",
          "name": "stdout",
          "text": [
            "Informe o Estado que será monitorado para buscar áreas queimadas (exemplo: 'DF'): DF\n",
            "Você escolheu monitorar o território: DF\n"
          ]
        }
      ]
    },
    {
      "cell_type": "code",
      "source": [
        "# Exemplo 2\n",
        "# Solicita ao usuário a área de floresta monitorada\n",
        "area = input(\"Digite a área monitorada (em hectares): \")\n",
        "\n",
        "# Converte a entrada para número inteiro\n",
        "area_int = int(area)\n",
        "\n",
        "# Mostra a área informada\n",
        "print(\"A área monitorada é:\", area_int, \"hectares\")"
      ],
      "metadata": {
        "colab": {
          "base_uri": "https://localhost:8080/"
        },
        "id": "75Ilkm2b3V0s",
        "outputId": "6ed6f0b7-ba0b-43e1-d715-b0d01f26665a"
      },
      "execution_count": null,
      "outputs": [
        {
          "output_type": "stream",
          "name": "stdout",
          "text": [
            "Digite a área monitorada (em hectares): 45\n",
            "A área monitorada é: 45 hectares\n"
          ]
        }
      ]
    },
    {
      "cell_type": "markdown",
      "source": [
        "# **&#9776; Operadores**"
      ],
      "metadata": {
        "id": "qpJ-n5oR5wzr"
      }
    },
    {
      "cell_type": "markdown",
      "source": [
        "<h4 align=\"justify\">Em Python, <b>operadores</b> são símbolos ou palavras-chave que permitem <b>realizar operações sobre variáveis e valores</b>, tornando possível executar cálculos, comparações, atribuições, verificações de identidade, filiação em coleções e decisões lógicas. São fundamentais para escrever instruções que manipulem dados, como somar áreas monitoradas, comparar limites de desmatamento, validar condições de alerta ou combinar expressões em regras de decisão. Dominá-los é essencial para criar códigos funcionais, claros e eficientes, principalmente quando aplicados em cenários reais, como análise de dados ambientais.</h4>"
      ],
      "metadata": {
        "id": "Tqm2R7Qx5hKU"
      }
    },
    {
      "cell_type": "markdown",
      "source": [
        "<center><img src=\"https://i.postimg.cc/bv9GgJGT/Chat-GPT-Image-4-de-jul-de-2025-20-46-35-Photoroom.png\" width=50%></center>"
      ],
      "metadata": {
        "id": "yHTbpLQ26Twl"
      }
    },
    {
      "cell_type": "code",
      "source": [
        "# Exemplo\n",
        "area_queimada_para = 20 #m2\n",
        "area_queimada_amazonas = 40 #m2\n",
        "print(\"Área total de queimadas na região norte:\", area_queimada_para+area_queimada_amazonas, \"m2\")\n"
      ],
      "metadata": {
        "colab": {
          "base_uri": "https://localhost:8080/"
        },
        "id": "iXCxIdWm56pG",
        "outputId": "c89110c5-dec3-448b-b399-8386872eff1f"
      },
      "execution_count": null,
      "outputs": [
        {
          "output_type": "stream",
          "name": "stdout",
          "text": [
            "Área total de queimadas na região norte: 60 m2\n"
          ]
        }
      ]
    },
    {
      "cell_type": "markdown",
      "source": [
        "<h4 align=\"justify\">Python divide os operadores nos seguintes grupos:</h4>\n",
        "<h4 align=\"justify\">&bullet;<b>Operadores Aritméticos</b>: soma, subtração, multiplicação, divisão, resto, potência.</h4>\n",
        "<h4 align=\"justify\">&bullet;<b>Operadores de Atribuição</b>: =, +=, -=, *=, /=, etc.</h4>\n",
        "<h4 align=\"justify\">&bullet;<b>Operadores de Comparação</b>: ==, !=, >, <, >=, <=.</h4>\n",
        "<h4 align=\"justify\">&bullet;<b>Operadores Lógicos</b>: and, or, not.</h4>\n",
        "<h4 align=\"justify\">&bullet;<b>Operadores de Identidade</b>: is, is not.</h4>\n",
        "<h4 align=\"justify\">&bullet;<b>Operadores de Filiação</b>: in, not in.</h4>"
      ],
      "metadata": {
        "id": "FBRemKSE7G9v"
      }
    },
    {
      "cell_type": "markdown",
      "source": [
        "## &#9868; **Operadores Aritméticos**\n",
        "---"
      ],
      "metadata": {
        "id": "x5skqgMs-IKa"
      }
    },
    {
      "cell_type": "markdown",
      "source": [
        "<table>\n",
        "        <tr>\n",
        "            <th>Operador</th>\n",
        "            <th>Nome</th>\n",
        "            <th>Exemplo</th>\n",
        "        </tr>\n",
        "        <tr>\n",
        "            <td>+</td>\n",
        "            <td>Adição</td>\n",
        "            <td>x + y</td>\n",
        "        </tr>\n",
        "        <tr>\n",
        "            <td>-</td>\n",
        "            <td>Subtração</td>\n",
        "            <td>x - y</td>\n",
        "        </tr>\n",
        "        <tr>\n",
        "            <td>*</td>\n",
        "            <td>Multiplicação</td>\n",
        "            <td>x * y</td>\n",
        "        </tr>\n",
        "        <tr>\n",
        "            <td>/</td>\n",
        "            <td>Divisão</td>\n",
        "            <td>x / y</td>\n",
        "        </tr>\n",
        "        <tr>\n",
        "            <td>%</td>\n",
        "            <td>Módulo</td>\n",
        "            <td>x % y</td>\n",
        "        </tr>\n",
        "        <tr>\n",
        "            <td>**</td>\n",
        "            <td>Exponenciação</td>\n",
        "            <td>x ** y</td>\n",
        "        </tr>\n",
        "        <tr>\n",
        "            <td>//</td>\n",
        "            <td>Divisão inteira</td>\n",
        "            <td>x // y</td>\n",
        "        </tr>\n",
        "    </table>"
      ],
      "metadata": {
        "id": "znpRxgvY-mWo"
      }
    },
    {
      "cell_type": "code",
      "source": [
        "# Multiplicação: calcular área total de reflorestamento\n",
        "# 10 hectares por lote * 5 lotes\n",
        "area_lote = 10\n",
        "numero_lotes = 5\n",
        "area_total = area_lote * numero_lotes\n",
        "print(\"Área total de reflorestamento:\", area_total, \"hectares\")"
      ],
      "metadata": {
        "colab": {
          "base_uri": "https://localhost:8080/"
        },
        "id": "k8xTW_5f6qrv",
        "outputId": "13e83747-5a91-470a-b473-c6d66833ecfe"
      },
      "execution_count": null,
      "outputs": [
        {
          "output_type": "stream",
          "name": "stdout",
          "text": [
            "Área total de reflorestamento: 50 hectares\n"
          ]
        }
      ]
    },
    {
      "cell_type": "code",
      "source": [
        "# Módulo: verificar se uma meta de plantio é múltipla de 100 mudas\n",
        "mudas_plantadas = 450\n",
        "resto = mudas_plantadas % 100\n",
        "print(\"Resto da divisão por 100:\", resto, \"- Se for 0, meta é múltipla de 100.\")"
      ],
      "metadata": {
        "colab": {
          "base_uri": "https://localhost:8080/"
        },
        "id": "3o4lxaTX_-Fr",
        "outputId": "f99b62df-7f36-4e4b-9bed-52e4911a1849"
      },
      "execution_count": null,
      "outputs": [
        {
          "output_type": "stream",
          "name": "stdout",
          "text": [
            "Resto da divisão por 100: 50 - Se for 0, meta é múltipla de 100.\n"
          ]
        }
      ]
    },
    {
      "cell_type": "code",
      "source": [
        "# Exponenciação: calcular crescimento de área reflorestada dobrando a cada ano\n",
        "# 2 hectares que dobram por 3 anos\n",
        "area_inicial = 2\n",
        "anos = 3\n",
        "area_após_anos = area_inicial * (2 ** anos)\n",
        "print(\"Área após\", anos, \"anos de crescimento exponencial:\", area_após_anos, \"hectares\")"
      ],
      "metadata": {
        "colab": {
          "base_uri": "https://localhost:8080/"
        },
        "id": "v_xTRG6EAFvn",
        "outputId": "353b6404-c7ac-4455-80a5-1faa4324bd41"
      },
      "execution_count": null,
      "outputs": [
        {
          "output_type": "stream",
          "name": "stdout",
          "text": [
            "Área após 3 anos de crescimento exponencial: 16 hectares\n"
          ]
        }
      ]
    },
    {
      "cell_type": "code",
      "source": [
        "# Divisão inteira: repartir mudas igualmente entre comunidades\n",
        "total_mudas = 550\n",
        "comunidades = 4\n",
        "mudas_por_comunidade = total_mudas // comunidades\n",
        "print(\"Cada comunidade receberá:\", mudas_por_comunidade, \"mudas (divisão inteira)\")"
      ],
      "metadata": {
        "colab": {
          "base_uri": "https://localhost:8080/"
        },
        "id": "DRGgULC5AU6N",
        "outputId": "52cee1d6-d211-4376-da28-d2f015b79b53"
      },
      "execution_count": null,
      "outputs": [
        {
          "output_type": "stream",
          "name": "stdout",
          "text": [
            "Cada comunidade receberá: 137 mudas (divisão inteira)\n"
          ]
        }
      ]
    },
    {
      "cell_type": "markdown",
      "source": [
        "## &#9868; **Operadores de Atribuição**\n",
        "---"
      ],
      "metadata": {
        "id": "QQ28t-kYAlJ-"
      }
    },
    {
      "cell_type": "markdown",
      "source": [
        "Operadores de atribuição são usados ​​para atribuir valores a variáveis:\n",
        "\n",
        "<table>\n",
        "        <tr>\n",
        "            <th>Operador</th>\n",
        "            <th>Exemplo</th>\n",
        "            <th>Equivalente</th>\n",
        "        </tr>\n",
        "        <tr>\n",
        "            <td>=</td>\n",
        "            <td>x = 5</td>\n",
        "            <td>x = 5</td>\n",
        "        </tr>\n",
        "        <tr>\n",
        "            <td>+=</td>\n",
        "            <td>x += 3</td>\n",
        "            <td>x = x + 3</td>\n",
        "        </tr>\n",
        "        <tr>\n",
        "            <td>-=</td>\n",
        "            <td>x -= 3</td>\n",
        "            <td>x = x - 3</td>\n",
        "        </tr>\n",
        "        <tr>\n",
        "            <td>*=</td>\n",
        "            <td>x *= 3</td>\n",
        "            <td>x = x * 3</td>\n",
        "        </tr>\n",
        "        <tr>\n",
        "            <td>/=</td>\n",
        "            <td>x /= 3</td>\n",
        "            <td>x = x / 3</td>\n",
        "        </tr>\n",
        "        <tr>\n",
        "            <td>%=</td>\n",
        "            <td>x %= 3</td>\n",
        "            <td>x = x % 3</td>\n",
        "        </tr>\n",
        "        <tr>\n",
        "            <td>//=</td>\n",
        "            <td>x //= 3</td>\n",
        "            <td>x = x // 3</td>\n",
        "        </tr>\n",
        "        <tr>\n",
        "            <td>**=</td>\n",
        "            <td>x **= 3</td>\n",
        "            <td>x = x ** 3</td>\n",
        "        </tr>\n",
        "        <tr>\n",
        "            <td>&=</td>\n",
        "            <td>x &= 3</td>\n",
        "            <td>x = x & 3</td>\n",
        "        </tr>\n",
        "        <tr>\n",
        "            <td>|=</td>\n",
        "            <td>x |= 3</td>\n",
        "            <td>x = x | 3</td>\n",
        "        </tr>\n",
        "        <tr>\n",
        "            <td>^=</td>\n",
        "            <td>x ^= 3</td>\n",
        "            <td>x = x ^ 3</td>\n",
        "        </tr>\n",
        "        <tr>\n",
        "            <td>>>=</td>\n",
        "            <td>x >>= 3</td>\n",
        "            <td>x = x >> 3</td>\n",
        "        </tr>\n",
        "        <tr>\n",
        "            <td><<=</td>\n",
        "            <td>x <<= 3</td>\n",
        "            <td>x = x << 3</td>\n",
        "        </tr>\n",
        "        <tr>\n",
        "            <td>:=</td>\n",
        "            <td>print(x := 3)</td>\n",
        "            <td>x = 3; print(x)</td>\n",
        "        </tr>\n",
        "    </table>"
      ],
      "metadata": {
        "id": "W4zksY64BBsg"
      }
    },
    {
      "cell_type": "code",
      "source": [
        "# Soma acumulada: adicionar árvores plantadas\n",
        "arvores_plantadas = 50\n",
        "arvores_plantadas += 10  # equivale a: arvores_plantadas = arvores_plantadas + 10\n",
        "\n",
        "print(\"Total de árvores plantadas:\", arvores_plantadas)"
      ],
      "metadata": {
        "colab": {
          "base_uri": "https://localhost:8080/"
        },
        "id": "dO_BCglhAgoK",
        "outputId": "a0d4ad33-dc7f-403b-d548-91969ecf3db3"
      },
      "execution_count": null,
      "outputs": [
        {
          "output_type": "stream",
          "name": "stdout",
          "text": [
            "Total de árvores plantadas: 60\n"
          ]
        }
      ]
    },
    {
      "cell_type": "code",
      "source": [
        "# Verificar se a quantidade de mudas cabe em pacotes de 8\n",
        "mudas = 45\n",
        "mudas %= 8  # equivale a: mudas = mudas % 8\n",
        "\n",
        "print(\"Mudas restantes que não formam pacote de 8:\", mudas)"
      ],
      "metadata": {
        "colab": {
          "base_uri": "https://localhost:8080/"
        },
        "id": "bZU6dr8hByK1",
        "outputId": "e5776342-42d9-48f2-a62c-008b98978818"
      },
      "execution_count": null,
      "outputs": [
        {
          "output_type": "stream",
          "name": "stdout",
          "text": [
            "Mudas restantes que não formam pacote de 8: 5\n"
          ]
        }
      ]
    },
    {
      "cell_type": "code",
      "source": [
        "# Operação bitwise: simulação de redução de área em unidades binárias\n",
        "# (exemplo didático, não prático para área real)\n",
        "x = 16  # valor binário: 10000\n",
        "x >>= 3  # equivale a: x = x >> 3\n",
        "\n",
        "print(\"Resultado do shift à direita:\", x)"
      ],
      "metadata": {
        "colab": {
          "base_uri": "https://localhost:8080/"
        },
        "id": "bMPPJmgzB2BH",
        "outputId": "fc2348d2-2be7-4368-9de4-32db021f91ad"
      },
      "execution_count": null,
      "outputs": [
        {
          "output_type": "stream",
          "name": "stdout",
          "text": [
            "Resultado do shift à direita: 2\n"
          ]
        }
      ]
    },
    {
      "cell_type": "markdown",
      "source": [
        "## &#9868; **Operadores de Comparação**\n",
        "---"
      ],
      "metadata": {
        "id": "vAm0kN71CIr2"
      }
    },
    {
      "cell_type": "markdown",
      "source": [
        "Operadores de comparação são usados ​​para comparar dois valores:\n",
        "\n",
        "<table>\n",
        "        <tr>\n",
        "            <th>Operador</th>\n",
        "            <th>Nome</th>\n",
        "            <th>Exemplo</th>\n",
        "        </tr>\n",
        "        <tr>\n",
        "            <td>==</td>\n",
        "            <td>Igual</td>\n",
        "            <td>x == y</td>\n",
        "        </tr>\n",
        "        <tr>\n",
        "            <td>!=</td>\n",
        "            <td>Diferente</td>\n",
        "            <td>x != y</td>\n",
        "        </tr>\n",
        "        <tr>\n",
        "            <td>&gt;</td>\n",
        "            <td>Maior que</td>\n",
        "            <td>x &gt; y</td>\n",
        "        </tr>\n",
        "        <tr>\n",
        "            <td>&lt;</td>\n",
        "            <td>Menor que</td>\n",
        "            <td>x &lt; y</td>\n",
        "        </tr>\n",
        "        <tr>\n",
        "            <td>&gt;=</td>\n",
        "            <td>Maior ou igual a</td>\n",
        "            <td>x &gt;= y</td>\n",
        "        </tr>\n",
        "        <tr>\n",
        "            <td>&lt;=</td>\n",
        "            <td>Menor ou igual a</td>\n",
        "            <td>x &lt;= y</td>\n",
        "        </tr>\n",
        "    </table>"
      ],
      "metadata": {
        "id": "Ke_xlwO6FsVv"
      }
    },
    {
      "cell_type": "code",
      "source": [
        "#Verificar se a área desmatada atingiu o limite permitido\n",
        "area_desmatada = 120\n",
        "limite_permitido = 100\n",
        "\n",
        "# Verifica se a área desmatada é maior que o limite\n",
        "print(area_desmatada > limite_permitido)  # Saída: True"
      ],
      "metadata": {
        "colab": {
          "base_uri": "https://localhost:8080/"
        },
        "id": "80uhQn1MB9sL",
        "outputId": "eef761d4-88d8-41cc-b321-0550324badc8"
      },
      "execution_count": null,
      "outputs": [
        {
          "output_type": "stream",
          "name": "stdout",
          "text": [
            "True\n"
          ]
        }
      ]
    },
    {
      "cell_type": "code",
      "source": [
        "#Comparar se duas regiões têm o mesmo número de árvores plantadas\n",
        "arvores_regiao1 = 500\n",
        "arvores_regiao2 = 500\n",
        "\n",
        "# Verifica se as duas regiões têm o mesmo valor\n",
        "print(arvores_regiao1 == arvores_regiao2)  # Saída: True"
      ],
      "metadata": {
        "colab": {
          "base_uri": "https://localhost:8080/"
        },
        "id": "i-53aJLbGDJl",
        "outputId": "160b65c0-98c2-40f8-ec22-7a473cae392b"
      },
      "execution_count": null,
      "outputs": [
        {
          "output_type": "stream",
          "name": "stdout",
          "text": [
            "True\n"
          ]
        }
      ]
    },
    {
      "cell_type": "markdown",
      "source": [
        "## &#9868; **Operadores Lógicos**\n",
        "---"
      ],
      "metadata": {
        "id": "6buuq6xkGOcW"
      }
    },
    {
      "cell_type": "markdown",
      "source": [
        "Operadores lógicos são usados ​​para combinar instruções condicionais:\n",
        "\n",
        "<table>\n",
        "        <tr>\n",
        "            <th>Operador</th>\n",
        "            <th>Descrição</th>\n",
        "            <th>Exemplo</th>\n",
        "        </tr>\n",
        "        <tr>\n",
        "            <td>and</td>\n",
        "            <td>Retorna True se ambas as condições forem verdadeiras</td>\n",
        "            <td>x &lt; 5 and x &lt; 10</td>\n",
        "        </tr>\n",
        "        <tr>\n",
        "            <td>or</td>\n",
        "            <td>Retorna True se pelo menos uma condição for verdadeira</td>\n",
        "            <td>x &lt; 5 or x &lt; 4</td>\n",
        "        </tr>\n",
        "        <tr>\n",
        "            <td>not</td>\n",
        "            <td>Inverte o resultado, retorna False se o resultado for True</td>\n",
        "            <td>not(x &lt; 5 and x &lt; 10)</td>\n",
        "        </tr>\n",
        "    </table>"
      ],
      "metadata": {
        "id": "AsaG5U5KGTvV"
      }
    },
    {
      "cell_type": "code",
      "source": [
        "# Verifica se a área está entre 50 e 100 hectares\n",
        "area = 70\n",
        "\n",
        "resultado = area > 50 and area < 100\n",
        "print(\"Área dentro da faixa ideal?\", resultado)"
      ],
      "metadata": {
        "colab": {
          "base_uri": "https://localhost:8080/"
        },
        "id": "qSQKSCLaGK5h",
        "outputId": "83c3506d-8427-4f5e-d8c9-504078b9a139"
      },
      "execution_count": null,
      "outputs": [
        {
          "output_type": "stream",
          "name": "stdout",
          "text": [
            "Área dentro da faixa ideal? True\n"
          ]
        }
      ]
    },
    {
      "cell_type": "code",
      "source": [
        "# Verifica se a área é crítica (muito pequena ou muito grande)\n",
        "area = 5\n",
        "\n",
        "resultado_alerta = area < 10 or area > 200\n",
        "print(\"Área crítica?\", resultado_alerta)\n",
        "\n",
        "# Usando not para inverter a condição\n",
        "resultado_invertido = not(area == 50)\n",
        "print(\"Área NÃO é exatamente 50 hectares?\", resultado_invertido)"
      ],
      "metadata": {
        "colab": {
          "base_uri": "https://localhost:8080/"
        },
        "id": "1LQXOOoqG6-D",
        "outputId": "3be5b251-36bd-48e0-fd95-7efcfee8934c"
      },
      "execution_count": null,
      "outputs": [
        {
          "output_type": "stream",
          "name": "stdout",
          "text": [
            "Área crítica? True\n",
            "Área NÃO é exatamente 50 hectares? True\n"
          ]
        }
      ]
    },
    {
      "cell_type": "markdown",
      "source": [
        "## &#9868; **Operadores de Identidade**\n",
        "---"
      ],
      "metadata": {
        "id": "8hWiOqyOIfLM"
      }
    },
    {
      "cell_type": "markdown",
      "source": [
        "Operadores de identidade são usados ​​para comparar os objetos, não se eles são iguais, mas se eles são realmente o mesmo objeto, com o mesmo local de memória:\n",
        "\n",
        "<table>\n",
        "        <tr>\n",
        "            <th>Operador</th>\n",
        "            <th>Descrição</th>\n",
        "            <th>Exemplo</th>\n",
        "        </tr>\n",
        "        <tr>\n",
        "            <td>is</td>\n",
        "            <td>Retorna True se ambas as variáveis forem o mesmo objeto</td>\n",
        "            <td>x is y</td>\n",
        "        </tr>\n",
        "        <tr>\n",
        "            <td>is not</td>\n",
        "            <td>Retorna True se ambas as variáveis não forem o mesmo objeto</td>\n",
        "            <td>x is not y</td>\n",
        "        </tr>\n",
        "    </table>"
      ],
      "metadata": {
        "id": "sf7T8BavIkwa"
      }
    },
    {
      "cell_type": "code",
      "source": [
        "# Variável com valor None\n",
        "agua = None\n",
        "\n",
        "# Usando 'is' para verificar se é None\n",
        "print(agua is None)  # True\n",
        "\n",
        "# Usando 'is not' para verificar se não é None\n",
        "print(agua is not None)  # False"
      ],
      "metadata": {
        "colab": {
          "base_uri": "https://localhost:8080/"
        },
        "id": "Dqub4zxfHAiN",
        "outputId": "9a1216bb-0a0a-42dc-c35a-770606e070f5"
      },
      "execution_count": null,
      "outputs": [
        {
          "output_type": "stream",
          "name": "stdout",
          "text": [
            "True\n",
            "False\n"
          ]
        }
      ]
    },
    {
      "cell_type": "markdown",
      "source": [
        "## &#9868; **Operadores de Associação**\n",
        "---"
      ],
      "metadata": {
        "id": "MQs88o6XJRN8"
      }
    },
    {
      "cell_type": "markdown",
      "source": [
        "Operadores de associação são usados ​​para testar se uma sequência é apresentada em um objeto:\n",
        "\n",
        "<table>\n",
        "        <tr>\n",
        "            <th>Operador</th>\n",
        "            <th>Descrição</th>\n",
        "            <th>Exemplo</th>\n",
        "        </tr>\n",
        "        <tr>\n",
        "            <td>in</td>\n",
        "            <td>Retorna True se um valor especificado estiver presente no objeto</td>\n",
        "            <td>x in y</td>\n",
        "        </tr>\n",
        "        <tr>\n",
        "            <td>not in</td>\n",
        "            <td>Retorna True se um valor especificado não estiver presente no objeto</td>\n",
        "            <td>x not in y</td>\n",
        "        </tr>\n",
        "    </table>"
      ],
      "metadata": {
        "id": "m_hjwFlpJdXk"
      }
    },
    {
      "cell_type": "code",
      "source": [
        "# Exemplo de uso do operador de filiação (in e not in) no contexto ambiental\n",
        "monitoramento = \"\"\"\n",
        "Na floresta amazônica\n",
        "Habita a onça pintada.\n",
        "Rios cortam a mata densa,\n",
        "Guardam vida preservada.\n",
        "\"\"\"\n",
        "\n",
        "print('onça pintada' in monitoramento)\n",
        "# resultado: True\n",
        "\n",
        "print('desmatamento' not in monitoramento)\n",
        "# resultado: True"
      ],
      "metadata": {
        "colab": {
          "base_uri": "https://localhost:8080/"
        },
        "id": "w5kjQ7ptJOT7",
        "outputId": "662259c7-1ef8-4c5e-b553-5152e42a6916"
      },
      "execution_count": null,
      "outputs": [
        {
          "output_type": "stream",
          "name": "stdout",
          "text": [
            "True\n",
            "True\n"
          ]
        }
      ]
    },
    {
      "cell_type": "markdown",
      "source": [
        "## &#9868; **Precedência do Operador**\n",
        "---"
      ],
      "metadata": {
        "id": "2hU49ZPrK1z6"
      }
    },
    {
      "cell_type": "markdown",
      "source": [
        "Operator precedence describes the order in which operations are performed.\n",
        "\n",
        "<table>\n",
        "        <tr>\n",
        "            <th>Operador</th>\n",
        "            <th>Descrição</th>\n",
        "        </tr>\n",
        "        <tr>\n",
        "            <td>()</td>\n",
        "            <td>Parênteses</td>\n",
        "        </tr>\n",
        "        <tr>\n",
        "            <td>**</td>\n",
        "            <td>Exponenciação</td>\n",
        "        </tr>\n",
        "        <tr>\n",
        "            <td>+x, -x, ~x</td>\n",
        "            <td>Mais unário, menos unário e NOT bit a bit</td>\n",
        "        </tr>\n",
        "        <tr>\n",
        "            <td>* / // %</td>\n",
        "            <td>Multiplicação, divisão, divisão inteira e módulo</td>\n",
        "        </tr>\n",
        "        <tr>\n",
        "            <td>+ -</td>\n",
        "            <td>Adição e subtração</td>\n",
        "        </tr>\n",
        "        <tr>\n",
        "            <td>&lt;&lt; &gt;&gt;</td>\n",
        "            <td>Deslocamentos à esquerda e à direita (bitwise)</td>\n",
        "        </tr>\n",
        "        <tr>\n",
        "            <td>&amp;</td>\n",
        "            <td>AND bit a bit</td>\n",
        "        </tr>\n",
        "        <tr>\n",
        "            <td>^</td>\n",
        "            <td>XOR bit a bit</td>\n",
        "        </tr>\n",
        "        <tr>\n",
        "            <td>|</td>\n",
        "            <td>OR bit a bit</td>\n",
        "        </tr>\n",
        "        <tr>\n",
        "            <td>== != &gt; &lt; &gt;= &lt;= is is not in not in</td>\n",
        "            <td>Operadores de comparação, identidade e filiação</td>\n",
        "        </tr>\n",
        "        <tr>\n",
        "            <td>not</td>\n",
        "            <td>NOT lógico</td>\n",
        "        </tr>\n",
        "        <tr>\n",
        "            <td>and</td>\n",
        "            <td>AND lógico</td>\n",
        "        </tr>\n",
        "        <tr>\n",
        "            <td>or</td>\n",
        "            <td>OR lógico</td>\n",
        "        </tr>\n",
        "    </table>"
      ],
      "metadata": {
        "id": "KJlpUqCILBn6"
      }
    },
    {
      "cell_type": "code",
      "source": [
        "# Sem parênteses: multiplicação antes da soma\n",
        "resultado1 = 2 + 3 * 4  # 3 * 4 = 12, depois 2 + 12 = 14\n",
        "\n",
        "print(\"Resultado sem parênteses:\", resultado1)"
      ],
      "metadata": {
        "colab": {
          "base_uri": "https://localhost:8080/"
        },
        "id": "YvKTz0lnKuu_",
        "outputId": "32384611-7cb8-459f-f0ce-23fdec7adb32"
      },
      "execution_count": null,
      "outputs": [
        {
          "output_type": "stream",
          "name": "stdout",
          "text": [
            "Resultado sem parênteses: 14\n"
          ]
        }
      ]
    },
    {
      "cell_type": "code",
      "source": [
        "# Com parênteses: soma antes da multiplicação\n",
        "resultado2 = (2 + 3) * 4  # (2 + 3) = 5, depois 5 * 4 = 20\n",
        "\n",
        "print(\"Resultado com parênteses:\", resultado2)"
      ],
      "metadata": {
        "colab": {
          "base_uri": "https://localhost:8080/"
        },
        "id": "xLLKSkMFLjoX",
        "outputId": "9f139af8-cc9e-4dc7-ca54-0d333c18e6fa"
      },
      "execution_count": null,
      "outputs": [
        {
          "output_type": "stream",
          "name": "stdout",
          "text": [
            "Resultado com parênteses: 20\n"
          ]
        }
      ]
    },
    {
      "cell_type": "markdown",
      "source": [
        "# **&#9776; if elif else**"
      ],
      "metadata": {
        "id": "gM7OOSzCL5Ul"
      }
    },
    {
      "cell_type": "markdown",
      "source": [
        "<h4 align=\"justify\">A estrutura <b>if..elif..else</b> em Python é um dos principais blocos de <b>controle de fluxo</b>, permitindo que o programa <b>tome decisões</b> com base em condições. Com o if, testamos se uma expressão é <b>verdadeira</b>; se for, um bloco de código é executado. Já o else define o que fazer quando essa condição <b>não é atendida</b>, garantindo que sempre haja uma ação alternativa. Esse recurso é essencial para criar scripts dinâmicos, capazes de responder a diferentes situações, como gerar alertas, validar dados ou definir caminhos distintos no processamento de informações — algo fundamental, por exemplo, no monitoramento ambiental e na análise de dados reais.</h4>"
      ],
      "metadata": {
        "id": "WNAs3Z7gMP7H"
      }
    },
    {
      "cell_type": "markdown",
      "source": [
        "<pre><code>\n",
        "if condicao1:\n",
        "    # Bloco de código se condicao1 for verdadeira\n",
        "    pass\n",
        "\n",
        "elif condicao2:\n",
        "    # Bloco de código se condicao1 for falsa E condicao2 for verdadeira\n",
        "    pass\n",
        "\n",
        "else:\n",
        "    # Bloco de código se todas as condições anteriores forem falsas\n",
        "    pass\n",
        "</code></pre>\n",
        "\n",
        "&bullet; O <b>if</b> verifica a primeira condição.\n",
        "\n",
        "&bullet; O <b>elif</b> (pode ter vários) testa outras opções.\n",
        "\n",
        "&bullet; O <b>else</b> é o “caminho padrão”, quando nada mais for verdadeiro."
      ],
      "metadata": {
        "id": "572fXEZfNUfV"
      }
    },
    {
      "cell_type": "markdown",
      "source": [
        "## &#9868; **Cenário 1 (if else)**\n",
        "---"
      ],
      "metadata": {
        "id": "2NTbP6aDN6ey"
      }
    },
    {
      "cell_type": "markdown",
      "source": [
        "<h4 align=justify\">Uma comunidade quer saber se uma área de preservação permanente ainda está protegida ou se já houve desmatamento.</h4>"
      ],
      "metadata": {
        "id": "alpRgCpOOcLZ"
      }
    },
    {
      "cell_type": "code",
      "source": [
        "# Verificar se uma área de preservação está protegida ou desmatada\n",
        "\n",
        "area_desmatada = 0  # valor em hectares\n",
        "\n",
        "if area_desmatada == 0:\n",
        "    print(\"Área protegida.\")\n",
        "else:\n",
        "    print(\"Atenção: área com desmatamento!\")"
      ],
      "metadata": {
        "colab": {
          "base_uri": "https://localhost:8080/"
        },
        "id": "khHRtUemLmU6",
        "outputId": "0c333cbf-dabb-4ba6-9c0c-49c5ed94aa9d"
      },
      "execution_count": null,
      "outputs": [
        {
          "output_type": "stream",
          "name": "stdout",
          "text": [
            "Área protegida.\n"
          ]
        }
      ]
    },
    {
      "cell_type": "markdown",
      "source": [
        "## &#9868; **Cenário 2 (if...elif...else)**\n",
        "---"
      ],
      "metadata": {
        "id": "9NWcoacUOv-O"
      }
    },
    {
      "cell_type": "markdown",
      "source": [
        "<h4 align=\"justify\">Uma ONG ambiental monitora o nível de poluição de um rio.</h4>"
      ],
      "metadata": {
        "id": "kbZ8tDVHO1Yc"
      }
    },
    {
      "cell_type": "code",
      "source": [
        "# Monitorar nível de poluição de um rio\n",
        "\n",
        "nivel_poluição = 75  # valor fictício\n",
        "\n",
        "if nivel_poluição < 50:\n",
        "    print(\"Qualidade da água: Boa\")\n",
        "elif nivel_poluição <= 100:\n",
        "    print(\"Qualidade da água: Moderada\")\n",
        "else:\n",
        "    print(\"Qualidade da água: Ruim\")"
      ],
      "metadata": {
        "colab": {
          "base_uri": "https://localhost:8080/"
        },
        "id": "bQopBuIdOuTd",
        "outputId": "3ce5c6c9-bb50-4a50-bba4-b77ee18293ae"
      },
      "execution_count": null,
      "outputs": [
        {
          "output_type": "stream",
          "name": "stdout",
          "text": [
            "Qualidade da água: Moderada\n"
          ]
        }
      ]
    },
    {
      "cell_type": "markdown",
      "source": [
        "## &#9868; **Cenário 3 (if...elif...else)**\n",
        "---"
      ],
      "metadata": {
        "id": "NbR2sNdKPNXO"
      }
    },
    {
      "cell_type": "markdown",
      "source": [
        "<h4 align=\"justify\">Um órgão fiscalizador analisa dados de queimadas.</h4>"
      ],
      "metadata": {
        "id": "kFnjrJ_7PZs9"
      }
    },
    {
      "cell_type": "code",
      "source": [
        "# Analisar risco de queimadas considerando área e umidade\n",
        "\n",
        "area_queimada = 120  # em hectares\n",
        "umidade = 25  # em porcentagem\n",
        "\n",
        "if area_queimada > 100 and umidade < 30:\n",
        "    print(\"🚨 Risco extremo de queimadas!\")\n",
        "elif area_queimada > 100 and umidade >= 30:\n",
        "    print(\"⚠️ Risco alto de queimadas.\")\n",
        "else:\n",
        "    print(\"✅ Situação controlada.\")"
      ],
      "metadata": {
        "colab": {
          "base_uri": "https://localhost:8080/"
        },
        "id": "8PMahfl8PGq7",
        "outputId": "e81df166-022f-4a22-ee50-512fc6c7108e"
      },
      "execution_count": null,
      "outputs": [
        {
          "output_type": "stream",
          "name": "stdout",
          "text": [
            "🚨 Risco extremo de queimadas!\n"
          ]
        }
      ]
    },
    {
      "cell_type": "markdown",
      "source": [
        "## &#9868; **Cenário 4 (if...elif...else)**\n",
        "---"
      ],
      "metadata": {
        "id": "2dS-2Yw7QDpG"
      }
    },
    {
      "cell_type": "markdown",
      "source": [
        "<h4 align=\"justify\">Uma equipe monitora um parque para decidir se libera visitação.</h4>"
      ],
      "metadata": {
        "id": "ygR3WwFkQH9p"
      }
    },
    {
      "cell_type": "code",
      "source": [
        "# Verificar se o parque pode ser visitado usando if aninhado\n",
        "\n",
        "parque_aberto = True\n",
        "previsao_chuva = False\n",
        "\n",
        "if parque_aberto:\n",
        "    print(\"Parque está aberto.\")\n",
        "    if previsao_chuva:\n",
        "        print(\"Previsão de chuva. Visita adiada.\")\n",
        "    else:\n",
        "        print(\"Tempo bom. Visita liberada!\")\n",
        "else:\n",
        "    print(\"Parque fechado. Visita cancelada.\")"
      ],
      "metadata": {
        "colab": {
          "base_uri": "https://localhost:8080/"
        },
        "id": "f9Nfiw7PPTnb",
        "outputId": "b1db55b0-4acc-44e6-8cb2-63021a270057"
      },
      "execution_count": null,
      "outputs": [
        {
          "output_type": "stream",
          "name": "stdout",
          "text": [
            "Parque está aberto.\n",
            "Tempo bom. Visita liberada!\n"
          ]
        }
      ]
    },
    {
      "cell_type": "markdown",
      "source": [
        "# **&#9776; while**"
      ],
      "metadata": {
        "id": "oP68WhuRQmXI"
      }
    },
    {
      "cell_type": "markdown",
      "source": [
        "<h4 align=\"justify\">Um loop while em Python é usado quando precisamos <b>repetir a execução de um bloco de código</b> continuamente, <b>enquanto uma condição for verdadeira</b>. Esse laço de repetição avalia a condição antes de cada ciclo e só para quando ela se torna falsa, permitindo criar repetições controladas por variáveis ou entradas do usuário.</h4>\n",
        "\n",
        "<pre><code>\n",
        "# sintaxe básica de um while loop\n",
        "while condição:\n",
        "    # executa um conjunto de instruções repetidamente enquanto a condição testada for verdadeira\n",
        "</code></pre>\n",
        "\n",
        "<h4 align=\"justify\">&bullet; while avalia a <b>condição</b> antes de cada repetição.</h4>\n",
        "\n",
        "<h4 align=\"justify\">&bullet; Se for <b>True</b>, executa o bloco indentado.</h4>\n",
        "\n",
        "<h4 align=\"justify\">&bullet; Assim que for <b>False</b>, o loop termina.</h4>"
      ],
      "metadata": {
        "id": "HifjDF00RXiL"
      }
    },
    {
      "cell_type": "markdown",
      "source": [
        "## &#9868; **Cenário 1**\n",
        "---\n"
      ],
      "metadata": {
        "id": "ur1hgLheSrsF"
      }
    },
    {
      "cell_type": "markdown",
      "source": [
        "<h4 align=\"justify\">Uma ONG precisa monitorar o plantio de mudas em tempo real. Para isso, o sistema exibe uma árvore 🌳 a cada muda plantada, simulando o progresso até completar dez mudas. Essa visualização ajuda a registrar a meta de reflorestamento de forma simples, interativa e motivadora.</h4>"
      ],
      "metadata": {
        "id": "HZMBLMM9Sxle"
      }
    },
    {
      "cell_type": "code",
      "source": [
        "# Exemplo cenário 1\n",
        "import time\n",
        "mudas = 0\n",
        "print(\"Plantando mudas:\")\n",
        "while mudas < 10:\n",
        "    print(\"🌳\", flush= True, end= \" \")\n",
        "    mudas += 1\n",
        "    time.sleep(1)\n",
        "print(f\"\\nTotal de mudas plantadas: {mudas}\")"
      ],
      "metadata": {
        "colab": {
          "base_uri": "https://localhost:8080/"
        },
        "id": "rPu62r3WQSUR",
        "outputId": "32968ee2-2b45-424f-c714-9bdb51ad799d"
      },
      "execution_count": null,
      "outputs": [
        {
          "output_type": "stream",
          "name": "stdout",
          "text": [
            "Plantando mudas:\n",
            "🌳 🌳 🌳 🌳 🌳 🌳 🌳 🌳 🌳 🌳 \n",
            "Total de mudas plantadas: 10\n"
          ]
        }
      ]
    },
    {
      "cell_type": "markdown",
      "source": [
        "## &#9868; **Cenário 2**\n",
        "---\n"
      ],
      "metadata": {
        "id": "rgI9DLjtTyi3"
      }
    },
    {
      "cell_type": "markdown",
      "source": [
        "<h4 align=\"justify\">Uma equipe de monitoramento precisa emitir alertas enquanto houver risco de queimadas na região. Para isso, o sistema repete o aviso de alerta três vezes, simulando uma checagem contínua até o risco ser controlado, ajudando a comunidade a ficar informada e a agir rapidamente quando necessário.</h4>"
      ],
      "metadata": {
        "id": "lE-ixBqfT19r"
      }
    },
    {
      "cell_type": "code",
      "source": [
        "# Exemplo cenário 2\n",
        "risco = True\n",
        "contador = 0\n",
        "\n",
        "while risco:\n",
        "    print(\"🚨 Alerta de risco de queimadas!\")\n",
        "    contador += 1\n",
        "    if contador == 3:\n",
        "        risco = False"
      ],
      "metadata": {
        "colab": {
          "base_uri": "https://localhost:8080/"
        },
        "id": "506X-mEuTpF5",
        "outputId": "dadda285-7e2e-43ae-b59c-2635aad6ed44"
      },
      "execution_count": null,
      "outputs": [
        {
          "output_type": "stream",
          "name": "stdout",
          "text": [
            "🚨 Alerta de risco de queimadas!\n",
            "🚨 Alerta de risco de queimadas!\n",
            "🚨 Alerta de risco de queimadas!\n"
          ]
        }
      ]
    },
    {
      "cell_type": "markdown",
      "source": [
        "## &#9868; **Cenário 3**\n",
        "---\n"
      ],
      "metadata": {
        "id": "SzpU86DJUE3p"
      }
    },
    {
      "cell_type": "markdown",
      "source": [
        "<h4 align=\"justify\">Uma equipe de fiscalização ambiental precisa vistoriar cinco regiões de preservação. Para organizar esse trabalho, será usado um sistema que percorre automaticamente cada área numerada, registrando a sequência de fiscalização, garantindo que nenhuma região fique sem acompanhamento e facilitando o controle de monitoramento em campo.</h4>"
      ],
      "metadata": {
        "id": "4freZi2wUPL6"
      }
    },
    {
      "cell_type": "code",
      "source": [
        "# Exemplo cenário 3\n",
        "regiao = 1\n",
        "\n",
        "while regiao <= 5:\n",
        "    print(\"Fiscalizando região:\", regiao)\n",
        "    regiao += 1"
      ],
      "metadata": {
        "colab": {
          "base_uri": "https://localhost:8080/"
        },
        "id": "upOoJaW4T_dB",
        "outputId": "635612fe-e450-47cb-e127-3727ee230066"
      },
      "execution_count": null,
      "outputs": [
        {
          "output_type": "stream",
          "name": "stdout",
          "text": [
            "Fiscalizando região: 1\n",
            "Fiscalizando região: 2\n",
            "Fiscalizando região: 3\n",
            "Fiscalizando região: 4\n",
            "Fiscalizando região: 5\n"
          ]
        }
      ]
    },
    {
      "cell_type": "markdown",
      "source": [
        "## &#9868; **Cenário 4**\n",
        "---\n"
      ],
      "metadata": {
        "id": "OQxyw0t8UYwk"
      }
    },
    {
      "cell_type": "markdown",
      "source": [
        "<h4 align=\"justify\">Uma associação comunitária quer resolver a falta de organização no controle de dados ambientais da região. Para isso, será criado um Sistema de Monitoramento Ambiental com um menu interativo, permitindo que moradores e gestores consultem de forma prática o status de reflorestamento, queimadas, qualidade da água e alertas essenciais.</h4>"
      ],
      "metadata": {
        "id": "mZeo5fmjUeO1"
      }
    },
    {
      "cell_type": "code",
      "source": [
        "# Exemplo cenário 4\n",
        "opcao = 0 #criado a variável para entrar na primeira iteração\n",
        "\n",
        "while opcao != 5:\n",
        "    print(\"\\n🌿 ==== MENU DE MONITORAMENTO AMBIENTAL ====\")\n",
        "    print(\"1. Ver status de reflorestamento 🌳\")\n",
        "    print(\"2. Monitorar queimadas 🔥\")\n",
        "    print(\"3. Consultar qualidade da água 💧\")\n",
        "    print(\"4. Ver alertas gerais ⚠️\")\n",
        "    print(\"5. Sair 🚪\")\n",
        "    print(\"===========================================\\n\")\n",
        "\n",
        "    opcao = int(input(\"Digite a opção desejada (1 a 5): \"))\n",
        "\n",
        "    if opcao == 1:\n",
        "        print(\"Você selecionou: Status de reflorestamento 🌳\")\n",
        "    elif opcao == 2:\n",
        "        print(\"Você selecionou: Monitorar queimadas 🔥\")\n",
        "    elif opcao == 3:\n",
        "        print(\"Você selecionou: Consultar qualidade da água 💧\")\n",
        "    elif opcao == 4:\n",
        "        print(\"Você selecionou: Alertas gerais ⚠️\")\n",
        "    elif opcao == 5:\n",
        "        print(\"Saindo do sistema... Você saiu do sistema com sucesso. 👋\")\n",
        "    else:\n",
        "        print(\"Opção inválida. Tente novamente.\")"
      ],
      "metadata": {
        "colab": {
          "base_uri": "https://localhost:8080/"
        },
        "id": "Q-uTVH4zUXqa",
        "outputId": "68ccd87a-ac7b-40ba-f499-ad348635938b"
      },
      "execution_count": null,
      "outputs": [
        {
          "output_type": "stream",
          "name": "stdout",
          "text": [
            "\n",
            "🌿 ==== MENU DE MONITORAMENTO AMBIENTAL ====\n",
            "1. Ver status de reflorestamento 🌳\n",
            "2. Monitorar queimadas 🔥\n",
            "3. Consultar qualidade da água 💧\n",
            "4. Ver alertas gerais ⚠️\n",
            "5. Sair 🚪\n",
            "===========================================\n",
            "\n",
            "Digite a opção desejada (1 a 5): 3\n",
            "Você selecionou: Consultar qualidade da água 💧\n",
            "\n",
            "🌿 ==== MENU DE MONITORAMENTO AMBIENTAL ====\n",
            "1. Ver status de reflorestamento 🌳\n",
            "2. Monitorar queimadas 🔥\n",
            "3. Consultar qualidade da água 💧\n",
            "4. Ver alertas gerais ⚠️\n",
            "5. Sair 🚪\n",
            "===========================================\n",
            "\n",
            "Digite a opção desejada (1 a 5): 5\n",
            "Saindo do sistema... Você saiu do sistema com sucesso. 👋\n"
          ]
        }
      ]
    },
    {
      "cell_type": "markdown",
      "source": [
        "# **&#9776; for Loops**"
      ],
      "metadata": {
        "id": "gaTIB3k1Yjp2"
      }
    },
    {
      "cell_type": "markdown",
      "source": [
        "<h4 align=\"justify\">Um laço for em Python é usado para percorrer <b>itens de uma sequência</b> (como listas, tuplas ou strings), executando um bloco de código para <b>cada elemento</b>, de forma organizada e automática. É ideal para situações em que já sabemos <b>quantas vezes</b> o loop precisa acontecer</h4>"
      ],
      "metadata": {
        "id": "gCZospCQn-mU"
      }
    },
    {
      "cell_type": "markdown",
      "source": [
        "<pre><code>\n",
        "for item in sequência:\n",
        "    # Bloco de código que será executado para cada item\n",
        "    pass\n",
        "</code></pre>\n",
        "\n",
        "&bullet; for percorre cada elemento de uma <b>sequência</b> (lista, string, range, etc.).\n",
        "\n",
        "&bullet; O <b>bloco indentado</b> roda uma vez para <b>cada item</b>.\n",
        "\n",
        "&bullet; <b>item</b> é uma <b>variável temporária</b> que recebe cada valor."
      ],
      "metadata": {
        "id": "ScMkuI7NrT5e"
      }
    },
    {
      "cell_type": "markdown",
      "source": [
        "## &#9868; **Cenário 1**\n",
        "---\n"
      ],
      "metadata": {
        "id": "arvkVxOYsUim"
      }
    },
    {
      "cell_type": "markdown",
      "source": [
        "<h4 align=\"justify\">Uma comunidade quer exibir o nome de cinco árvores nativas plantadas em uma área de reflorestamento.</h4>"
      ],
      "metadata": {
        "id": "Onm3nVAVsf_a"
      }
    },
    {
      "cell_type": "code",
      "source": [
        "arvores = [\"Castanheira\", \"Ipê\", \"Açaí\", \"Andiroba\", \"Copaíba\"]\n",
        "\n",
        "for arvore in arvores:\n",
        "    print(\"Árvore plantada:\", arvore)"
      ],
      "metadata": {
        "colab": {
          "base_uri": "https://localhost:8080/"
        },
        "id": "4BAeG1aFsjt6",
        "outputId": "52b2f6ee-d2db-4f9e-c361-34c559ad48bf"
      },
      "execution_count": null,
      "outputs": [
        {
          "output_type": "stream",
          "name": "stdout",
          "text": [
            "Árvore plantada: Castanheira\n",
            "Árvore plantada: Ipê\n",
            "Árvore plantada: Açaí\n",
            "Árvore plantada: Andiroba\n",
            "Árvore plantada: Copaíba\n"
          ]
        }
      ]
    },
    {
      "cell_type": "markdown",
      "source": [
        "## &#9868; **Cenário 2**\n",
        "---\n"
      ],
      "metadata": {
        "id": "0Q7aQKrrsV67"
      }
    },
    {
      "cell_type": "markdown",
      "source": [
        "<h4 align=\"justify\">Durante uma inspeção, ao encontrar uma área degradada, a vistoria para imediatamente.</h4>"
      ],
      "metadata": {
        "id": "Hf0-hfD_s1_k"
      }
    },
    {
      "cell_type": "code",
      "source": [
        "areas = [\"Área 1\", \"Área 2\", \"Área Degradada\", \"Área 3\"]\n",
        "\n",
        "for area in areas:\n",
        "    if area == \"Área Degradada\":\n",
        "        print(\"⚠️ Área degradada encontrada! Interrompendo inspeção.\")\n",
        "        break\n",
        "    print(\"Inspecionando:\", area)"
      ],
      "metadata": {
        "colab": {
          "base_uri": "https://localhost:8080/"
        },
        "id": "v6bqC_0ItEdq",
        "outputId": "8aad8ab7-456c-4db7-9575-bcdd7081265e"
      },
      "execution_count": null,
      "outputs": [
        {
          "output_type": "stream",
          "name": "stdout",
          "text": [
            "Inspecionando: Área 1\n",
            "Inspecionando: Área 2\n",
            "⚠️ Área degradada encontrada! Interrompendo inspeção.\n"
          ]
        }
      ]
    },
    {
      "cell_type": "markdown",
      "source": [
        "## &#9868; **Cenário 3**\n",
        "---\n"
      ],
      "metadata": {
        "id": "oQ1z4IUQsXwr"
      }
    },
    {
      "cell_type": "markdown",
      "source": [
        "<h4 align=\"justify\">Um monitoramento percorre áreas, mas ignora áreas que já foram reflorestadas.</h4>"
      ],
      "metadata": {
        "id": "UwwCCIATs2xG"
      }
    },
    {
      "cell_type": "code",
      "source": [
        "areas = [\"Área 1\", \"Área Reflorestada\", \"Área 2\", \"Área Reflorestada\", \"Área 3\"]\n",
        "\n",
        "for area in areas:\n",
        "    if area == \"Área Reflorestada\":\n",
        "        continue\n",
        "    print(\"Área em análise:\", area)"
      ],
      "metadata": {
        "colab": {
          "base_uri": "https://localhost:8080/"
        },
        "id": "Is9m6d0gtQEp",
        "outputId": "7a0f871c-07ca-446c-a013-976d59b11458"
      },
      "execution_count": null,
      "outputs": [
        {
          "output_type": "stream",
          "name": "stdout",
          "text": [
            "Área em análise: Área 1\n",
            "Área em análise: Área 2\n",
            "Área em análise: Área 3\n"
          ]
        }
      ]
    },
    {
      "cell_type": "markdown",
      "source": [
        "## &#9868; **Cenário 4**\n",
        "---\n"
      ],
      "metadata": {
        "id": "vMdKargUsZYv"
      }
    },
    {
      "cell_type": "markdown",
      "source": [
        "<h4 align=\"justify\">Contar 5 lotes de mudas sendo plantados, numerando cada um.</h4>"
      ],
      "metadata": {
        "id": "RHX3umZPs3eS"
      }
    },
    {
      "cell_type": "code",
      "source": [
        "for lote in range(1, 6):\n",
        "    print(f\"Lote {lote} de mudas plantado.\")"
      ],
      "metadata": {
        "colab": {
          "base_uri": "https://localhost:8080/"
        },
        "id": "4NW_UYlvtoCo",
        "outputId": "5030bbb0-5b48-47f3-9969-20316dc57d10"
      },
      "execution_count": null,
      "outputs": [
        {
          "output_type": "stream",
          "name": "stdout",
          "text": [
            "Lote 1 de mudas plantado.\n",
            "Lote 2 de mudas plantado.\n",
            "Lote 3 de mudas plantado.\n",
            "Lote 4 de mudas plantado.\n",
            "Lote 5 de mudas plantado.\n"
          ]
        }
      ]
    },
    {
      "cell_type": "markdown",
      "source": [
        "## &#9868; **Cenário 5**\n",
        "---\n"
      ],
      "metadata": {
        "id": "2fHy3udzsah3"
      }
    },
    {
      "cell_type": "markdown",
      "source": [
        "<h4 align=\"justify\">Percorrer 3 setores de uma área de conservação e, ao final, exibir mensagem de que toda a vistoria foi concluída.</h4>"
      ],
      "metadata": {
        "id": "gUzpzV8vs4j5"
      }
    },
    {
      "cell_type": "code",
      "source": [
        "for setor in range(1, 4):\n",
        "    print(f\"Vistoriando setor {setor}...\")\n",
        "else:\n",
        "    print(\"Todos os setores foram vistoriados com sucesso!\")"
      ],
      "metadata": {
        "colab": {
          "base_uri": "https://localhost:8080/"
        },
        "id": "2RDJLfYFYjG7",
        "outputId": "9373f269-ed8f-493f-f90b-1bc8ac1640cf"
      },
      "execution_count": null,
      "outputs": [
        {
          "output_type": "stream",
          "name": "stdout",
          "text": [
            "Vistoriando setor 1...\n",
            "Vistoriando setor 2...\n",
            "Vistoriando setor 3...\n",
            "Todos os setores foram vistoriados com sucesso!\n"
          ]
        }
      ]
    },
    {
      "cell_type": "markdown",
      "source": [
        "## &#9868; **Cenário 6**\n",
        "---\n"
      ],
      "metadata": {
        "id": "IEIBShSHuC1u"
      }
    },
    {
      "cell_type": "markdown",
      "source": [
        "<h4 align=\"justify\">Para cada região, verificar 2 pontos de monitoramento de queimadas.</h4>"
      ],
      "metadata": {
        "id": "aN-V5fftuHaJ"
      }
    },
    {
      "cell_type": "code",
      "source": [
        "regioes = [\"Norte\", \"Sul\"]\n",
        "\n",
        "for regiao in regioes:\n",
        "    for ponto in range(1, 3):\n",
        "        print(f\"Monitorando ponto {ponto} da região {regiao}.\")"
      ],
      "metadata": {
        "colab": {
          "base_uri": "https://localhost:8080/"
        },
        "id": "OlE0DG5WuPiZ",
        "outputId": "8737a2e6-b504-4a62-a905-3d31b5f5888d"
      },
      "execution_count": null,
      "outputs": [
        {
          "output_type": "stream",
          "name": "stdout",
          "text": [
            "Monitorando ponto 1 da região Norte.\n",
            "Monitorando ponto 2 da região Norte.\n",
            "Monitorando ponto 1 da região Sul.\n",
            "Monitorando ponto 2 da região Sul.\n"
          ]
        }
      ]
    },
    {
      "cell_type": "markdown",
      "source": [
        "## &#9868; **Cenário 7**\n",
        "---\n"
      ],
      "metadata": {
        "id": "BIQPo7D5uEVX"
      }
    },
    {
      "cell_type": "markdown",
      "source": [
        "<h4 align=\"justify\">Percorrer uma lista de rios monitorados, mas ainda sem ação programada para eles (bloco reservado).</h4>"
      ],
      "metadata": {
        "id": "ixJStA1vuIMB"
      }
    },
    {
      "cell_type": "code",
      "source": [
        "rios = [\"Rio Amazonas\", \"Rio Tapajós\", \"Rio Xingu\"]\n",
        "\n",
        "for rio in rios:\n",
        "    pass  # Código futuro para análise da qualidade da água"
      ],
      "metadata": {
        "id": "suHs1Mn4UUiY"
      },
      "execution_count": null,
      "outputs": []
    },
    {
      "cell_type": "markdown",
      "source": [
        "# **Desafio 1 - Relatório de Monitoramento Ambiental**"
      ],
      "metadata": {
        "id": "1YzdgPBrvhaM"
      }
    },
    {
      "cell_type": "markdown",
      "source": [
        "<h4 align=\"justify\">Você, como TecnoGuarda da Amazônia, precisa resolver a desorganização no relatório diário de monitoramento das áreas de queimadas. O sistema deve receber o nome do território, validar se o usuário digitou algo, perguntar quantas áreas foram vistoriadas e exibir, com um for, os setores analisados. Caso algum setor seja identificado como área de risco, o laudo deve parar de registrar (break). Áreas já reflorestadas devem ser ignoradas (continue). Ao final, o sistema mostra uma mensagem de fechamento com else. Para registrar trechos que ainda serão detalhados no futuro, deve usar pass. O processo só termina quando o usuário decidir sair.</h4>"
      ],
      "metadata": {
        "id": "cKLlrWqavpZO"
      }
    },
    {
      "cell_type": "code",
      "source": [
        "# Digite aqui o seu código\n"
      ],
      "metadata": {
        "id": "9v7seMfdwAG6"
      },
      "execution_count": null,
      "outputs": []
    },
    {
      "cell_type": "markdown",
      "source": [
        "# **Solução Desafio 1 - Relatório de Monitoramento Ambiental**"
      ],
      "metadata": {
        "id": "6EertJr5v8b5"
      }
    },
    {
      "cell_type": "code",
      "source": [
        "# @title\n",
        "# Solução Desafio 1\n",
        "while True:\n",
        "    territorio = input(\"\\nInforme o território a ser monitorado (ou digite 'sair' para encerrar): \")\n",
        "\n",
        "    if territorio.lower() == \"sair\":\n",
        "        print(\"Sistema encerrado. 🌿 Até a próxima!\")\n",
        "        break\n",
        "\n",
        "    if territorio.strip() == \"\":\n",
        "        print(\"Território inválido. Tente novamente.\")\n",
        "        continue\n",
        "\n",
        "    print(f\"Território selecionado: {territorio}\")\n",
        "\n",
        "    try:\n",
        "        total_areas = int(input(\"Quantas áreas serão vistoriadas hoje? \"))\n",
        "    except ValueError:\n",
        "        print(\"Digite um número válido para a quantidade de áreas.\")\n",
        "        continue\n",
        "\n",
        "    for setor in range(1, total_areas + 1):\n",
        "        print(f\"🔍 Vistoriando setor {setor}...\")\n",
        "\n",
        "        status = input(\"Status do setor (normal/reflorestado/risco): \").lower()\n",
        "\n",
        "        if status == \"reflorestado\":\n",
        "            print(\"Setor reflorestado, pulando para o próximo setor...\")\n",
        "            continue\n",
        "\n",
        "        if status == \"risco\":\n",
        "            print(\"🚨 Área de risco identificada! Encerrando vistoria.\")\n",
        "            break\n",
        "\n",
        "        # Bloco reservado para análises futuras\n",
        "        pass\n",
        "\n",
        "    else:\n",
        "        print(\"✅ Todas as áreas foram vistoriadas com sucesso!\")\n",
        "\n",
        "    print(\"Relatório do território concluído.\\n\")"
      ],
      "metadata": {
        "cellView": "form",
        "id": "UovsFYatukba"
      },
      "execution_count": null,
      "outputs": []
    },
    {
      "cell_type": "markdown",
      "source": [
        "# **&#9776; match case**"
      ],
      "metadata": {
        "id": "Cn3w3TlowjfL"
      }
    },
    {
      "cell_type": "markdown",
      "source": [
        "<h4 align=\"justify\"><b>Introduzida no Python 3.10</b>, a estrutura match case trouxe uma forma mais clara e poderosa de corresponder padrões em Python. Ela permite criar <b>verificações condicionais</b> de forma mais legível e organizada. Diferente das cadeias tradicionais if-elif-else, que podem ficar confusas em situações complexas, o match case torna o código <b>mais elegante e flexível</b>.</h4>\n",
        "\n",
        "<pre><code>\n",
        "match variável:\n",
        "    case valor1:\n",
        "        # Bloco de código se variável for igual a valor1\n",
        "        pass\n",
        "    case valor2:\n",
        "        # Bloco de código se variável for igual a valor2\n",
        "        pass\n",
        "    case _:\n",
        "        # Bloco de código padrão (equivalente ao else)\n",
        "        pass\n",
        "</code></pre>\n",
        "\n",
        "<h4 align=\"justify\">&bullet; match avalia o valor de uma variável.</h4>\n",
        "\n",
        "<h4 align=\"justify\">&bullet; case define os padrões que podem ser verificados.</h4>\n",
        "\n",
        "<h4 align=\"justify\">&bullet; O case _: funciona como caso padrão, para quando nenhum outro case for atendido.</h4>"
      ],
      "metadata": {
        "id": "yghtLmfhw9lN"
      }
    },
    {
      "cell_type": "markdown",
      "source": [
        "## &#9868; **Cenário 1**\n",
        "---\n"
      ],
      "metadata": {
        "id": "65zjdfAezzY8"
      }
    },
    {
      "cell_type": "markdown",
      "source": [
        "<h4 align=\"justify\">Imagine um sistema que apresenta um menu de opções ambientais para o usuário (por exemplo: 1 para Florestas, 2 para Rios, 3 para Clima). O programa usa match case para exibir uma mensagem correspondente à opção escolhida.</h4>"
      ],
      "metadata": {
        "id": "VdFGZ7Mpz2SW"
      }
    },
    {
      "cell_type": "code",
      "source": [
        "opcao = input(\"Escolha uma opção do menu (1-Florestas, 2-Rios, 3-Clima): \")\n",
        "\n",
        "# Uso do match-case para verificar a opção escolhida\n",
        "match opcao:\n",
        "    case \"1\":\n",
        "        print(\"Você selecionou a opção: Florestas. Aqui estão os dados sobre florestas.\")\n",
        "    case \"2\":\n",
        "        print(\"Você selecionou a opção: Rios. Aqui estão os dados sobre rios.\")\n",
        "    case \"3\":\n",
        "        print(\"Você selecionou a opção: Clima. Aqui estão os dados sobre o clima.\")\n",
        "    case _:\n",
        "        # Caso padrão: qualquer valor não previsto acima\n",
        "        print(\"Opção inválida. Por favor escolha 1, 2 ou 3.\")"
      ],
      "metadata": {
        "colab": {
          "base_uri": "https://localhost:8080/"
        },
        "id": "I5qVYsz5zy-o",
        "outputId": "fc0cf12b-6ce1-496c-f17a-433fae111788"
      },
      "execution_count": null,
      "outputs": [
        {
          "output_type": "stream",
          "name": "stdout",
          "text": [
            "Escolha uma opção do menu (1-Florestas, 2-Rios, 3-Clima): 1\n",
            "Você selecionou a opção: Florestas. Aqui estão os dados sobre florestas.\n"
          ]
        }
      ]
    },
    {
      "cell_type": "markdown",
      "source": [
        "## &#9868; **Cenário 2**\n",
        "---\n"
      ],
      "metadata": {
        "id": "Uui3yXMX0HPS"
      }
    },
    {
      "cell_type": "markdown",
      "source": [
        "<h4 align=\"justify\">Um sistema de alerta ambiental monitora o desmatamento de uma região. Dependendo da categoria do desmatamento (baixo, moderado, alto ou crítico), o programa usa match case para simular uma resposta automática adequada, como uma mensagem de aviso ou de emergência.</h4>"
      ],
      "metadata": {
        "id": "V4gVS4J50Jv1"
      }
    },
    {
      "cell_type": "code",
      "source": [
        "nivel_desmatamento = \"alto\"  # Exemplo de categoria atual de desmatamento (baixo, moderado, alto ou crítico)\n",
        "\n",
        "# Resposta automática do sistema de alerta com base no nível de desmatamento\n",
        "match nivel_desmatamento:\n",
        "    case \"baixo\":\n",
        "        print(\"Desmatamento baixo. Nenhuma ação necessária.\")\n",
        "    case \"moderado\":\n",
        "        print(\"Desmatamento moderado. Intensificar monitoramento.\")\n",
        "    case \"alto\":\n",
        "        print(\"Desmatamento alto. Atenção: preparar medidas de contenção.\")\n",
        "    case \"crítico\":\n",
        "        print(\"Desmatamento crítico! Alerta máximo: iniciar ações emergenciais.\")\n",
        "    case _:\n",
        "        # Caso padrão: qualquer valor não previsto acima\n",
        "        print(\"Categoria de desmatamento desconhecida. Verificar dados.\")\n"
      ],
      "metadata": {
        "colab": {
          "base_uri": "https://localhost:8080/"
        },
        "id": "-PDg46D-wla9",
        "outputId": "acb3f479-c4c7-4fb8-997c-b56dce5c781b"
      },
      "execution_count": null,
      "outputs": [
        {
          "output_type": "stream",
          "name": "stdout",
          "text": [
            "Desmatamento alto. Atenção: preparar medidas de contenção.\n"
          ]
        }
      ]
    },
    {
      "cell_type": "markdown",
      "source": [
        "## &#9868; **Cenário 3**\n",
        "---\n"
      ],
      "metadata": {
        "id": "-J801ucb8UDP"
      }
    },
    {
      "cell_type": "markdown",
      "source": [
        "<h4 align=\"justify\">Você é TecnoGuarda e precisa classificar rapidamente áreas monitoradas de acordo com o tipo de vegetação predominante. Para isso, o operador deve digitar o tipo de cobertura do solo, que pode ser “mata”, “floresta”, “cerrado”, “campo” ou “pantanal”. O sistema deve agrupar mata e floresta como Floresta Densa, cerrado ou campo como Vegetação Aberta, e pantanal como Zona Úmida. Se o operador digitar algo diferente, o sistema mostra “Tipo desconhecido”.</h4>"
      ],
      "metadata": {
        "id": "mpR1l2So8YyZ"
      }
    },
    {
      "cell_type": "code",
      "source": [
        "# Entrada do operador\n",
        "tipo_vegetacao = input(\"Informe o tipo de vegetação (mata, floresta, cerrado, campo, pantanal): \").lower()\n",
        "\n",
        "# Classificação usando match case com OR\n",
        "match tipo_vegetacao:\n",
        "    case \"mata\" | \"floresta\":\n",
        "        print(\"Classificação: Floresta Densa 🌳\")\n",
        "    case \"cerrado\" | \"campo\":\n",
        "        print(\"Classificação: Vegetação Aberta 🌾\")\n",
        "    case \"pantanal\":\n",
        "        print(\"Classificação: Zona Úmida 💧\")\n",
        "    case _:\n",
        "        print(\"Tipo desconhecido. Verifique a entrada e tente novamente.\")"
      ],
      "metadata": {
        "colab": {
          "base_uri": "https://localhost:8080/"
        },
        "id": "1tD3G14T9fWk",
        "outputId": "f265f9c0-5ab7-40c1-c221-24945aff8ede"
      },
      "execution_count": null,
      "outputs": [
        {
          "output_type": "stream",
          "name": "stdout",
          "text": [
            "Informe o tipo de vegetação (mata, floresta, cerrado, campo, pantanal): cerrado\n",
            "Classificação: Vegetação Aberta 🌾\n"
          ]
        }
      ]
    },
    {
      "cell_type": "markdown",
      "source": [
        "# **Desafio 2 - COPAM: Monitoramento Integrado de Risco Ambiental**"
      ],
      "metadata": {
        "id": "fUDgb212zRW3"
      }
    },
    {
      "cell_type": "markdown",
      "source": [
        "<center><img src=\"https://i.postimg.cc/GtN0PXMw/copam.jpg\"></center>"
      ],
      "metadata": {
        "id": "22shOvVf8GGZ"
      }
    },
    {
      "cell_type": "markdown",
      "source": [
        "<h4 align=\"justify\">O Centro de Operações de Controle Ambiental (COPAM), órgão estratégico do Ministério do Meio Ambiente, enfrenta um desafio crescente para responder com agilidade a situações de risco ambiental na Amazônia. Hoje, os registros de dados sobre desmatamento, queimadas, qualidade da água e umidade do solo ainda são fragmentados, o que dificulta alertas imediatos e decisões integradas no momento certo.</h4>\n",
        "<h4 align=\"justify\">Para superar essa limitação, o COPAM quer implementar um Sistema Automatizado de Monitoramento Integrado, operado pelo TecnoGuarda, que atuará como chefe de operações. Esse sistema precisa permitir que o operador insira manualmente, em cada ronda, quatro indicadores críticos: Nível de Desmatamento, Áreas Queimadas, Qualidade da Água e Umidade do Solo. Cada indicador será registrado com valores de 0 a 100.</h4>\n",
        "<h4 align=\"justify\">No cálculo do Indicador de Risco Ambiental, os pesos atribuídos devem refletir a prioridade de cada fator. O Nível de Desmatamento e as Áreas Queimadas são os mais críticos e devem ter peso 2 cada. Já a Qualidade da Água e a Umidade do Solo terão peso 1. O índice final será calculado somando os pesos aplicados e dividindo o total pela soma dos pesos, resultando em uma média ponderada.</h4>\n",
        "<h4 align=\"justify\">Os valores iniciais das variáveis devem começar em zero, mas o sistema solicitará ao operador que insira novos valores manualmente. Isso garante que cada rodada de monitoramento reflita dados reais do campo. Após receber os valores, o sistema imprimirá os quatro indicadores de forma clara na tela, permitindo ao TecnoGuarda conferir antes de gerar o cálculo de risco.</h4>\n",
        "<h4 align=\"justify\">A interpretação do Indicador de Risco Ambiental seguirá faixas definidas: abaixo de 30 o risco é Baixo (situação controlada); de 30 a 59 o risco é Moderado (intensificar monitoramento); de 60 a 79 o risco é Alto (equipes de prontidão). Quando o índice atingir 80 ou mais, o risco é classificado como Crítico, acionando imediatamente a sirene virtual 🚨 e disparando o Playbook de Resposta.</h4>\n",
        "<h4 align=\"justify\">Quando o nível crítico for atingido, o sistema deverá apresentar uma mensagem de alerta especial: “🚨🚨 Risco Crítico: Acionando sirene e carregando Playbook de Resposta!”. A partir disso, o código deve simular o carregamento do Playbook em três etapas, exibindo mensagens progressivas como “Carregando Playbook... Etapa 1/3”, “Carregando Playbook... Etapa 2/3”, e “Carregando Playbook... Etapa 3/3” para dar uma experiência realista ao TecnoGuarda.</h4>\n",
        "<h4 align=\"justify\">Após o carregamento do Playbook, o sistema exibirá uma mensagem final orientando o operador: “📑 Playbook de Ação Pronto! Execute as medidas emergenciais de contenção e resposta.” Essa resposta reforça que o Centro de Operações está preparado para agir de forma imediata frente a ameaças graves.</h4>\n",
        "<h4 align=\"justify\">Por fim, o desenvolvedor deverá garantir que todo o fluxo utilize input() para interação, operadores para o cálculo, match case para análise do nível de risco, for para simular o carregamento das etapas do Playbook e mensagens formatadas com print() para manter o operador totalmente informado a cada fase. Assim, o COPAM terá uma ferramenta simples, clara e eficaz para proteger a Amazônia em tempo real.</h4>"
      ],
      "metadata": {
        "id": "kVhom4o6zU0n"
      }
    },
    {
      "cell_type": "markdown",
      "source": [
        "# **Solução Desafio 2 - COPAM: Monitoramento Integrado de Risco Ambiental**"
      ],
      "metadata": {
        "id": "okquHVkFzYbZ"
      }
    },
    {
      "cell_type": "code",
      "source": [
        "# @title\n",
        "# Desafio COPAM: Monitoramento Integrado de Risco Ambiental\n",
        "\n",
        "print(\"\\n=== CENTRO DE OPERAÇÕES DE CONTROLE AMBIENTAL (COPAM) ===\")\n",
        "print(\"Bem-vindo, TecnoGuarda! Prepare-se para inserir os indicadores críticos.\\n\")\n",
        "\n",
        "# Variáveis iniciando em zero\n",
        "desmatamento = 0\n",
        "queimadas = 0\n",
        "qualidade_agua = 0\n",
        "umidade_solo = 0\n",
        "\n",
        "# Receber valores manuais do operador\n",
        "desmatamento = int(input(\"1️⃣ Informe o Nível de Desmatamento (0 a 100): \"))\n",
        "queimadas = int(input(\"2️⃣ Informe as Áreas Queimadas (0 a 100): \"))\n",
        "qualidade_agua = int(input(\"3️⃣ Informe a Qualidade da Água (0 a 100): \"))\n",
        "umidade_solo = int(input(\"4️⃣ Informe a Umidade do Solo (0 a 100): \"))\n",
        "\n",
        "# Exibir indicadores coletados\n",
        "print(\"\\n📊 Indicadores Coletados:\")\n",
        "print(f\"Nível de Desmatamento: {desmatamento}\")\n",
        "print(f\"Áreas Queimadas: {queimadas}\")\n",
        "print(f\"Qualidade da Água: {qualidade_agua}\")\n",
        "print(f\"Umidade do Solo: {umidade_solo}\")\n",
        "\n",
        "# Cálculo do Indicador de Risco Ambiental (média ponderada)\n",
        "peso_desmatamento = 2\n",
        "peso_queimadas = 2\n",
        "peso_qualidade = 1\n",
        "peso_umidade = 1\n",
        "\n",
        "soma_pesos = peso_desmatamento + peso_queimadas + peso_qualidade + peso_umidade\n",
        "\n",
        "indicador_risco = ((desmatamento * peso_desmatamento) +\n",
        "                   (queimadas * peso_queimadas) +\n",
        "                   (qualidade_agua * peso_qualidade) +\n",
        "                   (umidade_solo * peso_umidade)) / soma_pesos\n",
        "\n",
        "print(f\"\\n🔎 Indicador de Risco Ambiental: {indicador_risco:.2f}\")\n",
        "\n",
        "# Avaliação de risco usando match case (Python 3.10+)\n",
        "match indicador_risco:\n",
        "    case _ if indicador_risco < 30:\n",
        "        print(\"✅ Risco Baixo: Situação controlada.\")\n",
        "    case _ if 30 <= indicador_risco < 60:\n",
        "        print(\"⚠️ Risco Moderado: Intensificar monitoramento.\")\n",
        "    case _ if 60 <= indicador_risco < 80:\n",
        "        print(\"🚨 Risco Alto: Equipes de prontidão!\")\n",
        "    case _ if indicador_risco >= 80:\n",
        "        print(\"🚨🚨 Risco Crítico: Acionando sirene e carregando Playbook de Resposta!\")\n",
        "        for etapa in range(1, 4):\n",
        "            print(f\"Carregando Playbook... Etapa {etapa}/3\")\n",
        "        print(\"📑 Playbook de Ação Pronto! Execute as medidas emergenciais de contenção e resposta.\")\n",
        "    case _:\n",
        "        print(\"⚙️ Valor fora dos parâmetros esperados. Verifique os dados inseridos.\")\n"
      ],
      "metadata": {
        "cellView": "form",
        "id": "Krch_id9zSTy"
      },
      "execution_count": null,
      "outputs": []
    },
    {
      "cell_type": "markdown",
      "source": [
        "<center><img src=\"https://i.postimg.cc/8s8W6Sg2/Chat-GPT-Image-5-de-jul-de-2025-15-44-55-Photoroom.png\" width=50%></center>"
      ],
      "metadata": {
        "id": "ba21f_bB6HXj"
      }
    }
  ]
}